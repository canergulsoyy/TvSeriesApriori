{
 "cells": [
  {
   "cell_type": "code",
   "execution_count": 1,
   "id": "8f0ebcf8",
   "metadata": {},
   "outputs": [],
   "source": [
    "import pandas as pd\n",
    "import numpy as np\n",
    "import plotly.express as px\n",
    "import plotly.graph_objects as go\n",
    "import networkx as nx\n",
    "from mlxtend.preprocessing import TransactionEncoder\n",
    "from mlxtend.frequent_patterns import apriori,association_rules\n",
    "import matplotlib.pyplot as plt\n",
    "plt.style.use('default')"
   ]
  },
  {
   "cell_type": "code",
   "execution_count": 39,
   "id": "0ddac7bf",
   "metadata": {},
   "outputs": [
    {
     "data": {
      "text/plain": [
       "(9690, 32)"
      ]
     },
     "execution_count": 39,
     "metadata": {},
     "output_type": "execute_result"
    }
   ],
   "source": [
    "data = pd.read_csv(\"Tv Shows.csv\", header=None)\n",
    "data.shape"
   ]
  },
  {
   "cell_type": "code",
   "execution_count": 40,
   "id": "def7ae89",
   "metadata": {},
   "outputs": [
    {
     "data": {
      "text/html": [
       "<div>\n",
       "<style scoped>\n",
       "    .dataframe tbody tr th:only-of-type {\n",
       "        vertical-align: middle;\n",
       "    }\n",
       "\n",
       "    .dataframe tbody tr th {\n",
       "        vertical-align: top;\n",
       "    }\n",
       "\n",
       "    .dataframe thead th {\n",
       "        text-align: right;\n",
       "    }\n",
       "</style>\n",
       "<table border=\"1\" class=\"dataframe\">\n",
       "  <thead>\n",
       "    <tr style=\"text-align: right;\">\n",
       "      <th></th>\n",
       "      <th>0</th>\n",
       "      <th>1</th>\n",
       "      <th>2</th>\n",
       "      <th>3</th>\n",
       "      <th>4</th>\n",
       "      <th>5</th>\n",
       "      <th>6</th>\n",
       "      <th>7</th>\n",
       "      <th>8</th>\n",
       "      <th>9</th>\n",
       "      <th>...</th>\n",
       "      <th>22</th>\n",
       "      <th>23</th>\n",
       "      <th>24</th>\n",
       "      <th>25</th>\n",
       "      <th>26</th>\n",
       "      <th>27</th>\n",
       "      <th>28</th>\n",
       "      <th>29</th>\n",
       "      <th>30</th>\n",
       "      <th>31</th>\n",
       "    </tr>\n",
       "  </thead>\n",
       "  <tbody>\n",
       "    <tr>\n",
       "      <th>0</th>\n",
       "      <td>Cobra Kai</td>\n",
       "      <td>Lupin</td>\n",
       "      <td>12 Monkeys</td>\n",
       "      <td>Sherlock</td>\n",
       "      <td>NaN</td>\n",
       "      <td>NaN</td>\n",
       "      <td>NaN</td>\n",
       "      <td>NaN</td>\n",
       "      <td>NaN</td>\n",
       "      <td>NaN</td>\n",
       "      <td>...</td>\n",
       "      <td>NaN</td>\n",
       "      <td>NaN</td>\n",
       "      <td>NaN</td>\n",
       "      <td>NaN</td>\n",
       "      <td>NaN</td>\n",
       "      <td>NaN</td>\n",
       "      <td>NaN</td>\n",
       "      <td>NaN</td>\n",
       "      <td>NaN</td>\n",
       "      <td>NaN</td>\n",
       "    </tr>\n",
       "    <tr>\n",
       "      <th>1</th>\n",
       "      <td>Lost</td>\n",
       "      <td>Jack Ryan</td>\n",
       "      <td>The Flash</td>\n",
       "      <td>Game of thrones</td>\n",
       "      <td>House of Cards</td>\n",
       "      <td>12 Monkeys</td>\n",
       "      <td>Vikings</td>\n",
       "      <td>Fringe</td>\n",
       "      <td>The Mentalist</td>\n",
       "      <td>The Alienist</td>\n",
       "      <td>...</td>\n",
       "      <td>NaN</td>\n",
       "      <td>NaN</td>\n",
       "      <td>NaN</td>\n",
       "      <td>NaN</td>\n",
       "      <td>NaN</td>\n",
       "      <td>NaN</td>\n",
       "      <td>NaN</td>\n",
       "      <td>NaN</td>\n",
       "      <td>NaN</td>\n",
       "      <td>NaN</td>\n",
       "    </tr>\n",
       "    <tr>\n",
       "      <th>2</th>\n",
       "      <td>Sex Education</td>\n",
       "      <td>Dr. House</td>\n",
       "      <td>Kingdom</td>\n",
       "      <td>The Walking Dead</td>\n",
       "      <td>NaN</td>\n",
       "      <td>NaN</td>\n",
       "      <td>NaN</td>\n",
       "      <td>NaN</td>\n",
       "      <td>NaN</td>\n",
       "      <td>NaN</td>\n",
       "      <td>...</td>\n",
       "      <td>NaN</td>\n",
       "      <td>NaN</td>\n",
       "      <td>NaN</td>\n",
       "      <td>NaN</td>\n",
       "      <td>NaN</td>\n",
       "      <td>NaN</td>\n",
       "      <td>NaN</td>\n",
       "      <td>NaN</td>\n",
       "      <td>NaN</td>\n",
       "      <td>NaN</td>\n",
       "    </tr>\n",
       "    <tr>\n",
       "      <th>3</th>\n",
       "      <td>Ozark</td>\n",
       "      <td>Sex Education</td>\n",
       "      <td>Constantine</td>\n",
       "      <td>Preacher</td>\n",
       "      <td>Vikings</td>\n",
       "      <td>The Tick</td>\n",
       "      <td>NaN</td>\n",
       "      <td>NaN</td>\n",
       "      <td>NaN</td>\n",
       "      <td>NaN</td>\n",
       "      <td>...</td>\n",
       "      <td>NaN</td>\n",
       "      <td>NaN</td>\n",
       "      <td>NaN</td>\n",
       "      <td>NaN</td>\n",
       "      <td>NaN</td>\n",
       "      <td>NaN</td>\n",
       "      <td>NaN</td>\n",
       "      <td>NaN</td>\n",
       "      <td>NaN</td>\n",
       "      <td>NaN</td>\n",
       "    </tr>\n",
       "    <tr>\n",
       "      <th>4</th>\n",
       "      <td>Naruto</td>\n",
       "      <td>NaN</td>\n",
       "      <td>NaN</td>\n",
       "      <td>NaN</td>\n",
       "      <td>NaN</td>\n",
       "      <td>NaN</td>\n",
       "      <td>NaN</td>\n",
       "      <td>NaN</td>\n",
       "      <td>NaN</td>\n",
       "      <td>NaN</td>\n",
       "      <td>...</td>\n",
       "      <td>NaN</td>\n",
       "      <td>NaN</td>\n",
       "      <td>NaN</td>\n",
       "      <td>NaN</td>\n",
       "      <td>NaN</td>\n",
       "      <td>NaN</td>\n",
       "      <td>NaN</td>\n",
       "      <td>NaN</td>\n",
       "      <td>NaN</td>\n",
       "      <td>NaN</td>\n",
       "    </tr>\n",
       "  </tbody>\n",
       "</table>\n",
       "<p>5 rows × 32 columns</p>\n",
       "</div>"
      ],
      "text/plain": [
       "              0              1            2                 3   \\\n",
       "0      Cobra Kai          Lupin   12 Monkeys          Sherlock   \n",
       "1           Lost      Jack Ryan    The Flash   Game of thrones   \n",
       "2  Sex Education      Dr. House      Kingdom  The Walking Dead   \n",
       "3          Ozark  Sex Education  Constantine          Preacher   \n",
       "4         Naruto            NaN          NaN               NaN   \n",
       "\n",
       "               4           5        6       7              8             9   \\\n",
       "0             NaN         NaN      NaN     NaN            NaN           NaN   \n",
       "1  House of Cards  12 Monkeys  Vikings  Fringe  The Mentalist  The Alienist   \n",
       "2             NaN         NaN      NaN     NaN            NaN           NaN   \n",
       "3         Vikings    The Tick      NaN     NaN            NaN           NaN   \n",
       "4             NaN         NaN      NaN     NaN            NaN           NaN   \n",
       "\n",
       "   ...   22   23   24   25   26   27   28   29   30   31  \n",
       "0  ...  NaN  NaN  NaN  NaN  NaN  NaN  NaN  NaN  NaN  NaN  \n",
       "1  ...  NaN  NaN  NaN  NaN  NaN  NaN  NaN  NaN  NaN  NaN  \n",
       "2  ...  NaN  NaN  NaN  NaN  NaN  NaN  NaN  NaN  NaN  NaN  \n",
       "3  ...  NaN  NaN  NaN  NaN  NaN  NaN  NaN  NaN  NaN  NaN  \n",
       "4  ...  NaN  NaN  NaN  NaN  NaN  NaN  NaN  NaN  NaN  NaN  \n",
       "\n",
       "[5 rows x 32 columns]"
      ]
     },
     "execution_count": 40,
     "metadata": {},
     "output_type": "execute_result"
    }
   ],
   "source": [
    "data.head()"
   ]
  },
  {
   "cell_type": "code",
   "execution_count": 41,
   "id": "7f41d172",
   "metadata": {},
   "outputs": [
    {
     "data": {
      "text/html": [
       "<div>\n",
       "<style scoped>\n",
       "    .dataframe tbody tr th:only-of-type {\n",
       "        vertical-align: middle;\n",
       "    }\n",
       "\n",
       "    .dataframe tbody tr th {\n",
       "        vertical-align: top;\n",
       "    }\n",
       "\n",
       "    .dataframe thead th {\n",
       "        text-align: right;\n",
       "    }\n",
       "</style>\n",
       "<table border=\"1\" class=\"dataframe\">\n",
       "  <thead>\n",
       "    <tr style=\"text-align: right;\">\n",
       "      <th></th>\n",
       "      <th>0</th>\n",
       "      <th>1</th>\n",
       "      <th>2</th>\n",
       "      <th>3</th>\n",
       "      <th>4</th>\n",
       "      <th>5</th>\n",
       "      <th>6</th>\n",
       "      <th>7</th>\n",
       "      <th>8</th>\n",
       "      <th>9</th>\n",
       "      <th>...</th>\n",
       "      <th>22</th>\n",
       "      <th>23</th>\n",
       "      <th>24</th>\n",
       "      <th>25</th>\n",
       "      <th>26</th>\n",
       "      <th>27</th>\n",
       "      <th>28</th>\n",
       "      <th>29</th>\n",
       "      <th>30</th>\n",
       "      <th>31</th>\n",
       "    </tr>\n",
       "  </thead>\n",
       "  <tbody>\n",
       "    <tr>\n",
       "      <th>count</th>\n",
       "      <td>9690</td>\n",
       "      <td>7557</td>\n",
       "      <td>5947</td>\n",
       "      <td>4667</td>\n",
       "      <td>3678</td>\n",
       "      <td>2837</td>\n",
       "      <td>2197</td>\n",
       "      <td>1664</td>\n",
       "      <td>1231</td>\n",
       "      <td>887</td>\n",
       "      <td>...</td>\n",
       "      <td>14</td>\n",
       "      <td>8</td>\n",
       "      <td>7</td>\n",
       "      <td>7</td>\n",
       "      <td>6</td>\n",
       "      <td>5</td>\n",
       "      <td>4</td>\n",
       "      <td>1</td>\n",
       "      <td>1</td>\n",
       "      <td>1</td>\n",
       "    </tr>\n",
       "    <tr>\n",
       "      <th>unique</th>\n",
       "      <td>156</td>\n",
       "      <td>145</td>\n",
       "      <td>147</td>\n",
       "      <td>145</td>\n",
       "      <td>142</td>\n",
       "      <td>130</td>\n",
       "      <td>132</td>\n",
       "      <td>133</td>\n",
       "      <td>122</td>\n",
       "      <td>115</td>\n",
       "      <td>...</td>\n",
       "      <td>13</td>\n",
       "      <td>7</td>\n",
       "      <td>6</td>\n",
       "      <td>7</td>\n",
       "      <td>5</td>\n",
       "      <td>4</td>\n",
       "      <td>3</td>\n",
       "      <td>1</td>\n",
       "      <td>1</td>\n",
       "      <td>1</td>\n",
       "    </tr>\n",
       "    <tr>\n",
       "      <th>top</th>\n",
       "      <td>Daredevil</td>\n",
       "      <td>Sex Education</td>\n",
       "      <td>Sex Education</td>\n",
       "      <td>Sex Education</td>\n",
       "      <td>Two and a half men</td>\n",
       "      <td>Outer Banks</td>\n",
       "      <td>Outer Banks</td>\n",
       "      <td>Lucifer</td>\n",
       "      <td>Outer Banks</td>\n",
       "      <td>Lucifer</td>\n",
       "      <td>...</td>\n",
       "      <td>Spartacus</td>\n",
       "      <td>Dark</td>\n",
       "      <td>Shadow and Bone</td>\n",
       "      <td>The Queen's Gambit</td>\n",
       "      <td>Big Little Lies</td>\n",
       "      <td>Chernobyl</td>\n",
       "      <td>Startup</td>\n",
       "      <td>You</td>\n",
       "      <td>Big Little Lies</td>\n",
       "      <td>Dark</td>\n",
       "    </tr>\n",
       "    <tr>\n",
       "      <th>freq</th>\n",
       "      <td>811</td>\n",
       "      <td>646</td>\n",
       "      <td>499</td>\n",
       "      <td>310</td>\n",
       "      <td>174</td>\n",
       "      <td>149</td>\n",
       "      <td>120</td>\n",
       "      <td>74</td>\n",
       "      <td>60</td>\n",
       "      <td>48</td>\n",
       "      <td>...</td>\n",
       "      <td>2</td>\n",
       "      <td>2</td>\n",
       "      <td>2</td>\n",
       "      <td>1</td>\n",
       "      <td>2</td>\n",
       "      <td>2</td>\n",
       "      <td>2</td>\n",
       "      <td>1</td>\n",
       "      <td>1</td>\n",
       "      <td>1</td>\n",
       "    </tr>\n",
       "  </tbody>\n",
       "</table>\n",
       "<p>4 rows × 32 columns</p>\n",
       "</div>"
      ],
      "text/plain": [
       "               0              1              2              3   \\\n",
       "count        9690           7557           5947           4667   \n",
       "unique        156            145            147            145   \n",
       "top     Daredevil  Sex Education  Sex Education  Sex Education   \n",
       "freq          811            646            499            310   \n",
       "\n",
       "                        4            5            6        7            8   \\\n",
       "count                 3678         2837         2197     1664         1231   \n",
       "unique                 142          130          132      133          122   \n",
       "top     Two and a half men  Outer Banks  Outer Banks  Lucifer  Outer Banks   \n",
       "freq                   174          149          120       74           60   \n",
       "\n",
       "             9   ...         22    23               24                  25  \\\n",
       "count       887  ...         14     8                7                   7   \n",
       "unique      115  ...         13     7                6                   7   \n",
       "top     Lucifer  ...  Spartacus  Dark  Shadow and Bone  The Queen's Gambit   \n",
       "freq         48  ...          2     2                2                   1   \n",
       "\n",
       "                     26         27       28   29               30    31  \n",
       "count                 6          5        4    1                1     1  \n",
       "unique                5          4        3    1                1     1  \n",
       "top     Big Little Lies  Chernobyl  Startup  You  Big Little Lies  Dark  \n",
       "freq                  2          2        2    1                1     1  \n",
       "\n",
       "[4 rows x 32 columns]"
      ]
     },
     "execution_count": 41,
     "metadata": {},
     "output_type": "execute_result"
    }
   ],
   "source": [
    "data.describe()"
   ]
  },
  {
   "cell_type": "code",
   "execution_count": 42,
   "id": "ad71a68a",
   "metadata": {
    "scrolled": true
   },
   "outputs": [
    {
     "data": {
      "text/plain": [
       "0               Lupin\n",
       "1           Jack Ryan\n",
       "2           Dr. House\n",
       "3       Sex Education\n",
       "4                 NaN\n",
       "            ...      \n",
       "9685    The Blacklist\n",
       "9686        Mr. Robot\n",
       "9687         Atypical\n",
       "9688     The Newsroom\n",
       "9689              NaN\n",
       "Name: 1, Length: 9690, dtype: object"
      ]
     },
     "execution_count": 42,
     "metadata": {},
     "output_type": "execute_result"
    }
   ],
   "source": [
    "data[1]"
   ]
  },
  {
   "cell_type": "markdown",
   "id": "9801e7ca",
   "metadata": {},
   "source": [
    "# Data Visualizations"
   ]
  },
  {
   "cell_type": "code",
   "execution_count": 43,
   "id": "60123b72",
   "metadata": {},
   "outputs": [
    {
     "data": {
      "text/html": [
       "<style type=\"text/css\">\n",
       "#T_3b3d9_row0_col1 {\n",
       "  background-color: #08306b;\n",
       "  color: #f1f1f1;\n",
       "}\n",
       "#T_3b3d9_row1_col1 {\n",
       "  background-color: #4594c7;\n",
       "  color: #f1f1f1;\n",
       "}\n",
       "#T_3b3d9_row2_col1 {\n",
       "  background-color: #5aa2cf;\n",
       "  color: #f1f1f1;\n",
       "}\n",
       "#T_3b3d9_row3_col1 {\n",
       "  background-color: #6aaed6;\n",
       "  color: #f1f1f1;\n",
       "}\n",
       "#T_3b3d9_row4_col1 {\n",
       "  background-color: #bcd7eb;\n",
       "  color: #000000;\n",
       "}\n",
       "#T_3b3d9_row5_col1 {\n",
       "  background-color: #e3eef8;\n",
       "  color: #000000;\n",
       "}\n",
       "#T_3b3d9_row6_col1 {\n",
       "  background-color: #e4eff9;\n",
       "  color: #000000;\n",
       "}\n",
       "#T_3b3d9_row7_col1 {\n",
       "  background-color: #eaf2fb;\n",
       "  color: #000000;\n",
       "}\n",
       "#T_3b3d9_row8_col1 {\n",
       "  background-color: #f2f8fd;\n",
       "  color: #000000;\n",
       "}\n",
       "#T_3b3d9_row9_col1 {\n",
       "  background-color: #f7fbff;\n",
       "  color: #000000;\n",
       "}\n",
       "</style>\n",
       "<table id=\"T_3b3d9_\">\n",
       "  <thead>\n",
       "    <tr>\n",
       "      <th class=\"blank level0\" >&nbsp;</th>\n",
       "      <th class=\"col_heading level0 col0\" >items</th>\n",
       "      <th class=\"col_heading level0 col1\" >incident_count</th>\n",
       "    </tr>\n",
       "  </thead>\n",
       "  <tbody>\n",
       "    <tr>\n",
       "      <th id=\"T_3b3d9_level0_row0\" class=\"row_heading level0 row0\" >0</th>\n",
       "      <td id=\"T_3b3d9_row0_col0\" class=\"data row0 col0\" >Sex Education</td>\n",
       "      <td id=\"T_3b3d9_row0_col1\" class=\"data row0 col1\" >2477</td>\n",
       "    </tr>\n",
       "    <tr>\n",
       "      <th id=\"T_3b3d9_level0_row1\" class=\"row_heading level0 row1\" >1</th>\n",
       "      <td id=\"T_3b3d9_row1_col0\" class=\"data row1 col0\" >Ozark</td>\n",
       "      <td id=\"T_3b3d9_row1_col1\" class=\"data row1 col1\" >1877</td>\n",
       "    </tr>\n",
       "    <tr>\n",
       "      <th id=\"T_3b3d9_level0_row2\" class=\"row_heading level0 row2\" >2</th>\n",
       "      <td id=\"T_3b3d9_row2_col0\" class=\"data row2 col0\" >Two and a half men</td>\n",
       "      <td id=\"T_3b3d9_row2_col1\" class=\"data row2 col1\" >1779</td>\n",
       "    </tr>\n",
       "    <tr>\n",
       "      <th id=\"T_3b3d9_level0_row3\" class=\"row_heading level0 row3\" >3</th>\n",
       "      <td id=\"T_3b3d9_row3_col0\" class=\"data row3 col0\" >Outer Banks</td>\n",
       "      <td id=\"T_3b3d9_row3_col1\" class=\"data row3 col1\" >1696</td>\n",
       "    </tr>\n",
       "    <tr>\n",
       "      <th id=\"T_3b3d9_level0_row4\" class=\"row_heading level0 row4\" >4</th>\n",
       "      <td id=\"T_3b3d9_row4_col0\" class=\"data row4 col0\" >Atypical</td>\n",
       "      <td id=\"T_3b3d9_row4_col1\" class=\"data row4 col1\" >1356</td>\n",
       "    </tr>\n",
       "    <tr>\n",
       "      <th id=\"T_3b3d9_level0_row5\" class=\"row_heading level0 row5\" >5</th>\n",
       "      <td id=\"T_3b3d9_row5_col0\" class=\"data row5 col0\" >Stranger Things</td>\n",
       "      <td id=\"T_3b3d9_row5_col1\" class=\"data row5 col1\" >1070</td>\n",
       "    </tr>\n",
       "    <tr>\n",
       "      <th id=\"T_3b3d9_level0_row6\" class=\"row_heading level0 row6\" >6</th>\n",
       "      <td id=\"T_3b3d9_row6_col0\" class=\"data row6 col0\" >Mr. Robot</td>\n",
       "      <td id=\"T_3b3d9_row6_col1\" class=\"data row6 col1\" >1060</td>\n",
       "    </tr>\n",
       "    <tr>\n",
       "      <th id=\"T_3b3d9_level0_row7\" class=\"row_heading level0 row7\" >7</th>\n",
       "      <td id=\"T_3b3d9_row7_col0\" class=\"data row7 col0\" >The Blacklist</td>\n",
       "      <td id=\"T_3b3d9_row7_col1\" class=\"data row7 col1\" >1016</td>\n",
       "    </tr>\n",
       "    <tr>\n",
       "      <th id=\"T_3b3d9_level0_row8\" class=\"row_heading level0 row8\" >8</th>\n",
       "      <td id=\"T_3b3d9_row8_col0\" class=\"data row8 col0\" >Lucifer</td>\n",
       "      <td id=\"T_3b3d9_row8_col1\" class=\"data row8 col1\" >949</td>\n",
       "    </tr>\n",
       "    <tr>\n",
       "      <th id=\"T_3b3d9_level0_row9\" class=\"row_heading level0 row9\" >9</th>\n",
       "      <td id=\"T_3b3d9_row9_col0\" class=\"data row9 col0\" >Daredevil</td>\n",
       "      <td id=\"T_3b3d9_row9_col1\" class=\"data row9 col1\" >910</td>\n",
       "    </tr>\n",
       "  </tbody>\n",
       "</table>\n"
      ],
      "text/plain": [
       "<pandas.io.formats.style.Styler at 0x1ca581c5670>"
      ]
     },
     "execution_count": 43,
     "metadata": {},
     "output_type": "execute_result"
    }
   ],
   "source": [
    "transaction = []\n",
    "for i in range(0, data.shape[0]):\n",
    "    for j in range(0, data.shape[1]):\n",
    "        transaction.append(data.values[i,j])\n",
    "\n",
    "transaction = np.array(transaction)\n",
    "\n",
    "# 2. Transform Them a Pandas DataFrame\n",
    "df = pd.DataFrame(transaction, columns=[\"items\"]) \n",
    "df[\"incident_count\"] = 1 # Put 1 to Each Item For Making Countable Table, to be able to perform Group By\n",
    "\n",
    "# 3. Delete NaN Items from Dataset\n",
    "indexNames = df[df['items'] == \"nan\" ].index\n",
    "df.drop(indexNames , inplace=True)\n",
    "\n",
    "# 4. Final Step: Make a New Appropriate Pandas DataFrame for Visualizations  \n",
    "df_table = df.groupby(\"items\").sum().sort_values(\"incident_count\", ascending=False).reset_index()\n",
    "\n",
    "# 5. Initial Visualizations\n",
    "df_table.head(10).style.background_gradient(cmap='Blues')"
   ]
  },
  {
   "cell_type": "code",
   "execution_count": 44,
   "id": "aa6d3af2",
   "metadata": {},
   "outputs": [
    {
     "data": {
      "application/vnd.plotly.v1+json": {
       "config": {
        "plotlyServerURL": "https://plot.ly"
       },
       "data": [
        {
         "branchvalues": "total",
         "customdata": [
          [
           "12 Monkeys",
           568
          ],
          [
           "Absentia",
           747
          ],
          [
           "Archer",
           560
          ],
          [
           "Atypical",
           1356
          ],
          [
           "Berlin Station",
           538
          ],
          [
           "Chernobyl",
           506
          ],
          [
           "Cobra Kai",
           805
          ],
          [
           "Daredevil",
           910
          ],
          [
           "Dark",
           873
          ],
          [
           "Demon Slayer",
           731
          ],
          [
           "Dr. House",
           616
          ],
          [
           "Family Guy",
           693
          ],
          [
           "Hanna",
           573
          ],
          [
           "How I met your mother",
           779
          ],
          [
           "Jack Ryan",
           521
          ],
          [
           "Kingdom",
           630
          ],
          [
           "Lucifer",
           949
          ],
          [
           "Mr. Robot",
           1060
          ],
          [
           "One Piece",
           561
          ],
          [
           "Outer Banks",
           1696
          ],
          [
           "Ozark",
           1877
          ],
          [
           "Queen of the South",
           510
          ],
          [
           "Sex Education",
           2477
          ],
          [
           "Shadow and Bone",
           483
          ],
          [
           "Stranger Things",
           1070
          ],
          [
           "The Blacklist",
           1016
          ],
          [
           "The Mentalist",
           703
          ],
          [
           "The Walking Dead",
           859
          ],
          [
           "The Wire",
           658
          ],
          [
           "Two and a half men",
           1779
          ],
          [
           "(?)",
           1150.7052833530106
          ]
         ],
         "domain": {
          "x": [
           0,
           1
          ],
          "y": [
           0,
           1
          ]
         },
         "hovertemplate": "labels=%{label}<br>incident_count=%{value}<br>parent=%{parent}<br>id=%{id}<br>items=%{customdata[0]}<br>color=%{color}<extra></extra>",
         "ids": [
          "all/12 Monkeys",
          "all/Absentia",
          "all/Archer",
          "all/Atypical",
          "all/Berlin Station",
          "all/Chernobyl",
          "all/Cobra Kai",
          "all/Daredevil",
          "all/Dark",
          "all/Demon Slayer",
          "all/Dr. House",
          "all/Family Guy",
          "all/Hanna",
          "all/How I met your mother",
          "all/Jack Ryan",
          "all/Kingdom",
          "all/Lucifer",
          "all/Mr. Robot",
          "all/One Piece",
          "all/Outer Banks",
          "all/Ozark",
          "all/Queen of the South",
          "all/Sex Education",
          "all/Shadow and Bone",
          "all/Stranger Things",
          "all/The Blacklist",
          "all/The Mentalist",
          "all/The Walking Dead",
          "all/The Wire",
          "all/Two and a half men",
          "all"
         ],
         "labels": [
          "12 Monkeys",
          "Absentia",
          "Archer",
          "Atypical",
          "Berlin Station",
          "Chernobyl",
          "Cobra Kai",
          "Daredevil",
          "Dark",
          "Demon Slayer",
          "Dr. House",
          "Family Guy",
          "Hanna",
          "How I met your mother",
          "Jack Ryan",
          "Kingdom",
          "Lucifer",
          "Mr. Robot",
          "One Piece",
          "Outer Banks",
          "Ozark",
          "Queen of the South",
          "Sex Education",
          "Shadow and Bone",
          "Stranger Things",
          "The Blacklist",
          "The Mentalist",
          "The Walking Dead",
          "The Wire",
          "Two and a half men",
          "all"
         ],
         "marker": {
          "coloraxis": "coloraxis",
          "colors": [
           568,
           747,
           560,
           1356,
           538,
           506,
           805,
           910,
           873,
           731,
           616,
           693,
           573,
           779,
           521,
           630,
           949,
           1060,
           561,
           1696,
           1877,
           510,
           2477,
           483,
           1070,
           1016,
           703,
           859,
           658,
           1779,
           1150.7052833530106
          ]
         },
         "name": "",
         "parents": [
          "all",
          "all",
          "all",
          "all",
          "all",
          "all",
          "all",
          "all",
          "all",
          "all",
          "all",
          "all",
          "all",
          "all",
          "all",
          "all",
          "all",
          "all",
          "all",
          "all",
          "all",
          "all",
          "all",
          "all",
          "all",
          "all",
          "all",
          "all",
          "all",
          "all",
          ""
         ],
         "type": "treemap",
         "values": [
          568,
          747,
          560,
          1356,
          538,
          506,
          805,
          910,
          873,
          731,
          616,
          693,
          573,
          779,
          521,
          630,
          949,
          1060,
          561,
          1696,
          1877,
          510,
          2477,
          483,
          1070,
          1016,
          703,
          859,
          658,
          1779,
          27104
         ]
        }
       ],
       "layout": {
        "coloraxis": {
         "colorbar": {
          "title": {
           "text": "color"
          }
         },
         "colorscale": [
          [
           0,
           "rgb(247,251,255)"
          ],
          [
           0.125,
           "rgb(222,235,247)"
          ],
          [
           0.25,
           "rgb(198,219,239)"
          ],
          [
           0.375,
           "rgb(158,202,225)"
          ],
          [
           0.5,
           "rgb(107,174,214)"
          ],
          [
           0.625,
           "rgb(66,146,198)"
          ],
          [
           0.75,
           "rgb(33,113,181)"
          ],
          [
           0.875,
           "rgb(8,81,156)"
          ],
          [
           1,
           "rgb(8,48,107)"
          ]
         ]
        },
        "legend": {
         "tracegroupgap": 0
        },
        "margin": {
         "t": 60
        },
        "template": {
         "data": {
          "bar": [
           {
            "error_x": {
             "color": "#2a3f5f"
            },
            "error_y": {
             "color": "#2a3f5f"
            },
            "marker": {
             "line": {
              "color": "#E5ECF6",
              "width": 0.5
             },
             "pattern": {
              "fillmode": "overlay",
              "size": 10,
              "solidity": 0.2
             }
            },
            "type": "bar"
           }
          ],
          "barpolar": [
           {
            "marker": {
             "line": {
              "color": "#E5ECF6",
              "width": 0.5
             },
             "pattern": {
              "fillmode": "overlay",
              "size": 10,
              "solidity": 0.2
             }
            },
            "type": "barpolar"
           }
          ],
          "carpet": [
           {
            "aaxis": {
             "endlinecolor": "#2a3f5f",
             "gridcolor": "white",
             "linecolor": "white",
             "minorgridcolor": "white",
             "startlinecolor": "#2a3f5f"
            },
            "baxis": {
             "endlinecolor": "#2a3f5f",
             "gridcolor": "white",
             "linecolor": "white",
             "minorgridcolor": "white",
             "startlinecolor": "#2a3f5f"
            },
            "type": "carpet"
           }
          ],
          "choropleth": [
           {
            "colorbar": {
             "outlinewidth": 0,
             "ticks": ""
            },
            "type": "choropleth"
           }
          ],
          "contour": [
           {
            "colorbar": {
             "outlinewidth": 0,
             "ticks": ""
            },
            "colorscale": [
             [
              0,
              "#0d0887"
             ],
             [
              0.1111111111111111,
              "#46039f"
             ],
             [
              0.2222222222222222,
              "#7201a8"
             ],
             [
              0.3333333333333333,
              "#9c179e"
             ],
             [
              0.4444444444444444,
              "#bd3786"
             ],
             [
              0.5555555555555556,
              "#d8576b"
             ],
             [
              0.6666666666666666,
              "#ed7953"
             ],
             [
              0.7777777777777778,
              "#fb9f3a"
             ],
             [
              0.8888888888888888,
              "#fdca26"
             ],
             [
              1,
              "#f0f921"
             ]
            ],
            "type": "contour"
           }
          ],
          "contourcarpet": [
           {
            "colorbar": {
             "outlinewidth": 0,
             "ticks": ""
            },
            "type": "contourcarpet"
           }
          ],
          "heatmap": [
           {
            "colorbar": {
             "outlinewidth": 0,
             "ticks": ""
            },
            "colorscale": [
             [
              0,
              "#0d0887"
             ],
             [
              0.1111111111111111,
              "#46039f"
             ],
             [
              0.2222222222222222,
              "#7201a8"
             ],
             [
              0.3333333333333333,
              "#9c179e"
             ],
             [
              0.4444444444444444,
              "#bd3786"
             ],
             [
              0.5555555555555556,
              "#d8576b"
             ],
             [
              0.6666666666666666,
              "#ed7953"
             ],
             [
              0.7777777777777778,
              "#fb9f3a"
             ],
             [
              0.8888888888888888,
              "#fdca26"
             ],
             [
              1,
              "#f0f921"
             ]
            ],
            "type": "heatmap"
           }
          ],
          "heatmapgl": [
           {
            "colorbar": {
             "outlinewidth": 0,
             "ticks": ""
            },
            "colorscale": [
             [
              0,
              "#0d0887"
             ],
             [
              0.1111111111111111,
              "#46039f"
             ],
             [
              0.2222222222222222,
              "#7201a8"
             ],
             [
              0.3333333333333333,
              "#9c179e"
             ],
             [
              0.4444444444444444,
              "#bd3786"
             ],
             [
              0.5555555555555556,
              "#d8576b"
             ],
             [
              0.6666666666666666,
              "#ed7953"
             ],
             [
              0.7777777777777778,
              "#fb9f3a"
             ],
             [
              0.8888888888888888,
              "#fdca26"
             ],
             [
              1,
              "#f0f921"
             ]
            ],
            "type": "heatmapgl"
           }
          ],
          "histogram": [
           {
            "marker": {
             "pattern": {
              "fillmode": "overlay",
              "size": 10,
              "solidity": 0.2
             }
            },
            "type": "histogram"
           }
          ],
          "histogram2d": [
           {
            "colorbar": {
             "outlinewidth": 0,
             "ticks": ""
            },
            "colorscale": [
             [
              0,
              "#0d0887"
             ],
             [
              0.1111111111111111,
              "#46039f"
             ],
             [
              0.2222222222222222,
              "#7201a8"
             ],
             [
              0.3333333333333333,
              "#9c179e"
             ],
             [
              0.4444444444444444,
              "#bd3786"
             ],
             [
              0.5555555555555556,
              "#d8576b"
             ],
             [
              0.6666666666666666,
              "#ed7953"
             ],
             [
              0.7777777777777778,
              "#fb9f3a"
             ],
             [
              0.8888888888888888,
              "#fdca26"
             ],
             [
              1,
              "#f0f921"
             ]
            ],
            "type": "histogram2d"
           }
          ],
          "histogram2dcontour": [
           {
            "colorbar": {
             "outlinewidth": 0,
             "ticks": ""
            },
            "colorscale": [
             [
              0,
              "#0d0887"
             ],
             [
              0.1111111111111111,
              "#46039f"
             ],
             [
              0.2222222222222222,
              "#7201a8"
             ],
             [
              0.3333333333333333,
              "#9c179e"
             ],
             [
              0.4444444444444444,
              "#bd3786"
             ],
             [
              0.5555555555555556,
              "#d8576b"
             ],
             [
              0.6666666666666666,
              "#ed7953"
             ],
             [
              0.7777777777777778,
              "#fb9f3a"
             ],
             [
              0.8888888888888888,
              "#fdca26"
             ],
             [
              1,
              "#f0f921"
             ]
            ],
            "type": "histogram2dcontour"
           }
          ],
          "mesh3d": [
           {
            "colorbar": {
             "outlinewidth": 0,
             "ticks": ""
            },
            "type": "mesh3d"
           }
          ],
          "parcoords": [
           {
            "line": {
             "colorbar": {
              "outlinewidth": 0,
              "ticks": ""
             }
            },
            "type": "parcoords"
           }
          ],
          "pie": [
           {
            "automargin": true,
            "type": "pie"
           }
          ],
          "scatter": [
           {
            "fillpattern": {
             "fillmode": "overlay",
             "size": 10,
             "solidity": 0.2
            },
            "type": "scatter"
           }
          ],
          "scatter3d": [
           {
            "line": {
             "colorbar": {
              "outlinewidth": 0,
              "ticks": ""
             }
            },
            "marker": {
             "colorbar": {
              "outlinewidth": 0,
              "ticks": ""
             }
            },
            "type": "scatter3d"
           }
          ],
          "scattercarpet": [
           {
            "marker": {
             "colorbar": {
              "outlinewidth": 0,
              "ticks": ""
             }
            },
            "type": "scattercarpet"
           }
          ],
          "scattergeo": [
           {
            "marker": {
             "colorbar": {
              "outlinewidth": 0,
              "ticks": ""
             }
            },
            "type": "scattergeo"
           }
          ],
          "scattergl": [
           {
            "marker": {
             "colorbar": {
              "outlinewidth": 0,
              "ticks": ""
             }
            },
            "type": "scattergl"
           }
          ],
          "scattermapbox": [
           {
            "marker": {
             "colorbar": {
              "outlinewidth": 0,
              "ticks": ""
             }
            },
            "type": "scattermapbox"
           }
          ],
          "scatterpolar": [
           {
            "marker": {
             "colorbar": {
              "outlinewidth": 0,
              "ticks": ""
             }
            },
            "type": "scatterpolar"
           }
          ],
          "scatterpolargl": [
           {
            "marker": {
             "colorbar": {
              "outlinewidth": 0,
              "ticks": ""
             }
            },
            "type": "scatterpolargl"
           }
          ],
          "scatterternary": [
           {
            "marker": {
             "colorbar": {
              "outlinewidth": 0,
              "ticks": ""
             }
            },
            "type": "scatterternary"
           }
          ],
          "surface": [
           {
            "colorbar": {
             "outlinewidth": 0,
             "ticks": ""
            },
            "colorscale": [
             [
              0,
              "#0d0887"
             ],
             [
              0.1111111111111111,
              "#46039f"
             ],
             [
              0.2222222222222222,
              "#7201a8"
             ],
             [
              0.3333333333333333,
              "#9c179e"
             ],
             [
              0.4444444444444444,
              "#bd3786"
             ],
             [
              0.5555555555555556,
              "#d8576b"
             ],
             [
              0.6666666666666666,
              "#ed7953"
             ],
             [
              0.7777777777777778,
              "#fb9f3a"
             ],
             [
              0.8888888888888888,
              "#fdca26"
             ],
             [
              1,
              "#f0f921"
             ]
            ],
            "type": "surface"
           }
          ],
          "table": [
           {
            "cells": {
             "fill": {
              "color": "#EBF0F8"
             },
             "line": {
              "color": "white"
             }
            },
            "header": {
             "fill": {
              "color": "#C8D4E3"
             },
             "line": {
              "color": "white"
             }
            },
            "type": "table"
           }
          ]
         },
         "layout": {
          "annotationdefaults": {
           "arrowcolor": "#2a3f5f",
           "arrowhead": 0,
           "arrowwidth": 1
          },
          "autotypenumbers": "strict",
          "coloraxis": {
           "colorbar": {
            "outlinewidth": 0,
            "ticks": ""
           }
          },
          "colorscale": {
           "diverging": [
            [
             0,
             "#8e0152"
            ],
            [
             0.1,
             "#c51b7d"
            ],
            [
             0.2,
             "#de77ae"
            ],
            [
             0.3,
             "#f1b6da"
            ],
            [
             0.4,
             "#fde0ef"
            ],
            [
             0.5,
             "#f7f7f7"
            ],
            [
             0.6,
             "#e6f5d0"
            ],
            [
             0.7,
             "#b8e186"
            ],
            [
             0.8,
             "#7fbc41"
            ],
            [
             0.9,
             "#4d9221"
            ],
            [
             1,
             "#276419"
            ]
           ],
           "sequential": [
            [
             0,
             "#0d0887"
            ],
            [
             0.1111111111111111,
             "#46039f"
            ],
            [
             0.2222222222222222,
             "#7201a8"
            ],
            [
             0.3333333333333333,
             "#9c179e"
            ],
            [
             0.4444444444444444,
             "#bd3786"
            ],
            [
             0.5555555555555556,
             "#d8576b"
            ],
            [
             0.6666666666666666,
             "#ed7953"
            ],
            [
             0.7777777777777778,
             "#fb9f3a"
            ],
            [
             0.8888888888888888,
             "#fdca26"
            ],
            [
             1,
             "#f0f921"
            ]
           ],
           "sequentialminus": [
            [
             0,
             "#0d0887"
            ],
            [
             0.1111111111111111,
             "#46039f"
            ],
            [
             0.2222222222222222,
             "#7201a8"
            ],
            [
             0.3333333333333333,
             "#9c179e"
            ],
            [
             0.4444444444444444,
             "#bd3786"
            ],
            [
             0.5555555555555556,
             "#d8576b"
            ],
            [
             0.6666666666666666,
             "#ed7953"
            ],
            [
             0.7777777777777778,
             "#fb9f3a"
            ],
            [
             0.8888888888888888,
             "#fdca26"
            ],
            [
             1,
             "#f0f921"
            ]
           ]
          },
          "colorway": [
           "#636efa",
           "#EF553B",
           "#00cc96",
           "#ab63fa",
           "#FFA15A",
           "#19d3f3",
           "#FF6692",
           "#B6E880",
           "#FF97FF",
           "#FECB52"
          ],
          "font": {
           "color": "#2a3f5f"
          },
          "geo": {
           "bgcolor": "white",
           "lakecolor": "white",
           "landcolor": "#E5ECF6",
           "showlakes": true,
           "showland": true,
           "subunitcolor": "white"
          },
          "hoverlabel": {
           "align": "left"
          },
          "hovermode": "closest",
          "mapbox": {
           "style": "light"
          },
          "paper_bgcolor": "white",
          "plot_bgcolor": "#E5ECF6",
          "polar": {
           "angularaxis": {
            "gridcolor": "white",
            "linecolor": "white",
            "ticks": ""
           },
           "bgcolor": "#E5ECF6",
           "radialaxis": {
            "gridcolor": "white",
            "linecolor": "white",
            "ticks": ""
           }
          },
          "scene": {
           "xaxis": {
            "backgroundcolor": "#E5ECF6",
            "gridcolor": "white",
            "gridwidth": 2,
            "linecolor": "white",
            "showbackground": true,
            "ticks": "",
            "zerolinecolor": "white"
           },
           "yaxis": {
            "backgroundcolor": "#E5ECF6",
            "gridcolor": "white",
            "gridwidth": 2,
            "linecolor": "white",
            "showbackground": true,
            "ticks": "",
            "zerolinecolor": "white"
           },
           "zaxis": {
            "backgroundcolor": "#E5ECF6",
            "gridcolor": "white",
            "gridwidth": 2,
            "linecolor": "white",
            "showbackground": true,
            "ticks": "",
            "zerolinecolor": "white"
           }
          },
          "shapedefaults": {
           "line": {
            "color": "#2a3f5f"
           }
          },
          "ternary": {
           "aaxis": {
            "gridcolor": "white",
            "linecolor": "white",
            "ticks": ""
           },
           "baxis": {
            "gridcolor": "white",
            "linecolor": "white",
            "ticks": ""
           },
           "bgcolor": "#E5ECF6",
           "caxis": {
            "gridcolor": "white",
            "linecolor": "white",
            "ticks": ""
           }
          },
          "title": {
           "x": 0.05
          },
          "xaxis": {
           "automargin": true,
           "gridcolor": "white",
           "linecolor": "white",
           "ticks": "",
           "title": {
            "standoff": 15
           },
           "zerolinecolor": "white",
           "zerolinewidth": 2
          },
          "yaxis": {
           "automargin": true,
           "gridcolor": "white",
           "linecolor": "white",
           "ticks": "",
           "title": {
            "standoff": 15
           },
           "zerolinecolor": "white",
           "zerolinewidth": 2
          }
         }
        }
       }
      },
      "text/html": [
       "<div>                            <div id=\"1792582b-786b-46c1-b0a0-da74a40edf96\" class=\"plotly-graph-div\" style=\"height:525px; width:100%;\"></div>            <script type=\"text/javascript\">                require([\"plotly\"], function(Plotly) {                    window.PLOTLYENV=window.PLOTLYENV || {};                                    if (document.getElementById(\"1792582b-786b-46c1-b0a0-da74a40edf96\")) {                    Plotly.newPlot(                        \"1792582b-786b-46c1-b0a0-da74a40edf96\",                        [{\"branchvalues\":\"total\",\"customdata\":[[\"12 Monkeys\",568.0],[\"Absentia\",747.0],[\"Archer\",560.0],[\"Atypical\",1356.0],[\"Berlin Station\",538.0],[\"Chernobyl\",506.0],[\"Cobra Kai\",805.0],[\"Daredevil\",910.0],[\"Dark\",873.0],[\"Demon Slayer\",731.0],[\"Dr. House\",616.0],[\"Family Guy\",693.0],[\"Hanna\",573.0],[\"How I met your mother\",779.0],[\"Jack Ryan\",521.0],[\"Kingdom\",630.0],[\"Lucifer\",949.0],[\"Mr. Robot\",1060.0],[\"One Piece\",561.0],[\"Outer Banks\",1696.0],[\"Ozark\",1877.0],[\"Queen of the South\",510.0],[\"Sex Education\",2477.0],[\"Shadow and Bone\",483.0],[\"Stranger Things\",1070.0],[\"The Blacklist\",1016.0],[\"The Mentalist\",703.0],[\"The Walking Dead\",859.0],[\"The Wire\",658.0],[\"Two and a half men\",1779.0],[\"(?)\",1150.7052833530106]],\"domain\":{\"x\":[0.0,1.0],\"y\":[0.0,1.0]},\"hovertemplate\":\"labels=%{label}<br>incident_count=%{value}<br>parent=%{parent}<br>id=%{id}<br>items=%{customdata[0]}<br>color=%{color}<extra></extra>\",\"ids\":[\"all/12 Monkeys\",\"all/Absentia\",\"all/Archer\",\"all/Atypical\",\"all/Berlin Station\",\"all/Chernobyl\",\"all/Cobra Kai\",\"all/Daredevil\",\"all/Dark\",\"all/Demon Slayer\",\"all/Dr. House\",\"all/Family Guy\",\"all/Hanna\",\"all/How I met your mother\",\"all/Jack Ryan\",\"all/Kingdom\",\"all/Lucifer\",\"all/Mr. Robot\",\"all/One Piece\",\"all/Outer Banks\",\"all/Ozark\",\"all/Queen of the South\",\"all/Sex Education\",\"all/Shadow and Bone\",\"all/Stranger Things\",\"all/The Blacklist\",\"all/The Mentalist\",\"all/The Walking Dead\",\"all/The Wire\",\"all/Two and a half men\",\"all\"],\"labels\":[\"12 Monkeys\",\"Absentia\",\"Archer\",\"Atypical\",\"Berlin Station\",\"Chernobyl\",\"Cobra Kai\",\"Daredevil\",\"Dark\",\"Demon Slayer\",\"Dr. House\",\"Family Guy\",\"Hanna\",\"How I met your mother\",\"Jack Ryan\",\"Kingdom\",\"Lucifer\",\"Mr. Robot\",\"One Piece\",\"Outer Banks\",\"Ozark\",\"Queen of the South\",\"Sex Education\",\"Shadow and Bone\",\"Stranger Things\",\"The Blacklist\",\"The Mentalist\",\"The Walking Dead\",\"The Wire\",\"Two and a half men\",\"all\"],\"marker\":{\"coloraxis\":\"coloraxis\",\"colors\":[568.0,747.0,560.0,1356.0,538.0,506.0,805.0,910.0,873.0,731.0,616.0,693.0,573.0,779.0,521.0,630.0,949.0,1060.0,561.0,1696.0,1877.0,510.0,2477.0,483.0,1070.0,1016.0,703.0,859.0,658.0,1779.0,1150.7052833530106]},\"name\":\"\",\"parents\":[\"all\",\"all\",\"all\",\"all\",\"all\",\"all\",\"all\",\"all\",\"all\",\"all\",\"all\",\"all\",\"all\",\"all\",\"all\",\"all\",\"all\",\"all\",\"all\",\"all\",\"all\",\"all\",\"all\",\"all\",\"all\",\"all\",\"all\",\"all\",\"all\",\"all\",\"\"],\"values\":[568,747,560,1356,538,506,805,910,873,731,616,693,573,779,521,630,949,1060,561,1696,1877,510,2477,483,1070,1016,703,859,658,1779,27104],\"type\":\"treemap\"}],                        {\"template\":{\"data\":{\"histogram2dcontour\":[{\"type\":\"histogram2dcontour\",\"colorbar\":{\"outlinewidth\":0,\"ticks\":\"\"},\"colorscale\":[[0.0,\"#0d0887\"],[0.1111111111111111,\"#46039f\"],[0.2222222222222222,\"#7201a8\"],[0.3333333333333333,\"#9c179e\"],[0.4444444444444444,\"#bd3786\"],[0.5555555555555556,\"#d8576b\"],[0.6666666666666666,\"#ed7953\"],[0.7777777777777778,\"#fb9f3a\"],[0.8888888888888888,\"#fdca26\"],[1.0,\"#f0f921\"]]}],\"choropleth\":[{\"type\":\"choropleth\",\"colorbar\":{\"outlinewidth\":0,\"ticks\":\"\"}}],\"histogram2d\":[{\"type\":\"histogram2d\",\"colorbar\":{\"outlinewidth\":0,\"ticks\":\"\"},\"colorscale\":[[0.0,\"#0d0887\"],[0.1111111111111111,\"#46039f\"],[0.2222222222222222,\"#7201a8\"],[0.3333333333333333,\"#9c179e\"],[0.4444444444444444,\"#bd3786\"],[0.5555555555555556,\"#d8576b\"],[0.6666666666666666,\"#ed7953\"],[0.7777777777777778,\"#fb9f3a\"],[0.8888888888888888,\"#fdca26\"],[1.0,\"#f0f921\"]]}],\"heatmap\":[{\"type\":\"heatmap\",\"colorbar\":{\"outlinewidth\":0,\"ticks\":\"\"},\"colorscale\":[[0.0,\"#0d0887\"],[0.1111111111111111,\"#46039f\"],[0.2222222222222222,\"#7201a8\"],[0.3333333333333333,\"#9c179e\"],[0.4444444444444444,\"#bd3786\"],[0.5555555555555556,\"#d8576b\"],[0.6666666666666666,\"#ed7953\"],[0.7777777777777778,\"#fb9f3a\"],[0.8888888888888888,\"#fdca26\"],[1.0,\"#f0f921\"]]}],\"heatmapgl\":[{\"type\":\"heatmapgl\",\"colorbar\":{\"outlinewidth\":0,\"ticks\":\"\"},\"colorscale\":[[0.0,\"#0d0887\"],[0.1111111111111111,\"#46039f\"],[0.2222222222222222,\"#7201a8\"],[0.3333333333333333,\"#9c179e\"],[0.4444444444444444,\"#bd3786\"],[0.5555555555555556,\"#d8576b\"],[0.6666666666666666,\"#ed7953\"],[0.7777777777777778,\"#fb9f3a\"],[0.8888888888888888,\"#fdca26\"],[1.0,\"#f0f921\"]]}],\"contourcarpet\":[{\"type\":\"contourcarpet\",\"colorbar\":{\"outlinewidth\":0,\"ticks\":\"\"}}],\"contour\":[{\"type\":\"contour\",\"colorbar\":{\"outlinewidth\":0,\"ticks\":\"\"},\"colorscale\":[[0.0,\"#0d0887\"],[0.1111111111111111,\"#46039f\"],[0.2222222222222222,\"#7201a8\"],[0.3333333333333333,\"#9c179e\"],[0.4444444444444444,\"#bd3786\"],[0.5555555555555556,\"#d8576b\"],[0.6666666666666666,\"#ed7953\"],[0.7777777777777778,\"#fb9f3a\"],[0.8888888888888888,\"#fdca26\"],[1.0,\"#f0f921\"]]}],\"surface\":[{\"type\":\"surface\",\"colorbar\":{\"outlinewidth\":0,\"ticks\":\"\"},\"colorscale\":[[0.0,\"#0d0887\"],[0.1111111111111111,\"#46039f\"],[0.2222222222222222,\"#7201a8\"],[0.3333333333333333,\"#9c179e\"],[0.4444444444444444,\"#bd3786\"],[0.5555555555555556,\"#d8576b\"],[0.6666666666666666,\"#ed7953\"],[0.7777777777777778,\"#fb9f3a\"],[0.8888888888888888,\"#fdca26\"],[1.0,\"#f0f921\"]]}],\"mesh3d\":[{\"type\":\"mesh3d\",\"colorbar\":{\"outlinewidth\":0,\"ticks\":\"\"}}],\"scatter\":[{\"fillpattern\":{\"fillmode\":\"overlay\",\"size\":10,\"solidity\":0.2},\"type\":\"scatter\"}],\"parcoords\":[{\"type\":\"parcoords\",\"line\":{\"colorbar\":{\"outlinewidth\":0,\"ticks\":\"\"}}}],\"scatterpolargl\":[{\"type\":\"scatterpolargl\",\"marker\":{\"colorbar\":{\"outlinewidth\":0,\"ticks\":\"\"}}}],\"bar\":[{\"error_x\":{\"color\":\"#2a3f5f\"},\"error_y\":{\"color\":\"#2a3f5f\"},\"marker\":{\"line\":{\"color\":\"#E5ECF6\",\"width\":0.5},\"pattern\":{\"fillmode\":\"overlay\",\"size\":10,\"solidity\":0.2}},\"type\":\"bar\"}],\"scattergeo\":[{\"type\":\"scattergeo\",\"marker\":{\"colorbar\":{\"outlinewidth\":0,\"ticks\":\"\"}}}],\"scatterpolar\":[{\"type\":\"scatterpolar\",\"marker\":{\"colorbar\":{\"outlinewidth\":0,\"ticks\":\"\"}}}],\"histogram\":[{\"marker\":{\"pattern\":{\"fillmode\":\"overlay\",\"size\":10,\"solidity\":0.2}},\"type\":\"histogram\"}],\"scattergl\":[{\"type\":\"scattergl\",\"marker\":{\"colorbar\":{\"outlinewidth\":0,\"ticks\":\"\"}}}],\"scatter3d\":[{\"type\":\"scatter3d\",\"line\":{\"colorbar\":{\"outlinewidth\":0,\"ticks\":\"\"}},\"marker\":{\"colorbar\":{\"outlinewidth\":0,\"ticks\":\"\"}}}],\"scattermapbox\":[{\"type\":\"scattermapbox\",\"marker\":{\"colorbar\":{\"outlinewidth\":0,\"ticks\":\"\"}}}],\"scatterternary\":[{\"type\":\"scatterternary\",\"marker\":{\"colorbar\":{\"outlinewidth\":0,\"ticks\":\"\"}}}],\"scattercarpet\":[{\"type\":\"scattercarpet\",\"marker\":{\"colorbar\":{\"outlinewidth\":0,\"ticks\":\"\"}}}],\"carpet\":[{\"aaxis\":{\"endlinecolor\":\"#2a3f5f\",\"gridcolor\":\"white\",\"linecolor\":\"white\",\"minorgridcolor\":\"white\",\"startlinecolor\":\"#2a3f5f\"},\"baxis\":{\"endlinecolor\":\"#2a3f5f\",\"gridcolor\":\"white\",\"linecolor\":\"white\",\"minorgridcolor\":\"white\",\"startlinecolor\":\"#2a3f5f\"},\"type\":\"carpet\"}],\"table\":[{\"cells\":{\"fill\":{\"color\":\"#EBF0F8\"},\"line\":{\"color\":\"white\"}},\"header\":{\"fill\":{\"color\":\"#C8D4E3\"},\"line\":{\"color\":\"white\"}},\"type\":\"table\"}],\"barpolar\":[{\"marker\":{\"line\":{\"color\":\"#E5ECF6\",\"width\":0.5},\"pattern\":{\"fillmode\":\"overlay\",\"size\":10,\"solidity\":0.2}},\"type\":\"barpolar\"}],\"pie\":[{\"automargin\":true,\"type\":\"pie\"}]},\"layout\":{\"autotypenumbers\":\"strict\",\"colorway\":[\"#636efa\",\"#EF553B\",\"#00cc96\",\"#ab63fa\",\"#FFA15A\",\"#19d3f3\",\"#FF6692\",\"#B6E880\",\"#FF97FF\",\"#FECB52\"],\"font\":{\"color\":\"#2a3f5f\"},\"hovermode\":\"closest\",\"hoverlabel\":{\"align\":\"left\"},\"paper_bgcolor\":\"white\",\"plot_bgcolor\":\"#E5ECF6\",\"polar\":{\"bgcolor\":\"#E5ECF6\",\"angularaxis\":{\"gridcolor\":\"white\",\"linecolor\":\"white\",\"ticks\":\"\"},\"radialaxis\":{\"gridcolor\":\"white\",\"linecolor\":\"white\",\"ticks\":\"\"}},\"ternary\":{\"bgcolor\":\"#E5ECF6\",\"aaxis\":{\"gridcolor\":\"white\",\"linecolor\":\"white\",\"ticks\":\"\"},\"baxis\":{\"gridcolor\":\"white\",\"linecolor\":\"white\",\"ticks\":\"\"},\"caxis\":{\"gridcolor\":\"white\",\"linecolor\":\"white\",\"ticks\":\"\"}},\"coloraxis\":{\"colorbar\":{\"outlinewidth\":0,\"ticks\":\"\"}},\"colorscale\":{\"sequential\":[[0.0,\"#0d0887\"],[0.1111111111111111,\"#46039f\"],[0.2222222222222222,\"#7201a8\"],[0.3333333333333333,\"#9c179e\"],[0.4444444444444444,\"#bd3786\"],[0.5555555555555556,\"#d8576b\"],[0.6666666666666666,\"#ed7953\"],[0.7777777777777778,\"#fb9f3a\"],[0.8888888888888888,\"#fdca26\"],[1.0,\"#f0f921\"]],\"sequentialminus\":[[0.0,\"#0d0887\"],[0.1111111111111111,\"#46039f\"],[0.2222222222222222,\"#7201a8\"],[0.3333333333333333,\"#9c179e\"],[0.4444444444444444,\"#bd3786\"],[0.5555555555555556,\"#d8576b\"],[0.6666666666666666,\"#ed7953\"],[0.7777777777777778,\"#fb9f3a\"],[0.8888888888888888,\"#fdca26\"],[1.0,\"#f0f921\"]],\"diverging\":[[0,\"#8e0152\"],[0.1,\"#c51b7d\"],[0.2,\"#de77ae\"],[0.3,\"#f1b6da\"],[0.4,\"#fde0ef\"],[0.5,\"#f7f7f7\"],[0.6,\"#e6f5d0\"],[0.7,\"#b8e186\"],[0.8,\"#7fbc41\"],[0.9,\"#4d9221\"],[1,\"#276419\"]]},\"xaxis\":{\"gridcolor\":\"white\",\"linecolor\":\"white\",\"ticks\":\"\",\"title\":{\"standoff\":15},\"zerolinecolor\":\"white\",\"automargin\":true,\"zerolinewidth\":2},\"yaxis\":{\"gridcolor\":\"white\",\"linecolor\":\"white\",\"ticks\":\"\",\"title\":{\"standoff\":15},\"zerolinecolor\":\"white\",\"automargin\":true,\"zerolinewidth\":2},\"scene\":{\"xaxis\":{\"backgroundcolor\":\"#E5ECF6\",\"gridcolor\":\"white\",\"linecolor\":\"white\",\"showbackground\":true,\"ticks\":\"\",\"zerolinecolor\":\"white\",\"gridwidth\":2},\"yaxis\":{\"backgroundcolor\":\"#E5ECF6\",\"gridcolor\":\"white\",\"linecolor\":\"white\",\"showbackground\":true,\"ticks\":\"\",\"zerolinecolor\":\"white\",\"gridwidth\":2},\"zaxis\":{\"backgroundcolor\":\"#E5ECF6\",\"gridcolor\":\"white\",\"linecolor\":\"white\",\"showbackground\":true,\"ticks\":\"\",\"zerolinecolor\":\"white\",\"gridwidth\":2}},\"shapedefaults\":{\"line\":{\"color\":\"#2a3f5f\"}},\"annotationdefaults\":{\"arrowcolor\":\"#2a3f5f\",\"arrowhead\":0,\"arrowwidth\":1},\"geo\":{\"bgcolor\":\"white\",\"landcolor\":\"#E5ECF6\",\"subunitcolor\":\"white\",\"showland\":true,\"showlakes\":true,\"lakecolor\":\"white\"},\"title\":{\"x\":0.05},\"mapbox\":{\"style\":\"light\"}}},\"coloraxis\":{\"colorbar\":{\"title\":{\"text\":\"color\"}},\"colorscale\":[[0.0,\"rgb(247,251,255)\"],[0.125,\"rgb(222,235,247)\"],[0.25,\"rgb(198,219,239)\"],[0.375,\"rgb(158,202,225)\"],[0.5,\"rgb(107,174,214)\"],[0.625,\"rgb(66,146,198)\"],[0.75,\"rgb(33,113,181)\"],[0.875,\"rgb(8,81,156)\"],[1.0,\"rgb(8,48,107)\"]]},\"legend\":{\"tracegroupgap\":0},\"margin\":{\"t\":60}},                        {\"responsive\": true}                    ).then(function(){\n",
       "                            \n",
       "var gd = document.getElementById('1792582b-786b-46c1-b0a0-da74a40edf96');\n",
       "var x = new MutationObserver(function (mutations, observer) {{\n",
       "        var display = window.getComputedStyle(gd).display;\n",
       "        if (!display || display === 'none') {{\n",
       "            console.log([gd, 'removed!']);\n",
       "            Plotly.purge(gd);\n",
       "            observer.disconnect();\n",
       "        }}\n",
       "}});\n",
       "\n",
       "// Listen for the removal of the full notebook cells\n",
       "var notebookContainer = gd.closest('#notebook-container');\n",
       "if (notebookContainer) {{\n",
       "    x.observe(notebookContainer, {childList: true});\n",
       "}}\n",
       "\n",
       "// Listen for the clearing of the current output cell\n",
       "var outputEl = gd.closest('.output');\n",
       "if (outputEl) {{\n",
       "    x.observe(outputEl, {childList: true});\n",
       "}}\n",
       "\n",
       "                        })                };                });            </script>        </div>"
      ]
     },
     "metadata": {},
     "output_type": "display_data"
    }
   ],
   "source": [
    "df_table[\"all\"] = \"all\" \n",
    "\n",
    "fig = px.treemap(df_table.head(30), path=['all', \"items\"], values='incident_count',\n",
    "                  color=df_table[\"incident_count\"].head(30), hover_data=['items'],\n",
    "                  color_continuous_scale='Blues',\n",
    "                  )\n",
    "fig.show()"
   ]
  },
  {
   "cell_type": "code",
   "execution_count": 45,
   "id": "fa817649",
   "metadata": {},
   "outputs": [
    {
     "data": {
      "text/html": [
       "<div>\n",
       "<style scoped>\n",
       "    .dataframe tbody tr th:only-of-type {\n",
       "        vertical-align: middle;\n",
       "    }\n",
       "\n",
       "    .dataframe tbody tr th {\n",
       "        vertical-align: top;\n",
       "    }\n",
       "\n",
       "    .dataframe thead th {\n",
       "        text-align: right;\n",
       "    }\n",
       "</style>\n",
       "<table border=\"1\" class=\"dataframe\">\n",
       "  <thead>\n",
       "    <tr style=\"text-align: right;\">\n",
       "      <th></th>\n",
       "      <th>Sex Education</th>\n",
       "      <th>Ozark</th>\n",
       "      <th>Two and a half men</th>\n",
       "      <th>Outer Banks</th>\n",
       "      <th>Atypical</th>\n",
       "      <th>Stranger Things</th>\n",
       "      <th>Mr. Robot</th>\n",
       "      <th>The Blacklist</th>\n",
       "      <th>Lucifer</th>\n",
       "      <th>Daredevil</th>\n",
       "      <th>Dark</th>\n",
       "      <th>The Walking Dead</th>\n",
       "      <th>Cobra Kai</th>\n",
       "      <th>How I met your mother</th>\n",
       "      <th>Absentia</th>\n",
       "      <th>Demon Slayer</th>\n",
       "      <th>The Mentalist</th>\n",
       "      <th>Family Guy</th>\n",
       "      <th>The Wire</th>\n",
       "      <th>Kingdom</th>\n",
       "    </tr>\n",
       "  </thead>\n",
       "  <tbody>\n",
       "    <tr>\n",
       "      <th>0</th>\n",
       "      <td>0</td>\n",
       "      <td>0</td>\n",
       "      <td>0</td>\n",
       "      <td>0</td>\n",
       "      <td>0</td>\n",
       "      <td>0</td>\n",
       "      <td>0</td>\n",
       "      <td>0</td>\n",
       "      <td>0</td>\n",
       "      <td>0</td>\n",
       "      <td>0</td>\n",
       "      <td>0</td>\n",
       "      <td>1</td>\n",
       "      <td>0</td>\n",
       "      <td>0</td>\n",
       "      <td>0</td>\n",
       "      <td>0</td>\n",
       "      <td>0</td>\n",
       "      <td>0</td>\n",
       "      <td>0</td>\n",
       "    </tr>\n",
       "    <tr>\n",
       "      <th>1</th>\n",
       "      <td>0</td>\n",
       "      <td>0</td>\n",
       "      <td>0</td>\n",
       "      <td>0</td>\n",
       "      <td>0</td>\n",
       "      <td>0</td>\n",
       "      <td>0</td>\n",
       "      <td>0</td>\n",
       "      <td>0</td>\n",
       "      <td>0</td>\n",
       "      <td>0</td>\n",
       "      <td>0</td>\n",
       "      <td>0</td>\n",
       "      <td>0</td>\n",
       "      <td>0</td>\n",
       "      <td>0</td>\n",
       "      <td>1</td>\n",
       "      <td>0</td>\n",
       "      <td>0</td>\n",
       "      <td>0</td>\n",
       "    </tr>\n",
       "    <tr>\n",
       "      <th>2</th>\n",
       "      <td>1</td>\n",
       "      <td>0</td>\n",
       "      <td>0</td>\n",
       "      <td>0</td>\n",
       "      <td>0</td>\n",
       "      <td>0</td>\n",
       "      <td>0</td>\n",
       "      <td>0</td>\n",
       "      <td>0</td>\n",
       "      <td>0</td>\n",
       "      <td>0</td>\n",
       "      <td>1</td>\n",
       "      <td>0</td>\n",
       "      <td>0</td>\n",
       "      <td>0</td>\n",
       "      <td>0</td>\n",
       "      <td>0</td>\n",
       "      <td>0</td>\n",
       "      <td>0</td>\n",
       "      <td>1</td>\n",
       "    </tr>\n",
       "    <tr>\n",
       "      <th>3</th>\n",
       "      <td>1</td>\n",
       "      <td>1</td>\n",
       "      <td>0</td>\n",
       "      <td>0</td>\n",
       "      <td>0</td>\n",
       "      <td>0</td>\n",
       "      <td>0</td>\n",
       "      <td>0</td>\n",
       "      <td>0</td>\n",
       "      <td>0</td>\n",
       "      <td>0</td>\n",
       "      <td>0</td>\n",
       "      <td>0</td>\n",
       "      <td>0</td>\n",
       "      <td>0</td>\n",
       "      <td>0</td>\n",
       "      <td>0</td>\n",
       "      <td>0</td>\n",
       "      <td>0</td>\n",
       "      <td>0</td>\n",
       "    </tr>\n",
       "    <tr>\n",
       "      <th>4</th>\n",
       "      <td>0</td>\n",
       "      <td>0</td>\n",
       "      <td>0</td>\n",
       "      <td>0</td>\n",
       "      <td>0</td>\n",
       "      <td>0</td>\n",
       "      <td>0</td>\n",
       "      <td>0</td>\n",
       "      <td>0</td>\n",
       "      <td>0</td>\n",
       "      <td>0</td>\n",
       "      <td>0</td>\n",
       "      <td>0</td>\n",
       "      <td>0</td>\n",
       "      <td>0</td>\n",
       "      <td>0</td>\n",
       "      <td>0</td>\n",
       "      <td>0</td>\n",
       "      <td>0</td>\n",
       "      <td>0</td>\n",
       "    </tr>\n",
       "    <tr>\n",
       "      <th>5</th>\n",
       "      <td>1</td>\n",
       "      <td>0</td>\n",
       "      <td>0</td>\n",
       "      <td>0</td>\n",
       "      <td>0</td>\n",
       "      <td>0</td>\n",
       "      <td>0</td>\n",
       "      <td>0</td>\n",
       "      <td>0</td>\n",
       "      <td>0</td>\n",
       "      <td>0</td>\n",
       "      <td>0</td>\n",
       "      <td>0</td>\n",
       "      <td>0</td>\n",
       "      <td>0</td>\n",
       "      <td>0</td>\n",
       "      <td>0</td>\n",
       "      <td>0</td>\n",
       "      <td>0</td>\n",
       "      <td>0</td>\n",
       "    </tr>\n",
       "    <tr>\n",
       "      <th>6</th>\n",
       "      <td>0</td>\n",
       "      <td>0</td>\n",
       "      <td>0</td>\n",
       "      <td>0</td>\n",
       "      <td>0</td>\n",
       "      <td>0</td>\n",
       "      <td>0</td>\n",
       "      <td>0</td>\n",
       "      <td>0</td>\n",
       "      <td>0</td>\n",
       "      <td>0</td>\n",
       "      <td>0</td>\n",
       "      <td>0</td>\n",
       "      <td>0</td>\n",
       "      <td>0</td>\n",
       "      <td>0</td>\n",
       "      <td>0</td>\n",
       "      <td>0</td>\n",
       "      <td>0</td>\n",
       "      <td>0</td>\n",
       "    </tr>\n",
       "    <tr>\n",
       "      <th>7</th>\n",
       "      <td>0</td>\n",
       "      <td>0</td>\n",
       "      <td>0</td>\n",
       "      <td>0</td>\n",
       "      <td>0</td>\n",
       "      <td>0</td>\n",
       "      <td>0</td>\n",
       "      <td>0</td>\n",
       "      <td>0</td>\n",
       "      <td>0</td>\n",
       "      <td>0</td>\n",
       "      <td>0</td>\n",
       "      <td>0</td>\n",
       "      <td>0</td>\n",
       "      <td>0</td>\n",
       "      <td>0</td>\n",
       "      <td>0</td>\n",
       "      <td>0</td>\n",
       "      <td>0</td>\n",
       "      <td>0</td>\n",
       "    </tr>\n",
       "    <tr>\n",
       "      <th>8</th>\n",
       "      <td>0</td>\n",
       "      <td>0</td>\n",
       "      <td>0</td>\n",
       "      <td>0</td>\n",
       "      <td>0</td>\n",
       "      <td>0</td>\n",
       "      <td>0</td>\n",
       "      <td>0</td>\n",
       "      <td>0</td>\n",
       "      <td>0</td>\n",
       "      <td>0</td>\n",
       "      <td>0</td>\n",
       "      <td>0</td>\n",
       "      <td>0</td>\n",
       "      <td>0</td>\n",
       "      <td>0</td>\n",
       "      <td>0</td>\n",
       "      <td>0</td>\n",
       "      <td>0</td>\n",
       "      <td>0</td>\n",
       "    </tr>\n",
       "    <tr>\n",
       "      <th>9</th>\n",
       "      <td>0</td>\n",
       "      <td>0</td>\n",
       "      <td>0</td>\n",
       "      <td>0</td>\n",
       "      <td>0</td>\n",
       "      <td>0</td>\n",
       "      <td>0</td>\n",
       "      <td>0</td>\n",
       "      <td>0</td>\n",
       "      <td>0</td>\n",
       "      <td>0</td>\n",
       "      <td>0</td>\n",
       "      <td>0</td>\n",
       "      <td>0</td>\n",
       "      <td>0</td>\n",
       "      <td>0</td>\n",
       "      <td>0</td>\n",
       "      <td>0</td>\n",
       "      <td>0</td>\n",
       "      <td>0</td>\n",
       "    </tr>\n",
       "  </tbody>\n",
       "</table>\n",
       "</div>"
      ],
      "text/plain": [
       "   Sex Education  Ozark  Two and a half men  Outer Banks  Atypical  \\\n",
       "0              0      0                   0            0         0   \n",
       "1              0      0                   0            0         0   \n",
       "2              1      0                   0            0         0   \n",
       "3              1      1                   0            0         0   \n",
       "4              0      0                   0            0         0   \n",
       "5              1      0                   0            0         0   \n",
       "6              0      0                   0            0         0   \n",
       "7              0      0                   0            0         0   \n",
       "8              0      0                   0            0         0   \n",
       "9              0      0                   0            0         0   \n",
       "\n",
       "   Stranger Things  Mr. Robot  The Blacklist  Lucifer  Daredevil  Dark  \\\n",
       "0                0          0              0        0          0     0   \n",
       "1                0          0              0        0          0     0   \n",
       "2                0          0              0        0          0     0   \n",
       "3                0          0              0        0          0     0   \n",
       "4                0          0              0        0          0     0   \n",
       "5                0          0              0        0          0     0   \n",
       "6                0          0              0        0          0     0   \n",
       "7                0          0              0        0          0     0   \n",
       "8                0          0              0        0          0     0   \n",
       "9                0          0              0        0          0     0   \n",
       "\n",
       "   The Walking Dead  Cobra Kai  How I met your mother  Absentia  Demon Slayer  \\\n",
       "0                 0          1                      0         0             0   \n",
       "1                 0          0                      0         0             0   \n",
       "2                 1          0                      0         0             0   \n",
       "3                 0          0                      0         0             0   \n",
       "4                 0          0                      0         0             0   \n",
       "5                 0          0                      0         0             0   \n",
       "6                 0          0                      0         0             0   \n",
       "7                 0          0                      0         0             0   \n",
       "8                 0          0                      0         0             0   \n",
       "9                 0          0                      0         0             0   \n",
       "\n",
       "   The Mentalist  Family Guy  The Wire  Kingdom  \n",
       "0              0           0         0        0  \n",
       "1              1           0         0        0  \n",
       "2              0           0         0        1  \n",
       "3              0           0         0        0  \n",
       "4              0           0         0        0  \n",
       "5              0           0         0        0  \n",
       "6              0           0         0        0  \n",
       "7              0           0         0        0  \n",
       "8              0           0         0        0  \n",
       "9              0           0         0        0  "
      ]
     },
     "execution_count": 45,
     "metadata": {},
     "output_type": "execute_result"
    }
   ],
   "source": [
    "\n",
    "transaction = []\n",
    "for i in range(data.shape[0]):\n",
    "    transaction.append([str(data.values[i,j]) for j in range(data.shape[1])])\n",
    "    \n",
    "transaction = np.array(transaction)\n",
    "\n",
    "\n",
    "top20 = df_table[\"items\"].head(20).values\n",
    "array = []\n",
    "df_top20_multiple_record_check = pd.DataFrame(columns=top20)\n",
    "\n",
    "for i in range(0, len(top20)):\n",
    "    array = []\n",
    "    for j in range(0,transaction.shape[0]):\n",
    "        array.append(np.count_nonzero(transaction[j]==top20[i]))\n",
    "        if len(array) == len(data):\n",
    "            df_top20_multiple_record_check[top20[i]] = array\n",
    "        else:\n",
    "            continue\n",
    "            \n",
    "\n",
    "df_top20_multiple_record_check.head(10)"
   ]
  },
  {
   "cell_type": "code",
   "execution_count": 46,
   "id": "348e1002",
   "metadata": {},
   "outputs": [
    {
     "data": {
      "text/html": [
       "<div>\n",
       "<style scoped>\n",
       "    .dataframe tbody tr th:only-of-type {\n",
       "        vertical-align: middle;\n",
       "    }\n",
       "\n",
       "    .dataframe tbody tr th {\n",
       "        vertical-align: top;\n",
       "    }\n",
       "\n",
       "    .dataframe thead th {\n",
       "        text-align: right;\n",
       "    }\n",
       "</style>\n",
       "<table border=\"1\" class=\"dataframe\">\n",
       "  <thead>\n",
       "    <tr style=\"text-align: right;\">\n",
       "      <th></th>\n",
       "      <th>Sex Education</th>\n",
       "      <th>Ozark</th>\n",
       "      <th>Two and a half men</th>\n",
       "      <th>Outer Banks</th>\n",
       "      <th>Atypical</th>\n",
       "      <th>Stranger Things</th>\n",
       "      <th>Mr. Robot</th>\n",
       "      <th>The Blacklist</th>\n",
       "      <th>Lucifer</th>\n",
       "      <th>Daredevil</th>\n",
       "      <th>Dark</th>\n",
       "      <th>The Walking Dead</th>\n",
       "      <th>Cobra Kai</th>\n",
       "      <th>How I met your mother</th>\n",
       "      <th>Absentia</th>\n",
       "      <th>Demon Slayer</th>\n",
       "      <th>The Mentalist</th>\n",
       "      <th>Family Guy</th>\n",
       "      <th>The Wire</th>\n",
       "      <th>Kingdom</th>\n",
       "    </tr>\n",
       "  </thead>\n",
       "  <tbody>\n",
       "    <tr>\n",
       "      <th>count</th>\n",
       "      <td>9690.000000</td>\n",
       "      <td>9690.000000</td>\n",
       "      <td>9690.000000</td>\n",
       "      <td>9690.000000</td>\n",
       "      <td>9690.000000</td>\n",
       "      <td>9690.000000</td>\n",
       "      <td>9690.000000</td>\n",
       "      <td>9690.000000</td>\n",
       "      <td>9690.000000</td>\n",
       "      <td>9690.000000</td>\n",
       "      <td>9690.000000</td>\n",
       "      <td>9690.000000</td>\n",
       "      <td>9690.000000</td>\n",
       "      <td>9690.000000</td>\n",
       "      <td>9690.000000</td>\n",
       "      <td>9690.000000</td>\n",
       "      <td>9690.000000</td>\n",
       "      <td>9690.000000</td>\n",
       "      <td>9690.000000</td>\n",
       "      <td>9690.000000</td>\n",
       "    </tr>\n",
       "    <tr>\n",
       "      <th>mean</th>\n",
       "      <td>0.255624</td>\n",
       "      <td>0.193705</td>\n",
       "      <td>0.183591</td>\n",
       "      <td>0.175026</td>\n",
       "      <td>0.139938</td>\n",
       "      <td>0.110423</td>\n",
       "      <td>0.109391</td>\n",
       "      <td>0.104850</td>\n",
       "      <td>0.097936</td>\n",
       "      <td>0.093911</td>\n",
       "      <td>0.090093</td>\n",
       "      <td>0.088648</td>\n",
       "      <td>0.083075</td>\n",
       "      <td>0.080392</td>\n",
       "      <td>0.077090</td>\n",
       "      <td>0.075439</td>\n",
       "      <td>0.072549</td>\n",
       "      <td>0.071517</td>\n",
       "      <td>0.067905</td>\n",
       "      <td>0.065015</td>\n",
       "    </tr>\n",
       "    <tr>\n",
       "      <th>std</th>\n",
       "      <td>0.436234</td>\n",
       "      <td>0.395221</td>\n",
       "      <td>0.387171</td>\n",
       "      <td>0.380009</td>\n",
       "      <td>0.346941</td>\n",
       "      <td>0.313433</td>\n",
       "      <td>0.312145</td>\n",
       "      <td>0.306376</td>\n",
       "      <td>0.297243</td>\n",
       "      <td>0.291720</td>\n",
       "      <td>0.289556</td>\n",
       "      <td>0.284250</td>\n",
       "      <td>0.276010</td>\n",
       "      <td>0.271913</td>\n",
       "      <td>0.266748</td>\n",
       "      <td>0.264111</td>\n",
       "      <td>0.259408</td>\n",
       "      <td>0.257700</td>\n",
       "      <td>0.260068</td>\n",
       "      <td>0.246566</td>\n",
       "    </tr>\n",
       "    <tr>\n",
       "      <th>min</th>\n",
       "      <td>0.000000</td>\n",
       "      <td>0.000000</td>\n",
       "      <td>0.000000</td>\n",
       "      <td>0.000000</td>\n",
       "      <td>0.000000</td>\n",
       "      <td>0.000000</td>\n",
       "      <td>0.000000</td>\n",
       "      <td>0.000000</td>\n",
       "      <td>0.000000</td>\n",
       "      <td>0.000000</td>\n",
       "      <td>0.000000</td>\n",
       "      <td>0.000000</td>\n",
       "      <td>0.000000</td>\n",
       "      <td>0.000000</td>\n",
       "      <td>0.000000</td>\n",
       "      <td>0.000000</td>\n",
       "      <td>0.000000</td>\n",
       "      <td>0.000000</td>\n",
       "      <td>0.000000</td>\n",
       "      <td>0.000000</td>\n",
       "    </tr>\n",
       "    <tr>\n",
       "      <th>25%</th>\n",
       "      <td>0.000000</td>\n",
       "      <td>0.000000</td>\n",
       "      <td>0.000000</td>\n",
       "      <td>0.000000</td>\n",
       "      <td>0.000000</td>\n",
       "      <td>0.000000</td>\n",
       "      <td>0.000000</td>\n",
       "      <td>0.000000</td>\n",
       "      <td>0.000000</td>\n",
       "      <td>0.000000</td>\n",
       "      <td>0.000000</td>\n",
       "      <td>0.000000</td>\n",
       "      <td>0.000000</td>\n",
       "      <td>0.000000</td>\n",
       "      <td>0.000000</td>\n",
       "      <td>0.000000</td>\n",
       "      <td>0.000000</td>\n",
       "      <td>0.000000</td>\n",
       "      <td>0.000000</td>\n",
       "      <td>0.000000</td>\n",
       "    </tr>\n",
       "    <tr>\n",
       "      <th>50%</th>\n",
       "      <td>0.000000</td>\n",
       "      <td>0.000000</td>\n",
       "      <td>0.000000</td>\n",
       "      <td>0.000000</td>\n",
       "      <td>0.000000</td>\n",
       "      <td>0.000000</td>\n",
       "      <td>0.000000</td>\n",
       "      <td>0.000000</td>\n",
       "      <td>0.000000</td>\n",
       "      <td>0.000000</td>\n",
       "      <td>0.000000</td>\n",
       "      <td>0.000000</td>\n",
       "      <td>0.000000</td>\n",
       "      <td>0.000000</td>\n",
       "      <td>0.000000</td>\n",
       "      <td>0.000000</td>\n",
       "      <td>0.000000</td>\n",
       "      <td>0.000000</td>\n",
       "      <td>0.000000</td>\n",
       "      <td>0.000000</td>\n",
       "    </tr>\n",
       "    <tr>\n",
       "      <th>75%</th>\n",
       "      <td>1.000000</td>\n",
       "      <td>0.000000</td>\n",
       "      <td>0.000000</td>\n",
       "      <td>0.000000</td>\n",
       "      <td>0.000000</td>\n",
       "      <td>0.000000</td>\n",
       "      <td>0.000000</td>\n",
       "      <td>0.000000</td>\n",
       "      <td>0.000000</td>\n",
       "      <td>0.000000</td>\n",
       "      <td>0.000000</td>\n",
       "      <td>0.000000</td>\n",
       "      <td>0.000000</td>\n",
       "      <td>0.000000</td>\n",
       "      <td>0.000000</td>\n",
       "      <td>0.000000</td>\n",
       "      <td>0.000000</td>\n",
       "      <td>0.000000</td>\n",
       "      <td>0.000000</td>\n",
       "      <td>0.000000</td>\n",
       "    </tr>\n",
       "    <tr>\n",
       "      <th>max</th>\n",
       "      <td>1.000000</td>\n",
       "      <td>1.000000</td>\n",
       "      <td>1.000000</td>\n",
       "      <td>1.000000</td>\n",
       "      <td>1.000000</td>\n",
       "      <td>1.000000</td>\n",
       "      <td>1.000000</td>\n",
       "      <td>1.000000</td>\n",
       "      <td>1.000000</td>\n",
       "      <td>1.000000</td>\n",
       "      <td>2.000000</td>\n",
       "      <td>1.000000</td>\n",
       "      <td>1.000000</td>\n",
       "      <td>1.000000</td>\n",
       "      <td>1.000000</td>\n",
       "      <td>1.000000</td>\n",
       "      <td>1.000000</td>\n",
       "      <td>1.000000</td>\n",
       "      <td>2.000000</td>\n",
       "      <td>1.000000</td>\n",
       "    </tr>\n",
       "  </tbody>\n",
       "</table>\n",
       "</div>"
      ],
      "text/plain": [
       "       Sex Education        Ozark  Two and a half men  Outer Banks  \\\n",
       "count    9690.000000  9690.000000         9690.000000  9690.000000   \n",
       "mean        0.255624     0.193705            0.183591     0.175026   \n",
       "std         0.436234     0.395221            0.387171     0.380009   \n",
       "min         0.000000     0.000000            0.000000     0.000000   \n",
       "25%         0.000000     0.000000            0.000000     0.000000   \n",
       "50%         0.000000     0.000000            0.000000     0.000000   \n",
       "75%         1.000000     0.000000            0.000000     0.000000   \n",
       "max         1.000000     1.000000            1.000000     1.000000   \n",
       "\n",
       "          Atypical  Stranger Things    Mr. Robot  The Blacklist      Lucifer  \\\n",
       "count  9690.000000      9690.000000  9690.000000    9690.000000  9690.000000   \n",
       "mean      0.139938         0.110423     0.109391       0.104850     0.097936   \n",
       "std       0.346941         0.313433     0.312145       0.306376     0.297243   \n",
       "min       0.000000         0.000000     0.000000       0.000000     0.000000   \n",
       "25%       0.000000         0.000000     0.000000       0.000000     0.000000   \n",
       "50%       0.000000         0.000000     0.000000       0.000000     0.000000   \n",
       "75%       0.000000         0.000000     0.000000       0.000000     0.000000   \n",
       "max       1.000000         1.000000     1.000000       1.000000     1.000000   \n",
       "\n",
       "         Daredevil         Dark  The Walking Dead    Cobra Kai  \\\n",
       "count  9690.000000  9690.000000       9690.000000  9690.000000   \n",
       "mean      0.093911     0.090093          0.088648     0.083075   \n",
       "std       0.291720     0.289556          0.284250     0.276010   \n",
       "min       0.000000     0.000000          0.000000     0.000000   \n",
       "25%       0.000000     0.000000          0.000000     0.000000   \n",
       "50%       0.000000     0.000000          0.000000     0.000000   \n",
       "75%       0.000000     0.000000          0.000000     0.000000   \n",
       "max       1.000000     2.000000          1.000000     1.000000   \n",
       "\n",
       "       How I met your mother     Absentia  Demon Slayer  The Mentalist  \\\n",
       "count            9690.000000  9690.000000   9690.000000    9690.000000   \n",
       "mean                0.080392     0.077090      0.075439       0.072549   \n",
       "std                 0.271913     0.266748      0.264111       0.259408   \n",
       "min                 0.000000     0.000000      0.000000       0.000000   \n",
       "25%                 0.000000     0.000000      0.000000       0.000000   \n",
       "50%                 0.000000     0.000000      0.000000       0.000000   \n",
       "75%                 0.000000     0.000000      0.000000       0.000000   \n",
       "max                 1.000000     1.000000      1.000000       1.000000   \n",
       "\n",
       "        Family Guy     The Wire      Kingdom  \n",
       "count  9690.000000  9690.000000  9690.000000  \n",
       "mean      0.071517     0.067905     0.065015  \n",
       "std       0.257700     0.260068     0.246566  \n",
       "min       0.000000     0.000000     0.000000  \n",
       "25%       0.000000     0.000000     0.000000  \n",
       "50%       0.000000     0.000000     0.000000  \n",
       "75%       0.000000     0.000000     0.000000  \n",
       "max       1.000000     2.000000     1.000000  "
      ]
     },
     "execution_count": 46,
     "metadata": {},
     "output_type": "execute_result"
    }
   ],
   "source": [
    "df_top20_multiple_record_check.describe()\n"
   ]
  },
  {
   "cell_type": "code",
   "execution_count": 47,
   "id": "192f81ae",
   "metadata": {},
   "outputs": [],
   "source": [
    "transaction = []\n",
    "for i in range(0, data.shape[0]):\n",
    "    transaction.append(data.values[i,0])\n",
    "\n",
    "transaction = np.array(transaction)\n",
    "\n",
    "\n",
    "df_first = pd.DataFrame(transaction, columns=[\"items\"])\n",
    "df_first[\"incident_count\"] = 1\n",
    "\n",
    "\n",
    "indexNames = df_first[df_first['items'] == \"nan\" ].index\n",
    "df_first.drop(indexNames , inplace=True)\n",
    "\n",
    "  \n",
    "df_table_first = df_first.groupby(\"items\").sum().sort_values(\"incident_count\", ascending=False).reset_index()\n",
    "df_table_first[\"movie\"] = \"movie\"\n",
    "df_table_first = df_table_first.truncate(before=-1, after=15)"
   ]
  },
  {
   "cell_type": "code",
   "execution_count": 48,
   "id": "0560773c",
   "metadata": {
    "scrolled": true
   },
   "outputs": [
    {
     "data": {
      "image/png": "[encoded data removed]",
      "text/plain": [
       "<Figure size 2000x2000 with 1 Axes>"
      ]
     },
     "metadata": {},
     "output_type": "display_data"
    }
   ],
   "source": [
    "plt.rcParams['figure.figsize'] = (20, 20)\n",
    "first_choice = nx.from_pandas_edgelist(df_table_first, source = 'movie', target = \"items\", edge_attr = True)\n",
    "pos = nx.spring_layout(first_choice)\n",
    "nx.draw_networkx_nodes(first_choice, pos, node_size = 12500, node_color = \"lavender\")\n",
    "nx.draw_networkx_edges(first_choice, pos, width = 3, alpha = 0.6, edge_color = 'black')\n",
    "nx.draw_networkx_labels(first_choice, pos, font_size = 18, font_family = 'sans-serif')\n",
    "plt.axis('off')\n",
    "plt.grid()\n",
    "plt.title('Top 15 First Choices', fontsize = 25)\n",
    "plt.show()"
   ]
  },
  {
   "cell_type": "code",
   "execution_count": 49,
   "id": "4beee09b",
   "metadata": {},
   "outputs": [],
   "source": [
    "transaction = []\n",
    "for i in range(0, data.shape[0]):\n",
    "    transaction.append(data.values[i,1])\n",
    "\n",
    "transaction = np.array(transaction)\n",
    "\n",
    "\n",
    "df_second = pd.DataFrame(transaction, columns=[\"items\"]) \n",
    "df_second[\"incident_count\"] = 1\n",
    "\n",
    "\n",
    "indexNames = df_second[df_second['items'] == \"nan\" ].index\n",
    "df_second.drop(indexNames , inplace=True)\n",
    "\n",
    " \n",
    "df_table_second = df_second.groupby(\"items\").sum().sort_values(\"incident_count\", ascending=False).reset_index()\n",
    "df_table_second[\"movie\"] = \"movie\"\n",
    "df_table_second = df_table_second.truncate(before=-1, after=15)"
   ]
  },
  {
   "cell_type": "code",
   "execution_count": 50,
   "id": "a0e9f54d",
   "metadata": {
    "scrolled": true
   },
   "outputs": [
    {
     "data": {
      "image/png": "[encoded data removed]",
      "text/plain": [
       "<Figure size 2000x2000 with 1 Axes>"
      ]
     },
     "metadata": {},
     "output_type": "display_data"
    }
   ],
   "source": [
    "second_choice = nx.from_pandas_edgelist(df_table_second, source = 'movie', target = \"items\", edge_attr = True)\n",
    "pos = nx.spring_layout(second_choice)\n",
    "nx.draw_networkx_nodes(second_choice, pos, node_size = 12500, node_color = \"honeydew\")\n",
    "nx.draw_networkx_edges(second_choice, pos, width = 3, alpha = 0.6, edge_color = 'black')\n",
    "nx.draw_networkx_labels(second_choice, pos, font_size = 18, font_family = 'sans-serif')\n",
    "plt.rcParams['figure.figsize'] = (20, 20)\n",
    "plt.axis('off')\n",
    "plt.grid()\n",
    "plt.title('Top 15 Second Choices', fontsize = 25)\n",
    "plt.show()"
   ]
  },
  {
   "cell_type": "code",
   "execution_count": 51,
   "id": "c2e01541",
   "metadata": {},
   "outputs": [],
   "source": [
    "transaction = []\n",
    "for i in range(0, data.shape[0]):\n",
    "    transaction.append(data.values[i,2])\n",
    "\n",
    "transaction = np.array(transaction)\n",
    "\n",
    "\n",
    "df_third = pd.DataFrame(transaction, columns=[\"items\"])\n",
    "df_third[\"incident_count\"] =\n",
    "\n",
    "\n",
    "indexNames = df_third[df_third['items'] == \"nan\" ].index\n",
    "df_third.drop(indexNames , inplace=True)\n",
    "\n",
    "  \n",
    "df_table_third = df_third.groupby(\"items\").sum().sort_values(\"incident_count\", ascending=False).reset_index()\n",
    "df_table_third[\"movie\"] = \"movie\"\n",
    "df_table_third = df_table_third.truncate(before=-1, after=15) "
   ]
  },
  {
   "cell_type": "code",
   "execution_count": 52,
   "id": "ee6dbe02",
   "metadata": {},
   "outputs": [
    {
     "data": {
      "application/vnd.plotly.v1+json": {
       "config": {
        "plotlyServerURL": "https://plot.ly"
       },
       "data": [
        {
         "hovertext": [
          "Sex Education",
          "Ozark",
          "Two and a half men",
          "Atypical",
          "Outer Banks",
          "Mr. Robot",
          "Demon Slayer",
          "The Blacklist",
          "The Walking Dead",
          "Stranger Things",
          "Family Guy",
          "Dark",
          "Berlin Station",
          "Jack Ryan",
          "How I met your mother",
          "Dr. House"
         ],
         "marker": {
          "color": "rgb(158,202,225)",
          "line": {
           "color": "rgb(8,48,107)",
           "width": 1.5
          }
         },
         "opacity": 0.65,
         "text": [
          499,
          406,
          288,
          285,
          226,
          205,
          147,
          142,
          136,
          135,
          113,
          109,
          107,
          100,
          98,
          94
         ],
         "textposition": "outside",
         "type": "bar",
         "x": [
          "Sex Education",
          "Ozark",
          "Two and a half men",
          "Atypical",
          "Outer Banks",
          "Mr. Robot",
          "Demon Slayer",
          "The Blacklist",
          "The Walking Dead",
          "Stranger Things",
          "Family Guy",
          "Dark",
          "Berlin Station",
          "Jack Ryan",
          "How I met your mother",
          "Dr. House"
         ],
         "y": [
          499,
          406,
          288,
          285,
          226,
          205,
          147,
          142,
          136,
          135,
          113,
          109,
          107,
          100,
          98,
          94
         ]
        }
       ],
       "layout": {
        "template": {
         "data": {
          "bar": [
           {
            "error_x": {
             "color": "#f2f5fa"
            },
            "error_y": {
             "color": "#f2f5fa"
            },
            "marker": {
             "line": {
              "color": "rgb(17,17,17)",
              "width": 0.5
             },
             "pattern": {
              "fillmode": "overlay",
              "size": 10,
              "solidity": 0.2
             }
            },
            "type": "bar"
           }
          ],
          "barpolar": [
           {
            "marker": {
             "line": {
              "color": "rgb(17,17,17)",
              "width": 0.5
             },
             "pattern": {
              "fillmode": "overlay",
              "size": 10,
              "solidity": 0.2
             }
            },
            "type": "barpolar"
           }
          ],
          "carpet": [
           {
            "aaxis": {
             "endlinecolor": "#A2B1C6",
             "gridcolor": "#506784",
             "linecolor": "#506784",
             "minorgridcolor": "#506784",
             "startlinecolor": "#A2B1C6"
            },
            "baxis": {
             "endlinecolor": "#A2B1C6",
             "gridcolor": "#506784",
             "linecolor": "#506784",
             "minorgridcolor": "#506784",
             "startlinecolor": "#A2B1C6"
            },
            "type": "carpet"
           }
          ],
          "choropleth": [
           {
            "colorbar": {
             "outlinewidth": 0,
             "ticks": ""
            },
            "type": "choropleth"
           }
          ],
          "contour": [
           {
            "colorbar": {
             "outlinewidth": 0,
             "ticks": ""
            },
            "colorscale": [
             [
              0,
              "#0d0887"
             ],
             [
              0.1111111111111111,
              "#46039f"
             ],
             [
              0.2222222222222222,
              "#7201a8"
             ],
             [
              0.3333333333333333,
              "#9c179e"
             ],
             [
              0.4444444444444444,
              "#bd3786"
             ],
             [
              0.5555555555555556,
              "#d8576b"
             ],
             [
              0.6666666666666666,
              "#ed7953"
             ],
             [
              0.7777777777777778,
              "#fb9f3a"
             ],
             [
              0.8888888888888888,
              "#fdca26"
             ],
             [
              1,
              "#f0f921"
             ]
            ],
            "type": "contour"
           }
          ],
          "contourcarpet": [
           {
            "colorbar": {
             "outlinewidth": 0,
             "ticks": ""
            },
            "type": "contourcarpet"
           }
          ],
          "heatmap": [
           {
            "colorbar": {
             "outlinewidth": 0,
             "ticks": ""
            },
            "colorscale": [
             [
              0,
              "#0d0887"
             ],
             [
              0.1111111111111111,
              "#46039f"
             ],
             [
              0.2222222222222222,
              "#7201a8"
             ],
             [
              0.3333333333333333,
              "#9c179e"
             ],
             [
              0.4444444444444444,
              "#bd3786"
             ],
             [
              0.5555555555555556,
              "#d8576b"
             ],
             [
              0.6666666666666666,
              "#ed7953"
             ],
             [
              0.7777777777777778,
              "#fb9f3a"
             ],
             [
              0.8888888888888888,
              "#fdca26"
             ],
             [
              1,
              "#f0f921"
             ]
            ],
            "type": "heatmap"
           }
          ],
          "heatmapgl": [
           {
            "colorbar": {
             "outlinewidth": 0,
             "ticks": ""
            },
            "colorscale": [
             [
              0,
              "#0d0887"
             ],
             [
              0.1111111111111111,
              "#46039f"
             ],
             [
              0.2222222222222222,
              "#7201a8"
             ],
             [
              0.3333333333333333,
              "#9c179e"
             ],
             [
              0.4444444444444444,
              "#bd3786"
             ],
             [
              0.5555555555555556,
              "#d8576b"
             ],
             [
              0.6666666666666666,
              "#ed7953"
             ],
             [
              0.7777777777777778,
              "#fb9f3a"
             ],
             [
              0.8888888888888888,
              "#fdca26"
             ],
             [
              1,
              "#f0f921"
             ]
            ],
            "type": "heatmapgl"
           }
          ],
          "histogram": [
           {
            "marker": {
             "pattern": {
              "fillmode": "overlay",
              "size": 10,
              "solidity": 0.2
             }
            },
            "type": "histogram"
           }
          ],
          "histogram2d": [
           {
            "colorbar": {
             "outlinewidth": 0,
             "ticks": ""
            },
            "colorscale": [
             [
              0,
              "#0d0887"
             ],
             [
              0.1111111111111111,
              "#46039f"
             ],
             [
              0.2222222222222222,
              "#7201a8"
             ],
             [
              0.3333333333333333,
              "#9c179e"
             ],
             [
              0.4444444444444444,
              "#bd3786"
             ],
             [
              0.5555555555555556,
              "#d8576b"
             ],
             [
              0.6666666666666666,
              "#ed7953"
             ],
             [
              0.7777777777777778,
              "#fb9f3a"
             ],
             [
              0.8888888888888888,
              "#fdca26"
             ],
             [
              1,
              "#f0f921"
             ]
            ],
            "type": "histogram2d"
           }
          ],
          "histogram2dcontour": [
           {
            "colorbar": {
             "outlinewidth": 0,
             "ticks": ""
            },
            "colorscale": [
             [
              0,
              "#0d0887"
             ],
             [
              0.1111111111111111,
              "#46039f"
             ],
             [
              0.2222222222222222,
              "#7201a8"
             ],
             [
              0.3333333333333333,
              "#9c179e"
             ],
             [
              0.4444444444444444,
              "#bd3786"
             ],
             [
              0.5555555555555556,
              "#d8576b"
             ],
             [
              0.6666666666666666,
              "#ed7953"
             ],
             [
              0.7777777777777778,
              "#fb9f3a"
             ],
             [
              0.8888888888888888,
              "#fdca26"
             ],
             [
              1,
              "#f0f921"
             ]
            ],
            "type": "histogram2dcontour"
           }
          ],
          "mesh3d": [
           {
            "colorbar": {
             "outlinewidth": 0,
             "ticks": ""
            },
            "type": "mesh3d"
           }
          ],
          "parcoords": [
           {
            "line": {
             "colorbar": {
              "outlinewidth": 0,
              "ticks": ""
             }
            },
            "type": "parcoords"
           }
          ],
          "pie": [
           {
            "automargin": true,
            "type": "pie"
           }
          ],
          "scatter": [
           {
            "marker": {
             "line": {
              "color": "#283442"
             }
            },
            "type": "scatter"
           }
          ],
          "scatter3d": [
           {
            "line": {
             "colorbar": {
              "outlinewidth": 0,
              "ticks": ""
             }
            },
            "marker": {
             "colorbar": {
              "outlinewidth": 0,
              "ticks": ""
             }
            },
            "type": "scatter3d"
           }
          ],
          "scattercarpet": [
           {
            "marker": {
             "colorbar": {
              "outlinewidth": 0,
              "ticks": ""
             }
            },
            "type": "scattercarpet"
           }
          ],
          "scattergeo": [
           {
            "marker": {
             "colorbar": {
              "outlinewidth": 0,
              "ticks": ""
             }
            },
            "type": "scattergeo"
           }
          ],
          "scattergl": [
           {
            "marker": {
             "line": {
              "color": "#283442"
             }
            },
            "type": "scattergl"
           }
          ],
          "scattermapbox": [
           {
            "marker": {
             "colorbar": {
              "outlinewidth": 0,
              "ticks": ""
             }
            },
            "type": "scattermapbox"
           }
          ],
          "scatterpolar": [
           {
            "marker": {
             "colorbar": {
              "outlinewidth": 0,
              "ticks": ""
             }
            },
            "type": "scatterpolar"
           }
          ],
          "scatterpolargl": [
           {
            "marker": {
             "colorbar": {
              "outlinewidth": 0,
              "ticks": ""
             }
            },
            "type": "scatterpolargl"
           }
          ],
          "scatterternary": [
           {
            "marker": {
             "colorbar": {
              "outlinewidth": 0,
              "ticks": ""
             }
            },
            "type": "scatterternary"
           }
          ],
          "surface": [
           {
            "colorbar": {
             "outlinewidth": 0,
             "ticks": ""
            },
            "colorscale": [
             [
              0,
              "#0d0887"
             ],
             [
              0.1111111111111111,
              "#46039f"
             ],
             [
              0.2222222222222222,
              "#7201a8"
             ],
             [
              0.3333333333333333,
              "#9c179e"
             ],
             [
              0.4444444444444444,
              "#bd3786"
             ],
             [
              0.5555555555555556,
              "#d8576b"
             ],
             [
              0.6666666666666666,
              "#ed7953"
             ],
             [
              0.7777777777777778,
              "#fb9f3a"
             ],
             [
              0.8888888888888888,
              "#fdca26"
             ],
             [
              1,
              "#f0f921"
             ]
            ],
            "type": "surface"
           }
          ],
          "table": [
           {
            "cells": {
             "fill": {
              "color": "#506784"
             },
             "line": {
              "color": "rgb(17,17,17)"
             }
            },
            "header": {
             "fill": {
              "color": "#2a3f5f"
             },
             "line": {
              "color": "rgb(17,17,17)"
             }
            },
            "type": "table"
           }
          ]
         },
         "layout": {
          "annotationdefaults": {
           "arrowcolor": "#f2f5fa",
           "arrowhead": 0,
           "arrowwidth": 1
          },
          "autotypenumbers": "strict",
          "coloraxis": {
           "colorbar": {
            "outlinewidth": 0,
            "ticks": ""
           }
          },
          "colorscale": {
           "diverging": [
            [
             0,
             "#8e0152"
            ],
            [
             0.1,
             "#c51b7d"
            ],
            [
             0.2,
             "#de77ae"
            ],
            [
             0.3,
             "#f1b6da"
            ],
            [
             0.4,
             "#fde0ef"
            ],
            [
             0.5,
             "#f7f7f7"
            ],
            [
             0.6,
             "#e6f5d0"
            ],
            [
             0.7,
             "#b8e186"
            ],
            [
             0.8,
             "#7fbc41"
            ],
            [
             0.9,
             "#4d9221"
            ],
            [
             1,
             "#276419"
            ]
           ],
           "sequential": [
            [
             0,
             "#0d0887"
            ],
            [
             0.1111111111111111,
             "#46039f"
            ],
            [
             0.2222222222222222,
             "#7201a8"
            ],
            [
             0.3333333333333333,
             "#9c179e"
            ],
            [
             0.4444444444444444,
             "#bd3786"
            ],
            [
             0.5555555555555556,
             "#d8576b"
            ],
            [
             0.6666666666666666,
             "#ed7953"
            ],
            [
             0.7777777777777778,
             "#fb9f3a"
            ],
            [
             0.8888888888888888,
             "#fdca26"
            ],
            [
             1,
             "#f0f921"
            ]
           ],
           "sequentialminus": [
            [
             0,
             "#0d0887"
            ],
            [
             0.1111111111111111,
             "#46039f"
            ],
            [
             0.2222222222222222,
             "#7201a8"
            ],
            [
             0.3333333333333333,
             "#9c179e"
            ],
            [
             0.4444444444444444,
             "#bd3786"
            ],
            [
             0.5555555555555556,
             "#d8576b"
            ],
            [
             0.6666666666666666,
             "#ed7953"
            ],
            [
             0.7777777777777778,
             "#fb9f3a"
            ],
            [
             0.8888888888888888,
             "#fdca26"
            ],
            [
             1,
             "#f0f921"
            ]
           ]
          },
          "colorway": [
           "#636efa",
           "#EF553B",
           "#00cc96",
           "#ab63fa",
           "#FFA15A",
           "#19d3f3",
           "#FF6692",
           "#B6E880",
           "#FF97FF",
           "#FECB52"
          ],
          "font": {
           "color": "#f2f5fa"
          },
          "geo": {
           "bgcolor": "rgb(17,17,17)",
           "lakecolor": "rgb(17,17,17)",
           "landcolor": "rgb(17,17,17)",
           "showlakes": true,
           "showland": true,
           "subunitcolor": "#506784"
          },
          "hoverlabel": {
           "align": "left"
          },
          "hovermode": "closest",
          "mapbox": {
           "style": "dark"
          },
          "paper_bgcolor": "rgb(17,17,17)",
          "plot_bgcolor": "rgb(17,17,17)",
          "polar": {
           "angularaxis": {
            "gridcolor": "#506784",
            "linecolor": "#506784",
            "ticks": ""
           },
           "bgcolor": "rgb(17,17,17)",
           "radialaxis": {
            "gridcolor": "#506784",
            "linecolor": "#506784",
            "ticks": ""
           }
          },
          "scene": {
           "xaxis": {
            "backgroundcolor": "rgb(17,17,17)",
            "gridcolor": "#506784",
            "gridwidth": 2,
            "linecolor": "#506784",
            "showbackground": true,
            "ticks": "",
            "zerolinecolor": "#C8D4E3"
           },
           "yaxis": {
            "backgroundcolor": "rgb(17,17,17)",
            "gridcolor": "#506784",
            "gridwidth": 2,
            "linecolor": "#506784",
            "showbackground": true,
            "ticks": "",
            "zerolinecolor": "#C8D4E3"
           },
           "zaxis": {
            "backgroundcolor": "rgb(17,17,17)",
            "gridcolor": "#506784",
            "gridwidth": 2,
            "linecolor": "#506784",
            "showbackground": true,
            "ticks": "",
            "zerolinecolor": "#C8D4E3"
           }
          },
          "shapedefaults": {
           "line": {
            "color": "#f2f5fa"
           }
          },
          "sliderdefaults": {
           "bgcolor": "#C8D4E3",
           "bordercolor": "rgb(17,17,17)",
           "borderwidth": 1,
           "tickwidth": 0
          },
          "ternary": {
           "aaxis": {
            "gridcolor": "#506784",
            "linecolor": "#506784",
            "ticks": ""
           },
           "baxis": {
            "gridcolor": "#506784",
            "linecolor": "#506784",
            "ticks": ""
           },
           "bgcolor": "rgb(17,17,17)",
           "caxis": {
            "gridcolor": "#506784",
            "linecolor": "#506784",
            "ticks": ""
           }
          },
          "title": {
           "x": 0.05
          },
          "updatemenudefaults": {
           "bgcolor": "#506784",
           "borderwidth": 0
          },
          "xaxis": {
           "automargin": true,
           "gridcolor": "#283442",
           "linecolor": "#506784",
           "ticks": "",
           "title": {
            "standoff": 15
           },
           "zerolinecolor": "#283442",
           "zerolinewidth": 2
          },
          "yaxis": {
           "automargin": true,
           "gridcolor": "#283442",
           "linecolor": "#506784",
           "ticks": "",
           "title": {
            "standoff": 15
           },
           "zerolinecolor": "#283442",
           "zerolinewidth": 2
          }
         }
        },
        "title": {
         "text": "Customers' Third Choices"
        }
       }
      },
      "text/html": [
       "<div>                            <div id=\"5a804315-1fd0-4ccd-82da-9c5f79230110\" class=\"plotly-graph-div\" style=\"height:525px; width:100%;\"></div>            <script type=\"text/javascript\">                require([\"plotly\"], function(Plotly) {                    window.PLOTLYENV=window.PLOTLYENV || {};                                    if (document.getElementById(\"5a804315-1fd0-4ccd-82da-9c5f79230110\")) {                    Plotly.newPlot(                        \"5a804315-1fd0-4ccd-82da-9c5f79230110\",                        [{\"hovertext\":[\"Sex Education\",\"Ozark\",\"Two and a half men\",\"Atypical\",\"Outer Banks\",\"Mr. Robot\",\"Demon Slayer\",\"The Blacklist\",\"The Walking Dead\",\"Stranger Things\",\"Family Guy\",\"Dark\",\"Berlin Station\",\"Jack Ryan\",\"How I met your mother\",\"Dr. House\"],\"text\":[499.0,406.0,288.0,285.0,226.0,205.0,147.0,142.0,136.0,135.0,113.0,109.0,107.0,100.0,98.0,94.0],\"textposition\":\"outside\",\"x\":[\"Sex Education\",\"Ozark\",\"Two and a half men\",\"Atypical\",\"Outer Banks\",\"Mr. Robot\",\"Demon Slayer\",\"The Blacklist\",\"The Walking Dead\",\"Stranger Things\",\"Family Guy\",\"Dark\",\"Berlin Station\",\"Jack Ryan\",\"How I met your mother\",\"Dr. House\"],\"y\":[499,406,288,285,226,205,147,142,136,135,113,109,107,100,98,94],\"type\":\"bar\",\"marker\":{\"line\":{\"color\":\"rgb(8,48,107)\",\"width\":1.5},\"color\":\"rgb(158,202,225)\"},\"opacity\":0.65}],                        {\"template\":{\"data\":{\"barpolar\":[{\"marker\":{\"line\":{\"color\":\"rgb(17,17,17)\",\"width\":0.5},\"pattern\":{\"fillmode\":\"overlay\",\"size\":10,\"solidity\":0.2}},\"type\":\"barpolar\"}],\"bar\":[{\"error_x\":{\"color\":\"#f2f5fa\"},\"error_y\":{\"color\":\"#f2f5fa\"},\"marker\":{\"line\":{\"color\":\"rgb(17,17,17)\",\"width\":0.5},\"pattern\":{\"fillmode\":\"overlay\",\"size\":10,\"solidity\":0.2}},\"type\":\"bar\"}],\"carpet\":[{\"aaxis\":{\"endlinecolor\":\"#A2B1C6\",\"gridcolor\":\"#506784\",\"linecolor\":\"#506784\",\"minorgridcolor\":\"#506784\",\"startlinecolor\":\"#A2B1C6\"},\"baxis\":{\"endlinecolor\":\"#A2B1C6\",\"gridcolor\":\"#506784\",\"linecolor\":\"#506784\",\"minorgridcolor\":\"#506784\",\"startlinecolor\":\"#A2B1C6\"},\"type\":\"carpet\"}],\"choropleth\":[{\"colorbar\":{\"outlinewidth\":0,\"ticks\":\"\"},\"type\":\"choropleth\"}],\"contourcarpet\":[{\"colorbar\":{\"outlinewidth\":0,\"ticks\":\"\"},\"type\":\"contourcarpet\"}],\"contour\":[{\"colorbar\":{\"outlinewidth\":0,\"ticks\":\"\"},\"colorscale\":[[0.0,\"#0d0887\"],[0.1111111111111111,\"#46039f\"],[0.2222222222222222,\"#7201a8\"],[0.3333333333333333,\"#9c179e\"],[0.4444444444444444,\"#bd3786\"],[0.5555555555555556,\"#d8576b\"],[0.6666666666666666,\"#ed7953\"],[0.7777777777777778,\"#fb9f3a\"],[0.8888888888888888,\"#fdca26\"],[1.0,\"#f0f921\"]],\"type\":\"contour\"}],\"heatmapgl\":[{\"colorbar\":{\"outlinewidth\":0,\"ticks\":\"\"},\"colorscale\":[[0.0,\"#0d0887\"],[0.1111111111111111,\"#46039f\"],[0.2222222222222222,\"#7201a8\"],[0.3333333333333333,\"#9c179e\"],[0.4444444444444444,\"#bd3786\"],[0.5555555555555556,\"#d8576b\"],[0.6666666666666666,\"#ed7953\"],[0.7777777777777778,\"#fb9f3a\"],[0.8888888888888888,\"#fdca26\"],[1.0,\"#f0f921\"]],\"type\":\"heatmapgl\"}],\"heatmap\":[{\"colorbar\":{\"outlinewidth\":0,\"ticks\":\"\"},\"colorscale\":[[0.0,\"#0d0887\"],[0.1111111111111111,\"#46039f\"],[0.2222222222222222,\"#7201a8\"],[0.3333333333333333,\"#9c179e\"],[0.4444444444444444,\"#bd3786\"],[0.5555555555555556,\"#d8576b\"],[0.6666666666666666,\"#ed7953\"],[0.7777777777777778,\"#fb9f3a\"],[0.8888888888888888,\"#fdca26\"],[1.0,\"#f0f921\"]],\"type\":\"heatmap\"}],\"histogram2dcontour\":[{\"colorbar\":{\"outlinewidth\":0,\"ticks\":\"\"},\"colorscale\":[[0.0,\"#0d0887\"],[0.1111111111111111,\"#46039f\"],[0.2222222222222222,\"#7201a8\"],[0.3333333333333333,\"#9c179e\"],[0.4444444444444444,\"#bd3786\"],[0.5555555555555556,\"#d8576b\"],[0.6666666666666666,\"#ed7953\"],[0.7777777777777778,\"#fb9f3a\"],[0.8888888888888888,\"#fdca26\"],[1.0,\"#f0f921\"]],\"type\":\"histogram2dcontour\"}],\"histogram2d\":[{\"colorbar\":{\"outlinewidth\":0,\"ticks\":\"\"},\"colorscale\":[[0.0,\"#0d0887\"],[0.1111111111111111,\"#46039f\"],[0.2222222222222222,\"#7201a8\"],[0.3333333333333333,\"#9c179e\"],[0.4444444444444444,\"#bd3786\"],[0.5555555555555556,\"#d8576b\"],[0.6666666666666666,\"#ed7953\"],[0.7777777777777778,\"#fb9f3a\"],[0.8888888888888888,\"#fdca26\"],[1.0,\"#f0f921\"]],\"type\":\"histogram2d\"}],\"histogram\":[{\"marker\":{\"pattern\":{\"fillmode\":\"overlay\",\"size\":10,\"solidity\":0.2}},\"type\":\"histogram\"}],\"mesh3d\":[{\"colorbar\":{\"outlinewidth\":0,\"ticks\":\"\"},\"type\":\"mesh3d\"}],\"parcoords\":[{\"line\":{\"colorbar\":{\"outlinewidth\":0,\"ticks\":\"\"}},\"type\":\"parcoords\"}],\"pie\":[{\"automargin\":true,\"type\":\"pie\"}],\"scatter3d\":[{\"line\":{\"colorbar\":{\"outlinewidth\":0,\"ticks\":\"\"}},\"marker\":{\"colorbar\":{\"outlinewidth\":0,\"ticks\":\"\"}},\"type\":\"scatter3d\"}],\"scattercarpet\":[{\"marker\":{\"colorbar\":{\"outlinewidth\":0,\"ticks\":\"\"}},\"type\":\"scattercarpet\"}],\"scattergeo\":[{\"marker\":{\"colorbar\":{\"outlinewidth\":0,\"ticks\":\"\"}},\"type\":\"scattergeo\"}],\"scattergl\":[{\"marker\":{\"line\":{\"color\":\"#283442\"}},\"type\":\"scattergl\"}],\"scattermapbox\":[{\"marker\":{\"colorbar\":{\"outlinewidth\":0,\"ticks\":\"\"}},\"type\":\"scattermapbox\"}],\"scatterpolargl\":[{\"marker\":{\"colorbar\":{\"outlinewidth\":0,\"ticks\":\"\"}},\"type\":\"scatterpolargl\"}],\"scatterpolar\":[{\"marker\":{\"colorbar\":{\"outlinewidth\":0,\"ticks\":\"\"}},\"type\":\"scatterpolar\"}],\"scatter\":[{\"marker\":{\"line\":{\"color\":\"#283442\"}},\"type\":\"scatter\"}],\"scatterternary\":[{\"marker\":{\"colorbar\":{\"outlinewidth\":0,\"ticks\":\"\"}},\"type\":\"scatterternary\"}],\"surface\":[{\"colorbar\":{\"outlinewidth\":0,\"ticks\":\"\"},\"colorscale\":[[0.0,\"#0d0887\"],[0.1111111111111111,\"#46039f\"],[0.2222222222222222,\"#7201a8\"],[0.3333333333333333,\"#9c179e\"],[0.4444444444444444,\"#bd3786\"],[0.5555555555555556,\"#d8576b\"],[0.6666666666666666,\"#ed7953\"],[0.7777777777777778,\"#fb9f3a\"],[0.8888888888888888,\"#fdca26\"],[1.0,\"#f0f921\"]],\"type\":\"surface\"}],\"table\":[{\"cells\":{\"fill\":{\"color\":\"#506784\"},\"line\":{\"color\":\"rgb(17,17,17)\"}},\"header\":{\"fill\":{\"color\":\"#2a3f5f\"},\"line\":{\"color\":\"rgb(17,17,17)\"}},\"type\":\"table\"}]},\"layout\":{\"annotationdefaults\":{\"arrowcolor\":\"#f2f5fa\",\"arrowhead\":0,\"arrowwidth\":1},\"autotypenumbers\":\"strict\",\"coloraxis\":{\"colorbar\":{\"outlinewidth\":0,\"ticks\":\"\"}},\"colorscale\":{\"diverging\":[[0,\"#8e0152\"],[0.1,\"#c51b7d\"],[0.2,\"#de77ae\"],[0.3,\"#f1b6da\"],[0.4,\"#fde0ef\"],[0.5,\"#f7f7f7\"],[0.6,\"#e6f5d0\"],[0.7,\"#b8e186\"],[0.8,\"#7fbc41\"],[0.9,\"#4d9221\"],[1,\"#276419\"]],\"sequential\":[[0.0,\"#0d0887\"],[0.1111111111111111,\"#46039f\"],[0.2222222222222222,\"#7201a8\"],[0.3333333333333333,\"#9c179e\"],[0.4444444444444444,\"#bd3786\"],[0.5555555555555556,\"#d8576b\"],[0.6666666666666666,\"#ed7953\"],[0.7777777777777778,\"#fb9f3a\"],[0.8888888888888888,\"#fdca26\"],[1.0,\"#f0f921\"]],\"sequentialminus\":[[0.0,\"#0d0887\"],[0.1111111111111111,\"#46039f\"],[0.2222222222222222,\"#7201a8\"],[0.3333333333333333,\"#9c179e\"],[0.4444444444444444,\"#bd3786\"],[0.5555555555555556,\"#d8576b\"],[0.6666666666666666,\"#ed7953\"],[0.7777777777777778,\"#fb9f3a\"],[0.8888888888888888,\"#fdca26\"],[1.0,\"#f0f921\"]]},\"colorway\":[\"#636efa\",\"#EF553B\",\"#00cc96\",\"#ab63fa\",\"#FFA15A\",\"#19d3f3\",\"#FF6692\",\"#B6E880\",\"#FF97FF\",\"#FECB52\"],\"font\":{\"color\":\"#f2f5fa\"},\"geo\":{\"bgcolor\":\"rgb(17,17,17)\",\"lakecolor\":\"rgb(17,17,17)\",\"landcolor\":\"rgb(17,17,17)\",\"showlakes\":true,\"showland\":true,\"subunitcolor\":\"#506784\"},\"hoverlabel\":{\"align\":\"left\"},\"hovermode\":\"closest\",\"mapbox\":{\"style\":\"dark\"},\"paper_bgcolor\":\"rgb(17,17,17)\",\"plot_bgcolor\":\"rgb(17,17,17)\",\"polar\":{\"angularaxis\":{\"gridcolor\":\"#506784\",\"linecolor\":\"#506784\",\"ticks\":\"\"},\"bgcolor\":\"rgb(17,17,17)\",\"radialaxis\":{\"gridcolor\":\"#506784\",\"linecolor\":\"#506784\",\"ticks\":\"\"}},\"scene\":{\"xaxis\":{\"backgroundcolor\":\"rgb(17,17,17)\",\"gridcolor\":\"#506784\",\"gridwidth\":2,\"linecolor\":\"#506784\",\"showbackground\":true,\"ticks\":\"\",\"zerolinecolor\":\"#C8D4E3\"},\"yaxis\":{\"backgroundcolor\":\"rgb(17,17,17)\",\"gridcolor\":\"#506784\",\"gridwidth\":2,\"linecolor\":\"#506784\",\"showbackground\":true,\"ticks\":\"\",\"zerolinecolor\":\"#C8D4E3\"},\"zaxis\":{\"backgroundcolor\":\"rgb(17,17,17)\",\"gridcolor\":\"#506784\",\"gridwidth\":2,\"linecolor\":\"#506784\",\"showbackground\":true,\"ticks\":\"\",\"zerolinecolor\":\"#C8D4E3\"}},\"shapedefaults\":{\"line\":{\"color\":\"#f2f5fa\"}},\"sliderdefaults\":{\"bgcolor\":\"#C8D4E3\",\"bordercolor\":\"rgb(17,17,17)\",\"borderwidth\":1,\"tickwidth\":0},\"ternary\":{\"aaxis\":{\"gridcolor\":\"#506784\",\"linecolor\":\"#506784\",\"ticks\":\"\"},\"baxis\":{\"gridcolor\":\"#506784\",\"linecolor\":\"#506784\",\"ticks\":\"\"},\"bgcolor\":\"rgb(17,17,17)\",\"caxis\":{\"gridcolor\":\"#506784\",\"linecolor\":\"#506784\",\"ticks\":\"\"}},\"title\":{\"x\":0.05},\"updatemenudefaults\":{\"bgcolor\":\"#506784\",\"borderwidth\":0},\"xaxis\":{\"automargin\":true,\"gridcolor\":\"#283442\",\"linecolor\":\"#506784\",\"ticks\":\"\",\"title\":{\"standoff\":15},\"zerolinecolor\":\"#283442\",\"zerolinewidth\":2},\"yaxis\":{\"automargin\":true,\"gridcolor\":\"#283442\",\"linecolor\":\"#506784\",\"ticks\":\"\",\"title\":{\"standoff\":15},\"zerolinecolor\":\"#283442\",\"zerolinewidth\":2}}},\"title\":{\"text\":\"Customers' Third Choices\"}},                        {\"responsive\": true}                    ).then(function(){\n",
       "                            \n",
       "var gd = document.getElementById('5a804315-1fd0-4ccd-82da-9c5f79230110');\n",
       "var x = new MutationObserver(function (mutations, observer) {{\n",
       "        var display = window.getComputedStyle(gd).display;\n",
       "        if (!display || display === 'none') {{\n",
       "            console.log([gd, 'removed!']);\n",
       "            Plotly.purge(gd);\n",
       "            observer.disconnect();\n",
       "        }}\n",
       "}});\n",
       "\n",
       "// Listen for the removal of the full notebook cells\n",
       "var notebookContainer = gd.closest('#notebook-container');\n",
       "if (notebookContainer) {{\n",
       "    x.observe(notebookContainer, {childList: true});\n",
       "}}\n",
       "\n",
       "// Listen for the clearing of the current output cell\n",
       "var outputEl = gd.closest('.output');\n",
       "if (outputEl) {{\n",
       "    x.observe(outputEl, {childList: true});\n",
       "}}\n",
       "\n",
       "                        })                };                });            </script>        </div>"
      ]
     },
     "metadata": {},
     "output_type": "display_data"
    }
   ],
   "source": [
    "fig = go.Figure(data=[go.Bar(x=df_table_third[\"items\"], y=df_table_third[\"incident_count\"],\n",
    "            hovertext=df_table_third[\"items\"], text=df_table_third[\"incident_count\"], textposition=\"outside\")])\n",
    "\n",
    "fig.update_traces(marker_color='rgb(158,202,225)', marker_line_color='rgb(8,48,107)',\n",
    "                  marker_line_width=1.5, opacity=0.65)\n",
    "fig.update_layout(title_text=\"Customers' Third Choices\", template=\"plotly_dark\")\n",
    "fig.show()"
   ]
  },
  {
   "cell_type": "markdown",
   "id": "2fee9967",
   "metadata": {},
   "source": [
    "# Data Pre-Processing"
   ]
  },
  {
   "cell_type": "code",
   "execution_count": 65,
   "id": "9fa90094",
   "metadata": {},
   "outputs": [
    {
     "data": {
      "text/plain": [
       "array([['Cobra Kai', 'Lupin', '12 Monkeys', ..., 'nan', 'nan', 'nan'],\n",
       "       ['Lost', 'Jack Ryan', 'The Flash', ..., 'nan', 'nan', 'nan'],\n",
       "       ['Sex Education', 'Dr. House', 'Kingdom', ..., 'nan', 'nan',\n",
       "        'nan'],\n",
       "       ...,\n",
       "       ['Daredevil', 'Atypical', 'Heros', ..., 'nan', 'nan', 'nan'],\n",
       "       ['Absentia', 'The Newsroom', 'The Alienist', ..., 'nan', 'nan',\n",
       "        'nan'],\n",
       "       ['Atypical', 'nan', 'nan', ..., 'nan', 'nan', 'nan']], dtype='<U28')"
      ]
     },
     "execution_count": 65,
     "metadata": {},
     "output_type": "execute_result"
    }
   ],
   "source": [
    "transaction = []\n",
    "\n",
    "for i in range(data.shape[0]):\n",
    "    transaction.append([str(data.values[i,j]) for j in range(data.shape[1])])\n",
    "    \n",
    "transaction = np.array(transaction)\n",
    "\n",
    "transaction"
   ]
  },
  {
   "cell_type": "code",
   "execution_count": 54,
   "id": "de364ffd",
   "metadata": {},
   "outputs": [
    {
     "data": {
      "text/html": [
       "<div>\n",
       "<style scoped>\n",
       "    .dataframe tbody tr th:only-of-type {\n",
       "        vertical-align: middle;\n",
       "    }\n",
       "\n",
       "    .dataframe tbody tr th {\n",
       "        vertical-align: top;\n",
       "    }\n",
       "\n",
       "    .dataframe thead th {\n",
       "        text-align: right;\n",
       "    }\n",
       "</style>\n",
       "<table border=\"1\" class=\"dataframe\">\n",
       "  <thead>\n",
       "    <tr style=\"text-align: right;\">\n",
       "      <th></th>\n",
       "      <th>12 Monkeys</th>\n",
       "      <th>24</th>\n",
       "      <th>Absentia</th>\n",
       "      <th>Alice in Borderland</th>\n",
       "      <th>Altered Carbon</th>\n",
       "      <th>American Gods</th>\n",
       "      <th>Another Life</th>\n",
       "      <th>Archer</th>\n",
       "      <th>Arrow</th>\n",
       "      <th>Atypical</th>\n",
       "      <th>...</th>\n",
       "      <th>Two and a half men</th>\n",
       "      <th>Upload</th>\n",
       "      <th>Vikings</th>\n",
       "      <th>Watchmen</th>\n",
       "      <th>Westworld</th>\n",
       "      <th>White Collar</th>\n",
       "      <th>X-Files</th>\n",
       "      <th>You</th>\n",
       "      <th>Young Sheldon</th>\n",
       "      <th>nan</th>\n",
       "    </tr>\n",
       "  </thead>\n",
       "  <tbody>\n",
       "    <tr>\n",
       "      <th>0</th>\n",
       "      <td>True</td>\n",
       "      <td>False</td>\n",
       "      <td>False</td>\n",
       "      <td>False</td>\n",
       "      <td>False</td>\n",
       "      <td>False</td>\n",
       "      <td>False</td>\n",
       "      <td>False</td>\n",
       "      <td>False</td>\n",
       "      <td>False</td>\n",
       "      <td>...</td>\n",
       "      <td>False</td>\n",
       "      <td>False</td>\n",
       "      <td>False</td>\n",
       "      <td>False</td>\n",
       "      <td>False</td>\n",
       "      <td>False</td>\n",
       "      <td>False</td>\n",
       "      <td>False</td>\n",
       "      <td>False</td>\n",
       "      <td>True</td>\n",
       "    </tr>\n",
       "    <tr>\n",
       "      <th>1</th>\n",
       "      <td>True</td>\n",
       "      <td>False</td>\n",
       "      <td>False</td>\n",
       "      <td>False</td>\n",
       "      <td>False</td>\n",
       "      <td>False</td>\n",
       "      <td>False</td>\n",
       "      <td>False</td>\n",
       "      <td>False</td>\n",
       "      <td>False</td>\n",
       "      <td>...</td>\n",
       "      <td>False</td>\n",
       "      <td>False</td>\n",
       "      <td>True</td>\n",
       "      <td>False</td>\n",
       "      <td>False</td>\n",
       "      <td>False</td>\n",
       "      <td>False</td>\n",
       "      <td>False</td>\n",
       "      <td>False</td>\n",
       "      <td>True</td>\n",
       "    </tr>\n",
       "    <tr>\n",
       "      <th>2</th>\n",
       "      <td>False</td>\n",
       "      <td>False</td>\n",
       "      <td>False</td>\n",
       "      <td>False</td>\n",
       "      <td>False</td>\n",
       "      <td>False</td>\n",
       "      <td>False</td>\n",
       "      <td>False</td>\n",
       "      <td>False</td>\n",
       "      <td>False</td>\n",
       "      <td>...</td>\n",
       "      <td>False</td>\n",
       "      <td>False</td>\n",
       "      <td>False</td>\n",
       "      <td>False</td>\n",
       "      <td>False</td>\n",
       "      <td>False</td>\n",
       "      <td>False</td>\n",
       "      <td>False</td>\n",
       "      <td>False</td>\n",
       "      <td>True</td>\n",
       "    </tr>\n",
       "    <tr>\n",
       "      <th>3</th>\n",
       "      <td>False</td>\n",
       "      <td>False</td>\n",
       "      <td>False</td>\n",
       "      <td>False</td>\n",
       "      <td>False</td>\n",
       "      <td>False</td>\n",
       "      <td>False</td>\n",
       "      <td>False</td>\n",
       "      <td>False</td>\n",
       "      <td>False</td>\n",
       "      <td>...</td>\n",
       "      <td>False</td>\n",
       "      <td>False</td>\n",
       "      <td>True</td>\n",
       "      <td>False</td>\n",
       "      <td>False</td>\n",
       "      <td>False</td>\n",
       "      <td>False</td>\n",
       "      <td>False</td>\n",
       "      <td>False</td>\n",
       "      <td>True</td>\n",
       "    </tr>\n",
       "    <tr>\n",
       "      <th>4</th>\n",
       "      <td>False</td>\n",
       "      <td>False</td>\n",
       "      <td>False</td>\n",
       "      <td>False</td>\n",
       "      <td>False</td>\n",
       "      <td>False</td>\n",
       "      <td>False</td>\n",
       "      <td>False</td>\n",
       "      <td>False</td>\n",
       "      <td>False</td>\n",
       "      <td>...</td>\n",
       "      <td>False</td>\n",
       "      <td>False</td>\n",
       "      <td>False</td>\n",
       "      <td>False</td>\n",
       "      <td>False</td>\n",
       "      <td>False</td>\n",
       "      <td>False</td>\n",
       "      <td>False</td>\n",
       "      <td>False</td>\n",
       "      <td>True</td>\n",
       "    </tr>\n",
       "    <tr>\n",
       "      <th>...</th>\n",
       "      <td>...</td>\n",
       "      <td>...</td>\n",
       "      <td>...</td>\n",
       "      <td>...</td>\n",
       "      <td>...</td>\n",
       "      <td>...</td>\n",
       "      <td>...</td>\n",
       "      <td>...</td>\n",
       "      <td>...</td>\n",
       "      <td>...</td>\n",
       "      <td>...</td>\n",
       "      <td>...</td>\n",
       "      <td>...</td>\n",
       "      <td>...</td>\n",
       "      <td>...</td>\n",
       "      <td>...</td>\n",
       "      <td>...</td>\n",
       "      <td>...</td>\n",
       "      <td>...</td>\n",
       "      <td>...</td>\n",
       "      <td>...</td>\n",
       "    </tr>\n",
       "    <tr>\n",
       "      <th>9685</th>\n",
       "      <td>False</td>\n",
       "      <td>False</td>\n",
       "      <td>False</td>\n",
       "      <td>False</td>\n",
       "      <td>False</td>\n",
       "      <td>False</td>\n",
       "      <td>False</td>\n",
       "      <td>False</td>\n",
       "      <td>False</td>\n",
       "      <td>False</td>\n",
       "      <td>...</td>\n",
       "      <td>True</td>\n",
       "      <td>False</td>\n",
       "      <td>False</td>\n",
       "      <td>False</td>\n",
       "      <td>False</td>\n",
       "      <td>False</td>\n",
       "      <td>False</td>\n",
       "      <td>False</td>\n",
       "      <td>False</td>\n",
       "      <td>True</td>\n",
       "    </tr>\n",
       "    <tr>\n",
       "      <th>9686</th>\n",
       "      <td>True</td>\n",
       "      <td>False</td>\n",
       "      <td>False</td>\n",
       "      <td>False</td>\n",
       "      <td>False</td>\n",
       "      <td>False</td>\n",
       "      <td>False</td>\n",
       "      <td>False</td>\n",
       "      <td>False</td>\n",
       "      <td>False</td>\n",
       "      <td>...</td>\n",
       "      <td>False</td>\n",
       "      <td>False</td>\n",
       "      <td>True</td>\n",
       "      <td>False</td>\n",
       "      <td>False</td>\n",
       "      <td>False</td>\n",
       "      <td>False</td>\n",
       "      <td>False</td>\n",
       "      <td>False</td>\n",
       "      <td>True</td>\n",
       "    </tr>\n",
       "    <tr>\n",
       "      <th>9687</th>\n",
       "      <td>False</td>\n",
       "      <td>False</td>\n",
       "      <td>False</td>\n",
       "      <td>False</td>\n",
       "      <td>False</td>\n",
       "      <td>False</td>\n",
       "      <td>False</td>\n",
       "      <td>False</td>\n",
       "      <td>False</td>\n",
       "      <td>True</td>\n",
       "      <td>...</td>\n",
       "      <td>False</td>\n",
       "      <td>False</td>\n",
       "      <td>False</td>\n",
       "      <td>False</td>\n",
       "      <td>False</td>\n",
       "      <td>False</td>\n",
       "      <td>False</td>\n",
       "      <td>False</td>\n",
       "      <td>False</td>\n",
       "      <td>True</td>\n",
       "    </tr>\n",
       "    <tr>\n",
       "      <th>9688</th>\n",
       "      <td>False</td>\n",
       "      <td>False</td>\n",
       "      <td>True</td>\n",
       "      <td>False</td>\n",
       "      <td>False</td>\n",
       "      <td>False</td>\n",
       "      <td>False</td>\n",
       "      <td>False</td>\n",
       "      <td>False</td>\n",
       "      <td>False</td>\n",
       "      <td>...</td>\n",
       "      <td>False</td>\n",
       "      <td>False</td>\n",
       "      <td>False</td>\n",
       "      <td>False</td>\n",
       "      <td>False</td>\n",
       "      <td>False</td>\n",
       "      <td>False</td>\n",
       "      <td>False</td>\n",
       "      <td>False</td>\n",
       "      <td>True</td>\n",
       "    </tr>\n",
       "    <tr>\n",
       "      <th>9689</th>\n",
       "      <td>False</td>\n",
       "      <td>False</td>\n",
       "      <td>False</td>\n",
       "      <td>False</td>\n",
       "      <td>False</td>\n",
       "      <td>False</td>\n",
       "      <td>False</td>\n",
       "      <td>False</td>\n",
       "      <td>False</td>\n",
       "      <td>True</td>\n",
       "      <td>...</td>\n",
       "      <td>False</td>\n",
       "      <td>False</td>\n",
       "      <td>False</td>\n",
       "      <td>False</td>\n",
       "      <td>False</td>\n",
       "      <td>False</td>\n",
       "      <td>False</td>\n",
       "      <td>False</td>\n",
       "      <td>False</td>\n",
       "      <td>True</td>\n",
       "    </tr>\n",
       "  </tbody>\n",
       "</table>\n",
       "<p>9690 rows × 157 columns</p>\n",
       "</div>"
      ],
      "text/plain": [
       "      12 Monkeys     24  Absentia  Alice in Borderland  Altered Carbon  \\\n",
       "0           True  False     False                False           False   \n",
       "1           True  False     False                False           False   \n",
       "2          False  False     False                False           False   \n",
       "3          False  False     False                False           False   \n",
       "4          False  False     False                False           False   \n",
       "...          ...    ...       ...                  ...             ...   \n",
       "9685       False  False     False                False           False   \n",
       "9686        True  False     False                False           False   \n",
       "9687       False  False     False                False           False   \n",
       "9688       False  False      True                False           False   \n",
       "9689       False  False     False                False           False   \n",
       "\n",
       "      American Gods  Another Life  Archer  Arrow  Atypical  ...  \\\n",
       "0             False         False   False  False     False  ...   \n",
       "1             False         False   False  False     False  ...   \n",
       "2             False         False   False  False     False  ...   \n",
       "3             False         False   False  False     False  ...   \n",
       "4             False         False   False  False     False  ...   \n",
       "...             ...           ...     ...    ...       ...  ...   \n",
       "9685          False         False   False  False     False  ...   \n",
       "9686          False         False   False  False     False  ...   \n",
       "9687          False         False   False  False      True  ...   \n",
       "9688          False         False   False  False     False  ...   \n",
       "9689          False         False   False  False      True  ...   \n",
       "\n",
       "      Two and a half men  Upload  Vikings  Watchmen  Westworld  White Collar  \\\n",
       "0                  False   False    False     False      False         False   \n",
       "1                  False   False     True     False      False         False   \n",
       "2                  False   False    False     False      False         False   \n",
       "3                  False   False     True     False      False         False   \n",
       "4                  False   False    False     False      False         False   \n",
       "...                  ...     ...      ...       ...        ...           ...   \n",
       "9685                True   False    False     False      False         False   \n",
       "9686               False   False     True     False      False         False   \n",
       "9687               False   False    False     False      False         False   \n",
       "9688               False   False    False     False      False         False   \n",
       "9689               False   False    False     False      False         False   \n",
       "\n",
       "      X-Files    You  Young Sheldon   nan  \n",
       "0       False  False          False  True  \n",
       "1       False  False          False  True  \n",
       "2       False  False          False  True  \n",
       "3       False  False          False  True  \n",
       "4       False  False          False  True  \n",
       "...       ...    ...            ...   ...  \n",
       "9685    False  False          False  True  \n",
       "9686    False  False          False  True  \n",
       "9687    False  False          False  True  \n",
       "9688    False  False          False  True  \n",
       "9689    False  False          False  True  \n",
       "\n",
       "[9690 rows x 157 columns]"
      ]
     },
     "execution_count": 54,
     "metadata": {},
     "output_type": "execute_result"
    }
   ],
   "source": [
    "te = TransactionEncoder()\n",
    "te_ary = te.fit(transaction).transform(transaction)\n",
    "dataset = pd.DataFrame(te_ary, columns=te.columns_)\n",
    "dataset"
   ]
  },
  {
   "cell_type": "code",
   "execution_count": 55,
   "id": "fc012613",
   "metadata": {},
   "outputs": [
    {
     "data": {
      "text/plain": [
       "(9690, 157)"
      ]
     },
     "execution_count": 55,
     "metadata": {},
     "output_type": "execute_result"
    }
   ],
   "source": [
    "dataset.shape"
   ]
  },
  {
   "cell_type": "code",
   "execution_count": 66,
   "id": "ccd9f639",
   "metadata": {},
   "outputs": [
    {
     "data": {
      "text/html": [
       "<div>\n",
       "<style scoped>\n",
       "    .dataframe tbody tr th:only-of-type {\n",
       "        vertical-align: middle;\n",
       "    }\n",
       "\n",
       "    .dataframe tbody tr th {\n",
       "        vertical-align: top;\n",
       "    }\n",
       "\n",
       "    .dataframe thead th {\n",
       "        text-align: right;\n",
       "    }\n",
       "</style>\n",
       "<table border=\"1\" class=\"dataframe\">\n",
       "  <thead>\n",
       "    <tr style=\"text-align: right;\">\n",
       "      <th></th>\n",
       "      <th>Sex Education</th>\n",
       "      <th>Ozark</th>\n",
       "      <th>Two and a half men</th>\n",
       "      <th>Outer Banks</th>\n",
       "      <th>Atypical</th>\n",
       "      <th>Stranger Things</th>\n",
       "      <th>Mr. Robot</th>\n",
       "      <th>The Blacklist</th>\n",
       "      <th>Lucifer</th>\n",
       "      <th>Daredevil</th>\n",
       "      <th>...</th>\n",
       "      <th>White Collar</th>\n",
       "      <th>Big Little Lies</th>\n",
       "      <th>Succession</th>\n",
       "      <th>Designated Survivor</th>\n",
       "      <th>The Night Manager</th>\n",
       "      <th>Mare of Easttown</th>\n",
       "      <th>Doctor Who</th>\n",
       "      <th>Only Murders in the building</th>\n",
       "      <th>Travellers</th>\n",
       "      <th>Brooklyn Nine Nine</th>\n",
       "    </tr>\n",
       "  </thead>\n",
       "  <tbody>\n",
       "    <tr>\n",
       "      <th>0</th>\n",
       "      <td>0</td>\n",
       "      <td>0</td>\n",
       "      <td>0</td>\n",
       "      <td>0</td>\n",
       "      <td>0</td>\n",
       "      <td>0</td>\n",
       "      <td>0</td>\n",
       "      <td>0</td>\n",
       "      <td>0</td>\n",
       "      <td>0</td>\n",
       "      <td>...</td>\n",
       "      <td>0</td>\n",
       "      <td>0</td>\n",
       "      <td>0</td>\n",
       "      <td>0</td>\n",
       "      <td>0</td>\n",
       "      <td>0</td>\n",
       "      <td>0</td>\n",
       "      <td>0</td>\n",
       "      <td>0</td>\n",
       "      <td>0</td>\n",
       "    </tr>\n",
       "    <tr>\n",
       "      <th>1</th>\n",
       "      <td>0</td>\n",
       "      <td>0</td>\n",
       "      <td>0</td>\n",
       "      <td>0</td>\n",
       "      <td>0</td>\n",
       "      <td>0</td>\n",
       "      <td>0</td>\n",
       "      <td>0</td>\n",
       "      <td>0</td>\n",
       "      <td>0</td>\n",
       "      <td>...</td>\n",
       "      <td>0</td>\n",
       "      <td>1</td>\n",
       "      <td>0</td>\n",
       "      <td>0</td>\n",
       "      <td>0</td>\n",
       "      <td>0</td>\n",
       "      <td>0</td>\n",
       "      <td>0</td>\n",
       "      <td>0</td>\n",
       "      <td>0</td>\n",
       "    </tr>\n",
       "    <tr>\n",
       "      <th>2</th>\n",
       "      <td>1</td>\n",
       "      <td>0</td>\n",
       "      <td>0</td>\n",
       "      <td>0</td>\n",
       "      <td>0</td>\n",
       "      <td>0</td>\n",
       "      <td>0</td>\n",
       "      <td>0</td>\n",
       "      <td>0</td>\n",
       "      <td>0</td>\n",
       "      <td>...</td>\n",
       "      <td>0</td>\n",
       "      <td>0</td>\n",
       "      <td>0</td>\n",
       "      <td>0</td>\n",
       "      <td>0</td>\n",
       "      <td>0</td>\n",
       "      <td>0</td>\n",
       "      <td>0</td>\n",
       "      <td>0</td>\n",
       "      <td>0</td>\n",
       "    </tr>\n",
       "    <tr>\n",
       "      <th>3</th>\n",
       "      <td>1</td>\n",
       "      <td>1</td>\n",
       "      <td>0</td>\n",
       "      <td>0</td>\n",
       "      <td>0</td>\n",
       "      <td>0</td>\n",
       "      <td>0</td>\n",
       "      <td>0</td>\n",
       "      <td>0</td>\n",
       "      <td>0</td>\n",
       "      <td>...</td>\n",
       "      <td>0</td>\n",
       "      <td>0</td>\n",
       "      <td>0</td>\n",
       "      <td>0</td>\n",
       "      <td>0</td>\n",
       "      <td>0</td>\n",
       "      <td>0</td>\n",
       "      <td>0</td>\n",
       "      <td>0</td>\n",
       "      <td>0</td>\n",
       "    </tr>\n",
       "    <tr>\n",
       "      <th>4</th>\n",
       "      <td>0</td>\n",
       "      <td>0</td>\n",
       "      <td>0</td>\n",
       "      <td>0</td>\n",
       "      <td>0</td>\n",
       "      <td>0</td>\n",
       "      <td>0</td>\n",
       "      <td>0</td>\n",
       "      <td>0</td>\n",
       "      <td>0</td>\n",
       "      <td>...</td>\n",
       "      <td>0</td>\n",
       "      <td>0</td>\n",
       "      <td>0</td>\n",
       "      <td>0</td>\n",
       "      <td>0</td>\n",
       "      <td>0</td>\n",
       "      <td>0</td>\n",
       "      <td>0</td>\n",
       "      <td>0</td>\n",
       "      <td>0</td>\n",
       "    </tr>\n",
       "    <tr>\n",
       "      <th>...</th>\n",
       "      <td>...</td>\n",
       "      <td>...</td>\n",
       "      <td>...</td>\n",
       "      <td>...</td>\n",
       "      <td>...</td>\n",
       "      <td>...</td>\n",
       "      <td>...</td>\n",
       "      <td>...</td>\n",
       "      <td>...</td>\n",
       "      <td>...</td>\n",
       "      <td>...</td>\n",
       "      <td>...</td>\n",
       "      <td>...</td>\n",
       "      <td>...</td>\n",
       "      <td>...</td>\n",
       "      <td>...</td>\n",
       "      <td>...</td>\n",
       "      <td>...</td>\n",
       "      <td>...</td>\n",
       "      <td>...</td>\n",
       "      <td>...</td>\n",
       "    </tr>\n",
       "    <tr>\n",
       "      <th>9685</th>\n",
       "      <td>0</td>\n",
       "      <td>0</td>\n",
       "      <td>1</td>\n",
       "      <td>0</td>\n",
       "      <td>0</td>\n",
       "      <td>0</td>\n",
       "      <td>0</td>\n",
       "      <td>1</td>\n",
       "      <td>0</td>\n",
       "      <td>0</td>\n",
       "      <td>...</td>\n",
       "      <td>0</td>\n",
       "      <td>0</td>\n",
       "      <td>0</td>\n",
       "      <td>0</td>\n",
       "      <td>0</td>\n",
       "      <td>0</td>\n",
       "      <td>0</td>\n",
       "      <td>0</td>\n",
       "      <td>0</td>\n",
       "      <td>0</td>\n",
       "    </tr>\n",
       "    <tr>\n",
       "      <th>9686</th>\n",
       "      <td>0</td>\n",
       "      <td>1</td>\n",
       "      <td>0</td>\n",
       "      <td>0</td>\n",
       "      <td>0</td>\n",
       "      <td>0</td>\n",
       "      <td>1</td>\n",
       "      <td>0</td>\n",
       "      <td>0</td>\n",
       "      <td>0</td>\n",
       "      <td>...</td>\n",
       "      <td>0</td>\n",
       "      <td>0</td>\n",
       "      <td>1</td>\n",
       "      <td>0</td>\n",
       "      <td>0</td>\n",
       "      <td>0</td>\n",
       "      <td>0</td>\n",
       "      <td>0</td>\n",
       "      <td>0</td>\n",
       "      <td>0</td>\n",
       "    </tr>\n",
       "    <tr>\n",
       "      <th>9687</th>\n",
       "      <td>0</td>\n",
       "      <td>0</td>\n",
       "      <td>0</td>\n",
       "      <td>0</td>\n",
       "      <td>1</td>\n",
       "      <td>0</td>\n",
       "      <td>0</td>\n",
       "      <td>0</td>\n",
       "      <td>0</td>\n",
       "      <td>1</td>\n",
       "      <td>...</td>\n",
       "      <td>0</td>\n",
       "      <td>0</td>\n",
       "      <td>0</td>\n",
       "      <td>0</td>\n",
       "      <td>0</td>\n",
       "      <td>0</td>\n",
       "      <td>0</td>\n",
       "      <td>0</td>\n",
       "      <td>0</td>\n",
       "      <td>0</td>\n",
       "    </tr>\n",
       "    <tr>\n",
       "      <th>9688</th>\n",
       "      <td>0</td>\n",
       "      <td>0</td>\n",
       "      <td>0</td>\n",
       "      <td>0</td>\n",
       "      <td>0</td>\n",
       "      <td>0</td>\n",
       "      <td>0</td>\n",
       "      <td>0</td>\n",
       "      <td>0</td>\n",
       "      <td>0</td>\n",
       "      <td>...</td>\n",
       "      <td>0</td>\n",
       "      <td>0</td>\n",
       "      <td>0</td>\n",
       "      <td>0</td>\n",
       "      <td>0</td>\n",
       "      <td>0</td>\n",
       "      <td>0</td>\n",
       "      <td>0</td>\n",
       "      <td>0</td>\n",
       "      <td>0</td>\n",
       "    </tr>\n",
       "    <tr>\n",
       "      <th>9689</th>\n",
       "      <td>0</td>\n",
       "      <td>0</td>\n",
       "      <td>0</td>\n",
       "      <td>0</td>\n",
       "      <td>1</td>\n",
       "      <td>0</td>\n",
       "      <td>0</td>\n",
       "      <td>0</td>\n",
       "      <td>0</td>\n",
       "      <td>0</td>\n",
       "      <td>...</td>\n",
       "      <td>0</td>\n",
       "      <td>0</td>\n",
       "      <td>0</td>\n",
       "      <td>0</td>\n",
       "      <td>0</td>\n",
       "      <td>0</td>\n",
       "      <td>0</td>\n",
       "      <td>0</td>\n",
       "      <td>0</td>\n",
       "      <td>0</td>\n",
       "    </tr>\n",
       "  </tbody>\n",
       "</table>\n",
       "<p>9690 rows × 50 columns</p>\n",
       "</div>"
      ],
      "text/plain": [
       "      Sex Education  Ozark  Two and a half men  Outer Banks  Atypical  \\\n",
       "0                 0      0                   0            0         0   \n",
       "1                 0      0                   0            0         0   \n",
       "2                 1      0                   0            0         0   \n",
       "3                 1      1                   0            0         0   \n",
       "4                 0      0                   0            0         0   \n",
       "...             ...    ...                 ...          ...       ...   \n",
       "9685              0      0                   1            0         0   \n",
       "9686              0      1                   0            0         0   \n",
       "9687              0      0                   0            0         1   \n",
       "9688              0      0                   0            0         0   \n",
       "9689              0      0                   0            0         1   \n",
       "\n",
       "      Stranger Things  Mr. Robot  The Blacklist  Lucifer  Daredevil  ...  \\\n",
       "0                   0          0              0        0          0  ...   \n",
       "1                   0          0              0        0          0  ...   \n",
       "2                   0          0              0        0          0  ...   \n",
       "3                   0          0              0        0          0  ...   \n",
       "4                   0          0              0        0          0  ...   \n",
       "...               ...        ...            ...      ...        ...  ...   \n",
       "9685                0          0              1        0          0  ...   \n",
       "9686                0          1              0        0          0  ...   \n",
       "9687                0          0              0        0          1  ...   \n",
       "9688                0          0              0        0          0  ...   \n",
       "9689                0          0              0        0          0  ...   \n",
       "\n",
       "      White Collar  Big Little Lies  Succession  Designated Survivor  \\\n",
       "0                0                0           0                    0   \n",
       "1                0                1           0                    0   \n",
       "2                0                0           0                    0   \n",
       "3                0                0           0                    0   \n",
       "4                0                0           0                    0   \n",
       "...            ...              ...         ...                  ...   \n",
       "9685             0                0           0                    0   \n",
       "9686             0                0           1                    0   \n",
       "9687             0                0           0                    0   \n",
       "9688             0                0           0                    0   \n",
       "9689             0                0           0                    0   \n",
       "\n",
       "      The Night Manager  Mare of Easttown  Doctor Who  \\\n",
       "0                     0                 0           0   \n",
       "1                     0                 0           0   \n",
       "2                     0                 0           0   \n",
       "3                     0                 0           0   \n",
       "4                     0                 0           0   \n",
       "...                 ...               ...         ...   \n",
       "9685                  0                 0           0   \n",
       "9686                  0                 0           0   \n",
       "9687                  0                 0           0   \n",
       "9688                  0                 0           0   \n",
       "9689                  0                 0           0   \n",
       "\n",
       "      Only Murders in the building  Travellers  Brooklyn Nine Nine  \n",
       "0                                0           0                   0  \n",
       "1                                0           0                   0  \n",
       "2                                0           0                   0  \n",
       "3                                0           0                   0  \n",
       "4                                0           0                   0  \n",
       "...                            ...         ...                 ...  \n",
       "9685                             0           0                   0  \n",
       "9686                             0           0                   0  \n",
       "9687                             0           0                   0  \n",
       "9688                             0           0                   0  \n",
       "9689                             0           0                   0  \n",
       "\n",
       "[9690 rows x 50 columns]"
      ]
     },
     "execution_count": 66,
     "metadata": {},
     "output_type": "execute_result"
    }
   ],
   "source": [
    "first50 = df_table[\"items\"].head(50).values \n",
    "dataset = dataset.loc[:,first50] \n",
    "dataset"
   ]
  },
  {
   "cell_type": "code",
   "execution_count": 68,
   "id": "cc868037",
   "metadata": {},
   "outputs": [
    {
     "data": {
      "text/plain": [
       "Index(['Sex Education', 'Ozark', 'Two and a half men', 'Outer Banks',\n",
       "       'Atypical', 'Stranger Things', 'Mr. Robot', 'The Blacklist', 'Lucifer',\n",
       "       'Daredevil', 'Dark', 'The Walking Dead', 'Cobra Kai',\n",
       "       'How I met your mother', 'Absentia', 'Demon Slayer', 'The Mentalist',\n",
       "       'Family Guy', 'The Wire', 'Kingdom', 'Dr. House', 'Hanna', '12 Monkeys',\n",
       "       'One Piece', 'Archer', 'Berlin Station', 'Jack Ryan',\n",
       "       'Queen of the South', 'Chernobyl', 'Shadow and Bone', 'Deception',\n",
       "       'The Stranger', 'Preacher', 'Spartacus', 'Banshee',\n",
       "       'How to get away with murder', 'Constantine', 'Vikings', 'Lost',\n",
       "       'Rick And Morty', 'White Collar', 'Big Little Lies', 'Succession',\n",
       "       'Designated Survivor', 'The Night Manager', 'Mare of Easttown',\n",
       "       'Doctor Who', 'Only Murders in the building', 'Travellers',\n",
       "       'Brooklyn Nine Nine'],\n",
       "      dtype='object')"
      ]
     },
     "execution_count": 68,
     "metadata": {},
     "output_type": "execute_result"
    }
   ],
   "source": [
    "dataset.columns"
   ]
  },
  {
   "cell_type": "code",
   "execution_count": 69,
   "id": "88474f49",
   "metadata": {},
   "outputs": [
    {
     "data": {
      "text/html": [
       "<div>\n",
       "<style scoped>\n",
       "    .dataframe tbody tr th:only-of-type {\n",
       "        vertical-align: middle;\n",
       "    }\n",
       "\n",
       "    .dataframe tbody tr th {\n",
       "        vertical-align: top;\n",
       "    }\n",
       "\n",
       "    .dataframe thead th {\n",
       "        text-align: right;\n",
       "    }\n",
       "</style>\n",
       "<table border=\"1\" class=\"dataframe\">\n",
       "  <thead>\n",
       "    <tr style=\"text-align: right;\">\n",
       "      <th></th>\n",
       "      <th>Sex Education</th>\n",
       "      <th>Ozark</th>\n",
       "      <th>Two and a half men</th>\n",
       "      <th>Outer Banks</th>\n",
       "      <th>Atypical</th>\n",
       "      <th>Stranger Things</th>\n",
       "      <th>Mr. Robot</th>\n",
       "      <th>The Blacklist</th>\n",
       "      <th>Lucifer</th>\n",
       "      <th>Daredevil</th>\n",
       "      <th>...</th>\n",
       "      <th>White Collar</th>\n",
       "      <th>Big Little Lies</th>\n",
       "      <th>Succession</th>\n",
       "      <th>Designated Survivor</th>\n",
       "      <th>The Night Manager</th>\n",
       "      <th>Mare of Easttown</th>\n",
       "      <th>Doctor Who</th>\n",
       "      <th>Only Murders in the building</th>\n",
       "      <th>Travellers</th>\n",
       "      <th>Brooklyn Nine Nine</th>\n",
       "    </tr>\n",
       "  </thead>\n",
       "  <tbody>\n",
       "    <tr>\n",
       "      <th>0</th>\n",
       "      <td>0</td>\n",
       "      <td>0</td>\n",
       "      <td>0</td>\n",
       "      <td>0</td>\n",
       "      <td>0</td>\n",
       "      <td>0</td>\n",
       "      <td>0</td>\n",
       "      <td>0</td>\n",
       "      <td>0</td>\n",
       "      <td>0</td>\n",
       "      <td>...</td>\n",
       "      <td>0</td>\n",
       "      <td>0</td>\n",
       "      <td>0</td>\n",
       "      <td>0</td>\n",
       "      <td>0</td>\n",
       "      <td>0</td>\n",
       "      <td>0</td>\n",
       "      <td>0</td>\n",
       "      <td>0</td>\n",
       "      <td>0</td>\n",
       "    </tr>\n",
       "    <tr>\n",
       "      <th>1</th>\n",
       "      <td>0</td>\n",
       "      <td>0</td>\n",
       "      <td>0</td>\n",
       "      <td>0</td>\n",
       "      <td>0</td>\n",
       "      <td>0</td>\n",
       "      <td>0</td>\n",
       "      <td>0</td>\n",
       "      <td>0</td>\n",
       "      <td>0</td>\n",
       "      <td>...</td>\n",
       "      <td>0</td>\n",
       "      <td>1</td>\n",
       "      <td>0</td>\n",
       "      <td>0</td>\n",
       "      <td>0</td>\n",
       "      <td>0</td>\n",
       "      <td>0</td>\n",
       "      <td>0</td>\n",
       "      <td>0</td>\n",
       "      <td>0</td>\n",
       "    </tr>\n",
       "    <tr>\n",
       "      <th>2</th>\n",
       "      <td>1</td>\n",
       "      <td>0</td>\n",
       "      <td>0</td>\n",
       "      <td>0</td>\n",
       "      <td>0</td>\n",
       "      <td>0</td>\n",
       "      <td>0</td>\n",
       "      <td>0</td>\n",
       "      <td>0</td>\n",
       "      <td>0</td>\n",
       "      <td>...</td>\n",
       "      <td>0</td>\n",
       "      <td>0</td>\n",
       "      <td>0</td>\n",
       "      <td>0</td>\n",
       "      <td>0</td>\n",
       "      <td>0</td>\n",
       "      <td>0</td>\n",
       "      <td>0</td>\n",
       "      <td>0</td>\n",
       "      <td>0</td>\n",
       "    </tr>\n",
       "    <tr>\n",
       "      <th>3</th>\n",
       "      <td>1</td>\n",
       "      <td>1</td>\n",
       "      <td>0</td>\n",
       "      <td>0</td>\n",
       "      <td>0</td>\n",
       "      <td>0</td>\n",
       "      <td>0</td>\n",
       "      <td>0</td>\n",
       "      <td>0</td>\n",
       "      <td>0</td>\n",
       "      <td>...</td>\n",
       "      <td>0</td>\n",
       "      <td>0</td>\n",
       "      <td>0</td>\n",
       "      <td>0</td>\n",
       "      <td>0</td>\n",
       "      <td>0</td>\n",
       "      <td>0</td>\n",
       "      <td>0</td>\n",
       "      <td>0</td>\n",
       "      <td>0</td>\n",
       "    </tr>\n",
       "    <tr>\n",
       "      <th>4</th>\n",
       "      <td>0</td>\n",
       "      <td>0</td>\n",
       "      <td>0</td>\n",
       "      <td>0</td>\n",
       "      <td>0</td>\n",
       "      <td>0</td>\n",
       "      <td>0</td>\n",
       "      <td>0</td>\n",
       "      <td>0</td>\n",
       "      <td>0</td>\n",
       "      <td>...</td>\n",
       "      <td>0</td>\n",
       "      <td>0</td>\n",
       "      <td>0</td>\n",
       "      <td>0</td>\n",
       "      <td>0</td>\n",
       "      <td>0</td>\n",
       "      <td>0</td>\n",
       "      <td>0</td>\n",
       "      <td>0</td>\n",
       "      <td>0</td>\n",
       "    </tr>\n",
       "    <tr>\n",
       "      <th>5</th>\n",
       "      <td>1</td>\n",
       "      <td>0</td>\n",
       "      <td>0</td>\n",
       "      <td>0</td>\n",
       "      <td>0</td>\n",
       "      <td>0</td>\n",
       "      <td>0</td>\n",
       "      <td>0</td>\n",
       "      <td>0</td>\n",
       "      <td>0</td>\n",
       "      <td>...</td>\n",
       "      <td>0</td>\n",
       "      <td>0</td>\n",
       "      <td>0</td>\n",
       "      <td>0</td>\n",
       "      <td>0</td>\n",
       "      <td>0</td>\n",
       "      <td>0</td>\n",
       "      <td>0</td>\n",
       "      <td>0</td>\n",
       "      <td>0</td>\n",
       "    </tr>\n",
       "    <tr>\n",
       "      <th>6</th>\n",
       "      <td>0</td>\n",
       "      <td>0</td>\n",
       "      <td>0</td>\n",
       "      <td>0</td>\n",
       "      <td>0</td>\n",
       "      <td>0</td>\n",
       "      <td>0</td>\n",
       "      <td>0</td>\n",
       "      <td>0</td>\n",
       "      <td>0</td>\n",
       "      <td>...</td>\n",
       "      <td>0</td>\n",
       "      <td>0</td>\n",
       "      <td>0</td>\n",
       "      <td>0</td>\n",
       "      <td>0</td>\n",
       "      <td>0</td>\n",
       "      <td>0</td>\n",
       "      <td>0</td>\n",
       "      <td>0</td>\n",
       "      <td>0</td>\n",
       "    </tr>\n",
       "    <tr>\n",
       "      <th>7</th>\n",
       "      <td>0</td>\n",
       "      <td>0</td>\n",
       "      <td>0</td>\n",
       "      <td>0</td>\n",
       "      <td>0</td>\n",
       "      <td>0</td>\n",
       "      <td>0</td>\n",
       "      <td>0</td>\n",
       "      <td>0</td>\n",
       "      <td>0</td>\n",
       "      <td>...</td>\n",
       "      <td>0</td>\n",
       "      <td>0</td>\n",
       "      <td>0</td>\n",
       "      <td>0</td>\n",
       "      <td>0</td>\n",
       "      <td>0</td>\n",
       "      <td>0</td>\n",
       "      <td>0</td>\n",
       "      <td>0</td>\n",
       "      <td>0</td>\n",
       "    </tr>\n",
       "    <tr>\n",
       "      <th>8</th>\n",
       "      <td>0</td>\n",
       "      <td>0</td>\n",
       "      <td>0</td>\n",
       "      <td>0</td>\n",
       "      <td>0</td>\n",
       "      <td>0</td>\n",
       "      <td>0</td>\n",
       "      <td>0</td>\n",
       "      <td>0</td>\n",
       "      <td>0</td>\n",
       "      <td>...</td>\n",
       "      <td>0</td>\n",
       "      <td>0</td>\n",
       "      <td>0</td>\n",
       "      <td>0</td>\n",
       "      <td>0</td>\n",
       "      <td>0</td>\n",
       "      <td>0</td>\n",
       "      <td>0</td>\n",
       "      <td>0</td>\n",
       "      <td>0</td>\n",
       "    </tr>\n",
       "    <tr>\n",
       "      <th>9</th>\n",
       "      <td>0</td>\n",
       "      <td>0</td>\n",
       "      <td>0</td>\n",
       "      <td>0</td>\n",
       "      <td>0</td>\n",
       "      <td>0</td>\n",
       "      <td>0</td>\n",
       "      <td>0</td>\n",
       "      <td>0</td>\n",
       "      <td>0</td>\n",
       "      <td>...</td>\n",
       "      <td>0</td>\n",
       "      <td>0</td>\n",
       "      <td>0</td>\n",
       "      <td>0</td>\n",
       "      <td>0</td>\n",
       "      <td>0</td>\n",
       "      <td>0</td>\n",
       "      <td>0</td>\n",
       "      <td>0</td>\n",
       "      <td>0</td>\n",
       "    </tr>\n",
       "  </tbody>\n",
       "</table>\n",
       "<p>10 rows × 50 columns</p>\n",
       "</div>"
      ],
      "text/plain": [
       "   Sex Education  Ozark  Two and a half men  Outer Banks  Atypical  \\\n",
       "0              0      0                   0            0         0   \n",
       "1              0      0                   0            0         0   \n",
       "2              1      0                   0            0         0   \n",
       "3              1      1                   0            0         0   \n",
       "4              0      0                   0            0         0   \n",
       "5              1      0                   0            0         0   \n",
       "6              0      0                   0            0         0   \n",
       "7              0      0                   0            0         0   \n",
       "8              0      0                   0            0         0   \n",
       "9              0      0                   0            0         0   \n",
       "\n",
       "   Stranger Things  Mr. Robot  The Blacklist  Lucifer  Daredevil  ...  \\\n",
       "0                0          0              0        0          0  ...   \n",
       "1                0          0              0        0          0  ...   \n",
       "2                0          0              0        0          0  ...   \n",
       "3                0          0              0        0          0  ...   \n",
       "4                0          0              0        0          0  ...   \n",
       "5                0          0              0        0          0  ...   \n",
       "6                0          0              0        0          0  ...   \n",
       "7                0          0              0        0          0  ...   \n",
       "8                0          0              0        0          0  ...   \n",
       "9                0          0              0        0          0  ...   \n",
       "\n",
       "   White Collar  Big Little Lies  Succession  Designated Survivor  \\\n",
       "0             0                0           0                    0   \n",
       "1             0                1           0                    0   \n",
       "2             0                0           0                    0   \n",
       "3             0                0           0                    0   \n",
       "4             0                0           0                    0   \n",
       "5             0                0           0                    0   \n",
       "6             0                0           0                    0   \n",
       "7             0                0           0                    0   \n",
       "8             0                0           0                    0   \n",
       "9             0                0           0                    0   \n",
       "\n",
       "   The Night Manager  Mare of Easttown  Doctor Who  \\\n",
       "0                  0                 0           0   \n",
       "1                  0                 0           0   \n",
       "2                  0                 0           0   \n",
       "3                  0                 0           0   \n",
       "4                  0                 0           0   \n",
       "5                  0                 0           0   \n",
       "6                  0                 0           0   \n",
       "7                  0                 0           0   \n",
       "8                  0                 0           0   \n",
       "9                  0                 0           0   \n",
       "\n",
       "   Only Murders in the building  Travellers  Brooklyn Nine Nine  \n",
       "0                             0           0                   0  \n",
       "1                             0           0                   0  \n",
       "2                             0           0                   0  \n",
       "3                             0           0                   0  \n",
       "4                             0           0                   0  \n",
       "5                             0           0                   0  \n",
       "6                             0           0                   0  \n",
       "7                             0           0                   0  \n",
       "8                             0           0                   0  \n",
       "9                             0           0                   0  \n",
       "\n",
       "[10 rows x 50 columns]"
      ]
     },
     "execution_count": 69,
     "metadata": {},
     "output_type": "execute_result"
    }
   ],
   "source": [
    "def encode_units(x):\n",
    "    if x == False:\n",
    "        return 0 \n",
    "    if x == True:\n",
    "        return 1\n",
    "    \n",
    "dataset = dataset.applymap(encode_units)\n",
    "dataset.head(10)\n"
   ]
  },
  {
   "cell_type": "markdown",
   "id": "e5a4eb1b",
   "metadata": {},
   "source": [
    "# Model "
   ]
  },
  {
   "cell_type": "code",
   "execution_count": 70,
   "id": "fc03b70a",
   "metadata": {},
   "outputs": [
    {
     "name": "stderr",
     "output_type": "stream",
     "text": [
      "C:\\Users\\caner\\AppData\\Roaming\\Python\\Python39\\site-packages\\mlxtend\\frequent_patterns\\fpcommon.py:111: DeprecationWarning:\n",
      "\n",
      "DataFrames with non-bool types result in worse computationalperformance and their support might be discontinued in the future.Please use a DataFrame with bool type\n",
      "\n"
     ]
    },
    {
     "data": {
      "text/html": [
       "<div>\n",
       "<style scoped>\n",
       "    .dataframe tbody tr th:only-of-type {\n",
       "        vertical-align: middle;\n",
       "    }\n",
       "\n",
       "    .dataframe tbody tr th {\n",
       "        vertical-align: top;\n",
       "    }\n",
       "\n",
       "    .dataframe thead th {\n",
       "        text-align: right;\n",
       "    }\n",
       "</style>\n",
       "<table border=\"1\" class=\"dataframe\">\n",
       "  <thead>\n",
       "    <tr style=\"text-align: right;\">\n",
       "      <th></th>\n",
       "      <th>support</th>\n",
       "      <th>itemsets</th>\n",
       "      <th>length</th>\n",
       "    </tr>\n",
       "  </thead>\n",
       "  <tbody>\n",
       "    <tr>\n",
       "      <th>0</th>\n",
       "      <td>0.255624</td>\n",
       "      <td>(Sex Education)</td>\n",
       "      <td>1</td>\n",
       "    </tr>\n",
       "    <tr>\n",
       "      <th>1</th>\n",
       "      <td>0.193705</td>\n",
       "      <td>(Ozark)</td>\n",
       "      <td>1</td>\n",
       "    </tr>\n",
       "    <tr>\n",
       "      <th>2</th>\n",
       "      <td>0.183591</td>\n",
       "      <td>(Two and a half men)</td>\n",
       "      <td>1</td>\n",
       "    </tr>\n",
       "    <tr>\n",
       "      <th>3</th>\n",
       "      <td>0.175026</td>\n",
       "      <td>(Outer Banks)</td>\n",
       "      <td>1</td>\n",
       "    </tr>\n",
       "    <tr>\n",
       "      <th>4</th>\n",
       "      <td>0.139938</td>\n",
       "      <td>(Atypical)</td>\n",
       "      <td>1</td>\n",
       "    </tr>\n",
       "    <tr>\n",
       "      <th>...</th>\n",
       "      <td>...</td>\n",
       "      <td>...</td>\n",
       "      <td>...</td>\n",
       "    </tr>\n",
       "    <tr>\n",
       "      <th>303</th>\n",
       "      <td>0.013003</td>\n",
       "      <td>(Mr. Robot, Ozark, Atypical)</td>\n",
       "      <td>3</td>\n",
       "    </tr>\n",
       "    <tr>\n",
       "      <th>304</th>\n",
       "      <td>0.012487</td>\n",
       "      <td>(Ozark, The Blacklist, Atypical)</td>\n",
       "      <td>3</td>\n",
       "    </tr>\n",
       "    <tr>\n",
       "      <th>305</th>\n",
       "      <td>0.010217</td>\n",
       "      <td>(Family Guy, Ozark, Atypical)</td>\n",
       "      <td>3</td>\n",
       "    </tr>\n",
       "    <tr>\n",
       "      <th>306</th>\n",
       "      <td>0.012487</td>\n",
       "      <td>(Mr. Robot, Ozark, The Blacklist)</td>\n",
       "      <td>3</td>\n",
       "    </tr>\n",
       "    <tr>\n",
       "      <th>307</th>\n",
       "      <td>0.010423</td>\n",
       "      <td>(Cobra Kai, Mr. Robot, Ozark)</td>\n",
       "      <td>3</td>\n",
       "    </tr>\n",
       "  </tbody>\n",
       "</table>\n",
       "<p>308 rows × 3 columns</p>\n",
       "</div>"
      ],
      "text/plain": [
       "      support                           itemsets  length\n",
       "0    0.255624                    (Sex Education)       1\n",
       "1    0.193705                            (Ozark)       1\n",
       "2    0.183591               (Two and a half men)       1\n",
       "3    0.175026                      (Outer Banks)       1\n",
       "4    0.139938                         (Atypical)       1\n",
       "..        ...                                ...     ...\n",
       "303  0.013003       (Mr. Robot, Ozark, Atypical)       3\n",
       "304  0.012487   (Ozark, The Blacklist, Atypical)       3\n",
       "305  0.010217      (Family Guy, Ozark, Atypical)       3\n",
       "306  0.012487  (Mr. Robot, Ozark, The Blacklist)       3\n",
       "307  0.010423      (Cobra Kai, Mr. Robot, Ozark)       3\n",
       "\n",
       "[308 rows x 3 columns]"
      ]
     },
     "execution_count": 70,
     "metadata": {},
     "output_type": "execute_result"
    }
   ],
   "source": [
    "#Filtreleme kolaylığını artırmak için uzunluk sütunu ekleme\n",
    "frequent_itemsets = apriori(dataset, min_support=0.01, use_colnames=True)\n",
    "frequent_itemsets['length'] = frequent_itemsets['itemsets'].apply(lambda x: len(x))\n",
    "frequent_itemsets\n"
   ]
  },
  {
   "cell_type": "code",
   "execution_count": 72,
   "id": "cd7373cb",
   "metadata": {},
   "outputs": [
    {
     "data": {
      "text/html": [
       "<div>\n",
       "<style scoped>\n",
       "    .dataframe tbody tr th:only-of-type {\n",
       "        vertical-align: middle;\n",
       "    }\n",
       "\n",
       "    .dataframe tbody tr th {\n",
       "        vertical-align: top;\n",
       "    }\n",
       "\n",
       "    .dataframe thead th {\n",
       "        text-align: right;\n",
       "    }\n",
       "</style>\n",
       "<table border=\"1\" class=\"dataframe\">\n",
       "  <thead>\n",
       "    <tr style=\"text-align: right;\">\n",
       "      <th></th>\n",
       "      <th>support</th>\n",
       "      <th>itemsets</th>\n",
       "      <th>length</th>\n",
       "    </tr>\n",
       "  </thead>\n",
       "  <tbody>\n",
       "    <tr>\n",
       "      <th>50</th>\n",
       "      <td>0.075129</td>\n",
       "      <td>(Sex Education, Ozark)</td>\n",
       "      <td>2</td>\n",
       "    </tr>\n",
       "    <tr>\n",
       "      <th>51</th>\n",
       "      <td>0.056553</td>\n",
       "      <td>(Sex Education, Two and a half men)</td>\n",
       "      <td>2</td>\n",
       "    </tr>\n",
       "    <tr>\n",
       "      <th>53</th>\n",
       "      <td>0.056140</td>\n",
       "      <td>(Sex Education, Atypical)</td>\n",
       "      <td>2</td>\n",
       "    </tr>\n",
       "  </tbody>\n",
       "</table>\n",
       "</div>"
      ],
      "text/plain": [
       "     support                             itemsets  length\n",
       "50  0.075129               (Sex Education, Ozark)       2\n",
       "51  0.056553  (Sex Education, Two and a half men)       2\n",
       "53  0.056140            (Sex Education, Atypical)       2"
      ]
     },
     "execution_count": 72,
     "metadata": {},
     "output_type": "execute_result"
    }
   ],
   "source": [
    "frequent_itemsets[ (frequent_itemsets['length'] == 2) &\n",
    "                   (frequent_itemsets['support'] >= 0.05) ]"
   ]
  },
  {
   "cell_type": "code",
   "execution_count": 73,
   "id": "09de5c0c",
   "metadata": {},
   "outputs": [
    {
     "data": {
      "text/html": [
       "<div>\n",
       "<style scoped>\n",
       "    .dataframe tbody tr th:only-of-type {\n",
       "        vertical-align: middle;\n",
       "    }\n",
       "\n",
       "    .dataframe tbody tr th {\n",
       "        vertical-align: top;\n",
       "    }\n",
       "\n",
       "    .dataframe thead th {\n",
       "        text-align: right;\n",
       "    }\n",
       "</style>\n",
       "<table border=\"1\" class=\"dataframe\">\n",
       "  <thead>\n",
       "    <tr style=\"text-align: right;\">\n",
       "      <th></th>\n",
       "      <th>support</th>\n",
       "      <th>itemsets</th>\n",
       "      <th>length</th>\n",
       "    </tr>\n",
       "  </thead>\n",
       "  <tbody>\n",
       "    <tr>\n",
       "      <th>274</th>\n",
       "      <td>0.018163</td>\n",
       "      <td>(Sex Education, Ozark, Two and a half men)</td>\n",
       "      <td>3</td>\n",
       "    </tr>\n",
       "    <tr>\n",
       "      <th>275</th>\n",
       "      <td>0.014035</td>\n",
       "      <td>(Sex Education, Ozark, Outer Banks)</td>\n",
       "      <td>3</td>\n",
       "    </tr>\n",
       "    <tr>\n",
       "      <th>276</th>\n",
       "      <td>0.022394</td>\n",
       "      <td>(Sex Education, Ozark, Atypical)</td>\n",
       "      <td>3</td>\n",
       "    </tr>\n",
       "    <tr>\n",
       "      <th>277</th>\n",
       "      <td>0.010733</td>\n",
       "      <td>(Sex Education, Ozark, Stranger Things)</td>\n",
       "      <td>3</td>\n",
       "    </tr>\n",
       "    <tr>\n",
       "      <th>278</th>\n",
       "      <td>0.023117</td>\n",
       "      <td>(Sex Education, Mr. Robot, Ozark)</td>\n",
       "      <td>3</td>\n",
       "    </tr>\n",
       "  </tbody>\n",
       "</table>\n",
       "</div>"
      ],
      "text/plain": [
       "      support                                    itemsets  length\n",
       "274  0.018163  (Sex Education, Ozark, Two and a half men)       3\n",
       "275  0.014035         (Sex Education, Ozark, Outer Banks)       3\n",
       "276  0.022394            (Sex Education, Ozark, Atypical)       3\n",
       "277  0.010733     (Sex Education, Ozark, Stranger Things)       3\n",
       "278  0.023117           (Sex Education, Mr. Robot, Ozark)       3"
      ]
     },
     "execution_count": 73,
     "metadata": {},
     "output_type": "execute_result"
    }
   ],
   "source": [
    "frequent_itemsets[ (frequent_itemsets['length'] == 3) ].head()"
   ]
  },
  {
   "cell_type": "code",
   "execution_count": 74,
   "id": "222ef54d",
   "metadata": {},
   "outputs": [
    {
     "data": {
      "text/html": [
       "<div>\n",
       "<style scoped>\n",
       "    .dataframe tbody tr th:only-of-type {\n",
       "        vertical-align: middle;\n",
       "    }\n",
       "\n",
       "    .dataframe tbody tr th {\n",
       "        vertical-align: top;\n",
       "    }\n",
       "\n",
       "    .dataframe thead th {\n",
       "        text-align: right;\n",
       "    }\n",
       "</style>\n",
       "<table border=\"1\" class=\"dataframe\">\n",
       "  <thead>\n",
       "    <tr style=\"text-align: right;\">\n",
       "      <th></th>\n",
       "      <th>antecedents</th>\n",
       "      <th>consequents</th>\n",
       "      <th>antecedent support</th>\n",
       "      <th>consequent support</th>\n",
       "      <th>support</th>\n",
       "      <th>confidence</th>\n",
       "      <th>lift</th>\n",
       "      <th>leverage</th>\n",
       "      <th>conviction</th>\n",
       "      <th>antecedents_length</th>\n",
       "      <th>consequents_length</th>\n",
       "    </tr>\n",
       "  </thead>\n",
       "  <tbody>\n",
       "    <tr>\n",
       "      <th>500</th>\n",
       "      <td>(Jack Ryan)</td>\n",
       "      <td>(Sex Education, Atypical)</td>\n",
       "      <td>0.053767</td>\n",
       "      <td>0.056140</td>\n",
       "      <td>0.010217</td>\n",
       "      <td>0.190019</td>\n",
       "      <td>3.384717</td>\n",
       "      <td>0.007198</td>\n",
       "      <td>1.165286</td>\n",
       "      <td>1</td>\n",
       "      <td>2</td>\n",
       "    </tr>\n",
       "    <tr>\n",
       "      <th>497</th>\n",
       "      <td>(Sex Education, Atypical)</td>\n",
       "      <td>(Jack Ryan)</td>\n",
       "      <td>0.056140</td>\n",
       "      <td>0.053767</td>\n",
       "      <td>0.010217</td>\n",
       "      <td>0.181985</td>\n",
       "      <td>3.384717</td>\n",
       "      <td>0.007198</td>\n",
       "      <td>1.156744</td>\n",
       "      <td>2</td>\n",
       "      <td>1</td>\n",
       "    </tr>\n",
       "    <tr>\n",
       "      <th>551</th>\n",
       "      <td>(Cobra Kai, Ozark)</td>\n",
       "      <td>(Mr. Robot)</td>\n",
       "      <td>0.028896</td>\n",
       "      <td>0.109391</td>\n",
       "      <td>0.010423</td>\n",
       "      <td>0.360714</td>\n",
       "      <td>3.297473</td>\n",
       "      <td>0.007262</td>\n",
       "      <td>1.393131</td>\n",
       "      <td>2</td>\n",
       "      <td>1</td>\n",
       "    </tr>\n",
       "    <tr>\n",
       "      <th>554</th>\n",
       "      <td>(Mr. Robot)</td>\n",
       "      <td>(Cobra Kai, Ozark)</td>\n",
       "      <td>0.109391</td>\n",
       "      <td>0.028896</td>\n",
       "      <td>0.010423</td>\n",
       "      <td>0.095283</td>\n",
       "      <td>3.297473</td>\n",
       "      <td>0.007262</td>\n",
       "      <td>1.073379</td>\n",
       "      <td>1</td>\n",
       "      <td>2</td>\n",
       "    </tr>\n",
       "    <tr>\n",
       "      <th>540</th>\n",
       "      <td>(Ozark, Atypical)</td>\n",
       "      <td>(Family Guy)</td>\n",
       "      <td>0.043756</td>\n",
       "      <td>0.071517</td>\n",
       "      <td>0.010217</td>\n",
       "      <td>0.233491</td>\n",
       "      <td>3.264825</td>\n",
       "      <td>0.007087</td>\n",
       "      <td>1.211313</td>\n",
       "      <td>2</td>\n",
       "      <td>1</td>\n",
       "    </tr>\n",
       "    <tr>\n",
       "      <th>...</th>\n",
       "      <td>...</td>\n",
       "      <td>...</td>\n",
       "      <td>...</td>\n",
       "      <td>...</td>\n",
       "      <td>...</td>\n",
       "      <td>...</td>\n",
       "      <td>...</td>\n",
       "      <td>...</td>\n",
       "      <td>...</td>\n",
       "      <td>...</td>\n",
       "      <td>...</td>\n",
       "    </tr>\n",
       "    <tr>\n",
       "      <th>2</th>\n",
       "      <td>(Sex Education)</td>\n",
       "      <td>(Two and a half men)</td>\n",
       "      <td>0.255624</td>\n",
       "      <td>0.183591</td>\n",
       "      <td>0.056553</td>\n",
       "      <td>0.221235</td>\n",
       "      <td>1.205043</td>\n",
       "      <td>0.009623</td>\n",
       "      <td>1.048338</td>\n",
       "      <td>1</td>\n",
       "      <td>1</td>\n",
       "    </tr>\n",
       "    <tr>\n",
       "      <th>77</th>\n",
       "      <td>(Two and a half men)</td>\n",
       "      <td>(Ozark)</td>\n",
       "      <td>0.183591</td>\n",
       "      <td>0.193705</td>\n",
       "      <td>0.042828</td>\n",
       "      <td>0.233277</td>\n",
       "      <td>1.204292</td>\n",
       "      <td>0.007265</td>\n",
       "      <td>1.051612</td>\n",
       "      <td>1</td>\n",
       "      <td>1</td>\n",
       "    </tr>\n",
       "    <tr>\n",
       "      <th>76</th>\n",
       "      <td>(Ozark)</td>\n",
       "      <td>(Two and a half men)</td>\n",
       "      <td>0.193705</td>\n",
       "      <td>0.183591</td>\n",
       "      <td>0.042828</td>\n",
       "      <td>0.221097</td>\n",
       "      <td>1.204292</td>\n",
       "      <td>0.007265</td>\n",
       "      <td>1.048153</td>\n",
       "      <td>1</td>\n",
       "      <td>1</td>\n",
       "    </tr>\n",
       "    <tr>\n",
       "      <th>84</th>\n",
       "      <td>(Ozark)</td>\n",
       "      <td>(Lucifer)</td>\n",
       "      <td>0.193705</td>\n",
       "      <td>0.097936</td>\n",
       "      <td>0.022807</td>\n",
       "      <td>0.117741</td>\n",
       "      <td>1.202224</td>\n",
       "      <td>0.003836</td>\n",
       "      <td>1.022448</td>\n",
       "      <td>1</td>\n",
       "      <td>1</td>\n",
       "    </tr>\n",
       "    <tr>\n",
       "      <th>85</th>\n",
       "      <td>(Lucifer)</td>\n",
       "      <td>(Ozark)</td>\n",
       "      <td>0.097936</td>\n",
       "      <td>0.193705</td>\n",
       "      <td>0.022807</td>\n",
       "      <td>0.232877</td>\n",
       "      <td>1.202224</td>\n",
       "      <td>0.003836</td>\n",
       "      <td>1.051063</td>\n",
       "      <td>1</td>\n",
       "      <td>1</td>\n",
       "    </tr>\n",
       "  </tbody>\n",
       "</table>\n",
       "<p>556 rows × 11 columns</p>\n",
       "</div>"
      ],
      "text/plain": [
       "                   antecedents                consequents  antecedent support  \\\n",
       "500                (Jack Ryan)  (Sex Education, Atypical)            0.053767   \n",
       "497  (Sex Education, Atypical)                (Jack Ryan)            0.056140   \n",
       "551         (Cobra Kai, Ozark)                (Mr. Robot)            0.028896   \n",
       "554                (Mr. Robot)         (Cobra Kai, Ozark)            0.109391   \n",
       "540          (Ozark, Atypical)               (Family Guy)            0.043756   \n",
       "..                         ...                        ...                 ...   \n",
       "2              (Sex Education)       (Two and a half men)            0.255624   \n",
       "77        (Two and a half men)                    (Ozark)            0.183591   \n",
       "76                     (Ozark)       (Two and a half men)            0.193705   \n",
       "84                     (Ozark)                  (Lucifer)            0.193705   \n",
       "85                   (Lucifer)                    (Ozark)            0.097936   \n",
       "\n",
       "     consequent support   support  confidence      lift  leverage  conviction  \\\n",
       "500            0.056140  0.010217    0.190019  3.384717  0.007198    1.165286   \n",
       "497            0.053767  0.010217    0.181985  3.384717  0.007198    1.156744   \n",
       "551            0.109391  0.010423    0.360714  3.297473  0.007262    1.393131   \n",
       "554            0.028896  0.010423    0.095283  3.297473  0.007262    1.073379   \n",
       "540            0.071517  0.010217    0.233491  3.264825  0.007087    1.211313   \n",
       "..                  ...       ...         ...       ...       ...         ...   \n",
       "2              0.183591  0.056553    0.221235  1.205043  0.009623    1.048338   \n",
       "77             0.193705  0.042828    0.233277  1.204292  0.007265    1.051612   \n",
       "76             0.183591  0.042828    0.221097  1.204292  0.007265    1.048153   \n",
       "84             0.097936  0.022807    0.117741  1.202224  0.003836    1.022448   \n",
       "85             0.193705  0.022807    0.232877  1.202224  0.003836    1.051063   \n",
       "\n",
       "     antecedents_length  consequents_length  \n",
       "500                   1                   2  \n",
       "497                   2                   1  \n",
       "551                   2                   1  \n",
       "554                   1                   2  \n",
       "540                   2                   1  \n",
       "..                  ...                 ...  \n",
       "2                     1                   1  \n",
       "77                    1                   1  \n",
       "76                    1                   1  \n",
       "84                    1                   1  \n",
       "85                    1                   1  \n",
       "\n",
       "[556 rows x 11 columns]"
      ]
     },
     "execution_count": 74,
     "metadata": {},
     "output_type": "execute_result"
    }
   ],
   "source": [
    "rules = association_rules(frequent_itemsets, metric=\"lift\", min_threshold=1.2)\n",
    "rules[\"antecedents_length\"] = rules[\"antecedents\"].apply(lambda x: len(x))\n",
    "rules[\"consequents_length\"] = rules[\"consequents\"].apply(lambda x: len(x))\n",
    "rules.sort_values(\"lift\",ascending=False)"
   ]
  },
  {
   "cell_type": "code",
   "execution_count": 75,
   "id": "68134781",
   "metadata": {},
   "outputs": [
    {
     "data": {
      "text/html": [
       "<div>\n",
       "<style scoped>\n",
       "    .dataframe tbody tr th:only-of-type {\n",
       "        vertical-align: middle;\n",
       "    }\n",
       "\n",
       "    .dataframe tbody tr th {\n",
       "        vertical-align: top;\n",
       "    }\n",
       "\n",
       "    .dataframe thead th {\n",
       "        text-align: right;\n",
       "    }\n",
       "</style>\n",
       "<table border=\"1\" class=\"dataframe\">\n",
       "  <thead>\n",
       "    <tr style=\"text-align: right;\">\n",
       "      <th></th>\n",
       "      <th>antecedents</th>\n",
       "      <th>consequents</th>\n",
       "      <th>antecedent support</th>\n",
       "      <th>consequent support</th>\n",
       "      <th>support</th>\n",
       "      <th>confidence</th>\n",
       "      <th>lift</th>\n",
       "      <th>leverage</th>\n",
       "      <th>conviction</th>\n",
       "      <th>antecedents_length</th>\n",
       "      <th>consequents_length</th>\n",
       "    </tr>\n",
       "  </thead>\n",
       "  <tbody>\n",
       "    <tr>\n",
       "      <th>545</th>\n",
       "      <td>(Mr. Robot, The Blacklist)</td>\n",
       "      <td>(Ozark)</td>\n",
       "      <td>0.021053</td>\n",
       "      <td>0.193705</td>\n",
       "      <td>0.012487</td>\n",
       "      <td>0.593137</td>\n",
       "      <td>3.062067</td>\n",
       "      <td>0.008409</td>\n",
       "      <td>1.981737</td>\n",
       "      <td>2</td>\n",
       "      <td>1</td>\n",
       "    </tr>\n",
       "    <tr>\n",
       "      <th>550</th>\n",
       "      <td>(Cobra Kai, Mr. Robot)</td>\n",
       "      <td>(Ozark)</td>\n",
       "      <td>0.017750</td>\n",
       "      <td>0.193705</td>\n",
       "      <td>0.010423</td>\n",
       "      <td>0.587209</td>\n",
       "      <td>3.031464</td>\n",
       "      <td>0.006985</td>\n",
       "      <td>1.953278</td>\n",
       "      <td>2</td>\n",
       "      <td>1</td>\n",
       "    </tr>\n",
       "    <tr>\n",
       "      <th>498</th>\n",
       "      <td>(Jack Ryan, Atypical)</td>\n",
       "      <td>(Sex Education)</td>\n",
       "      <td>0.017441</td>\n",
       "      <td>0.255624</td>\n",
       "      <td>0.010217</td>\n",
       "      <td>0.585799</td>\n",
       "      <td>2.291639</td>\n",
       "      <td>0.005758</td>\n",
       "      <td>1.797135</td>\n",
       "      <td>2</td>\n",
       "      <td>1</td>\n",
       "    </tr>\n",
       "    <tr>\n",
       "      <th>446</th>\n",
       "      <td>(Jack Ryan, Ozark)</td>\n",
       "      <td>(Sex Education)</td>\n",
       "      <td>0.017337</td>\n",
       "      <td>0.255624</td>\n",
       "      <td>0.010010</td>\n",
       "      <td>0.577381</td>\n",
       "      <td>2.258709</td>\n",
       "      <td>0.005578</td>\n",
       "      <td>1.761340</td>\n",
       "      <td>2</td>\n",
       "      <td>1</td>\n",
       "    </tr>\n",
       "    <tr>\n",
       "      <th>440</th>\n",
       "      <td>(Berlin Station, Ozark)</td>\n",
       "      <td>(Sex Education)</td>\n",
       "      <td>0.020124</td>\n",
       "      <td>0.255624</td>\n",
       "      <td>0.011558</td>\n",
       "      <td>0.574359</td>\n",
       "      <td>2.246887</td>\n",
       "      <td>0.006414</td>\n",
       "      <td>1.748834</td>\n",
       "      <td>2</td>\n",
       "      <td>1</td>\n",
       "    </tr>\n",
       "    <tr>\n",
       "      <th>...</th>\n",
       "      <td>...</td>\n",
       "      <td>...</td>\n",
       "      <td>...</td>\n",
       "      <td>...</td>\n",
       "      <td>...</td>\n",
       "      <td>...</td>\n",
       "      <td>...</td>\n",
       "      <td>...</td>\n",
       "      <td>...</td>\n",
       "      <td>...</td>\n",
       "      <td>...</td>\n",
       "    </tr>\n",
       "    <tr>\n",
       "      <th>393</th>\n",
       "      <td>(Sex Education)</td>\n",
       "      <td>(Daredevil, Ozark)</td>\n",
       "      <td>0.255624</td>\n",
       "      <td>0.026935</td>\n",
       "      <td>0.010217</td>\n",
       "      <td>0.039968</td>\n",
       "      <td>1.483858</td>\n",
       "      <td>0.003331</td>\n",
       "      <td>1.013575</td>\n",
       "      <td>1</td>\n",
       "      <td>2</td>\n",
       "    </tr>\n",
       "    <tr>\n",
       "      <th>435</th>\n",
       "      <td>(Sex Education)</td>\n",
       "      <td>(One Piece, Ozark)</td>\n",
       "      <td>0.255624</td>\n",
       "      <td>0.021775</td>\n",
       "      <td>0.010217</td>\n",
       "      <td>0.039968</td>\n",
       "      <td>1.835484</td>\n",
       "      <td>0.004650</td>\n",
       "      <td>1.018950</td>\n",
       "      <td>1</td>\n",
       "      <td>2</td>\n",
       "    </tr>\n",
       "    <tr>\n",
       "      <th>499</th>\n",
       "      <td>(Sex Education)</td>\n",
       "      <td>(Jack Ryan, Atypical)</td>\n",
       "      <td>0.255624</td>\n",
       "      <td>0.017441</td>\n",
       "      <td>0.010217</td>\n",
       "      <td>0.039968</td>\n",
       "      <td>2.291639</td>\n",
       "      <td>0.005758</td>\n",
       "      <td>1.023465</td>\n",
       "      <td>1</td>\n",
       "      <td>2</td>\n",
       "    </tr>\n",
       "    <tr>\n",
       "      <th>487</th>\n",
       "      <td>(Sex Education)</td>\n",
       "      <td>(Cobra Kai, Atypical)</td>\n",
       "      <td>0.255624</td>\n",
       "      <td>0.021569</td>\n",
       "      <td>0.010114</td>\n",
       "      <td>0.039564</td>\n",
       "      <td>1.834330</td>\n",
       "      <td>0.004600</td>\n",
       "      <td>1.018737</td>\n",
       "      <td>1</td>\n",
       "      <td>2</td>\n",
       "    </tr>\n",
       "    <tr>\n",
       "      <th>447</th>\n",
       "      <td>(Sex Education)</td>\n",
       "      <td>(Jack Ryan, Ozark)</td>\n",
       "      <td>0.255624</td>\n",
       "      <td>0.017337</td>\n",
       "      <td>0.010010</td>\n",
       "      <td>0.039160</td>\n",
       "      <td>2.258709</td>\n",
       "      <td>0.005578</td>\n",
       "      <td>1.022712</td>\n",
       "      <td>1</td>\n",
       "      <td>2</td>\n",
       "    </tr>\n",
       "  </tbody>\n",
       "</table>\n",
       "<p>556 rows × 11 columns</p>\n",
       "</div>"
      ],
      "text/plain": [
       "                    antecedents            consequents  antecedent support  \\\n",
       "545  (Mr. Robot, The Blacklist)                (Ozark)            0.021053   \n",
       "550      (Cobra Kai, Mr. Robot)                (Ozark)            0.017750   \n",
       "498       (Jack Ryan, Atypical)        (Sex Education)            0.017441   \n",
       "446          (Jack Ryan, Ozark)        (Sex Education)            0.017337   \n",
       "440     (Berlin Station, Ozark)        (Sex Education)            0.020124   \n",
       "..                          ...                    ...                 ...   \n",
       "393             (Sex Education)     (Daredevil, Ozark)            0.255624   \n",
       "435             (Sex Education)     (One Piece, Ozark)            0.255624   \n",
       "499             (Sex Education)  (Jack Ryan, Atypical)            0.255624   \n",
       "487             (Sex Education)  (Cobra Kai, Atypical)            0.255624   \n",
       "447             (Sex Education)     (Jack Ryan, Ozark)            0.255624   \n",
       "\n",
       "     consequent support   support  confidence      lift  leverage  conviction  \\\n",
       "545            0.193705  0.012487    0.593137  3.062067  0.008409    1.981737   \n",
       "550            0.193705  0.010423    0.587209  3.031464  0.006985    1.953278   \n",
       "498            0.255624  0.010217    0.585799  2.291639  0.005758    1.797135   \n",
       "446            0.255624  0.010010    0.577381  2.258709  0.005578    1.761340   \n",
       "440            0.255624  0.011558    0.574359  2.246887  0.006414    1.748834   \n",
       "..                  ...       ...         ...       ...       ...         ...   \n",
       "393            0.026935  0.010217    0.039968  1.483858  0.003331    1.013575   \n",
       "435            0.021775  0.010217    0.039968  1.835484  0.004650    1.018950   \n",
       "499            0.017441  0.010217    0.039968  2.291639  0.005758    1.023465   \n",
       "487            0.021569  0.010114    0.039564  1.834330  0.004600    1.018737   \n",
       "447            0.017337  0.010010    0.039160  2.258709  0.005578    1.022712   \n",
       "\n",
       "     antecedents_length  consequents_length  \n",
       "545                   2                   1  \n",
       "550                   2                   1  \n",
       "498                   2                   1  \n",
       "446                   2                   1  \n",
       "440                   2                   1  \n",
       "..                  ...                 ...  \n",
       "393                   1                   2  \n",
       "435                   1                   2  \n",
       "499                   1                   2  \n",
       "487                   1                   2  \n",
       "447                   1                   2  \n",
       "\n",
       "[556 rows x 11 columns]"
      ]
     },
     "execution_count": 75,
     "metadata": {},
     "output_type": "execute_result"
    }
   ],
   "source": [
    "rules.sort_values(\"confidence\",ascending=False)"
   ]
  },
  {
   "cell_type": "code",
   "execution_count": 84,
   "id": "43ad1470",
   "metadata": {},
   "outputs": [
    {
     "data": {
      "text/html": [
       "<div>\n",
       "<style scoped>\n",
       "    .dataframe tbody tr th:only-of-type {\n",
       "        vertical-align: middle;\n",
       "    }\n",
       "\n",
       "    .dataframe tbody tr th {\n",
       "        vertical-align: top;\n",
       "    }\n",
       "\n",
       "    .dataframe thead th {\n",
       "        text-align: right;\n",
       "    }\n",
       "</style>\n",
       "<table border=\"1\" class=\"dataframe\">\n",
       "  <thead>\n",
       "    <tr style=\"text-align: right;\">\n",
       "      <th></th>\n",
       "      <th>antecedents</th>\n",
       "      <th>consequents</th>\n",
       "      <th>antecedent support</th>\n",
       "      <th>consequent support</th>\n",
       "      <th>support</th>\n",
       "      <th>confidence</th>\n",
       "      <th>lift</th>\n",
       "      <th>leverage</th>\n",
       "      <th>conviction</th>\n",
       "      <th>antecedents_length</th>\n",
       "      <th>consequents_length</th>\n",
       "    </tr>\n",
       "  </thead>\n",
       "  <tbody>\n",
       "    <tr>\n",
       "      <th>545</th>\n",
       "      <td>(Mr. Robot, The Blacklist)</td>\n",
       "      <td>(Ozark)</td>\n",
       "      <td>0.021053</td>\n",
       "      <td>0.193705</td>\n",
       "      <td>0.012487</td>\n",
       "      <td>0.593137</td>\n",
       "      <td>3.062067</td>\n",
       "      <td>0.008409</td>\n",
       "      <td>1.981737</td>\n",
       "      <td>2</td>\n",
       "      <td>1</td>\n",
       "    </tr>\n",
       "    <tr>\n",
       "      <th>550</th>\n",
       "      <td>(Cobra Kai, Mr. Robot)</td>\n",
       "      <td>(Ozark)</td>\n",
       "      <td>0.017750</td>\n",
       "      <td>0.193705</td>\n",
       "      <td>0.010423</td>\n",
       "      <td>0.587209</td>\n",
       "      <td>3.031464</td>\n",
       "      <td>0.006985</td>\n",
       "      <td>1.953278</td>\n",
       "      <td>2</td>\n",
       "      <td>1</td>\n",
       "    </tr>\n",
       "    <tr>\n",
       "      <th>521</th>\n",
       "      <td>(Mr. Robot, Two and a half men)</td>\n",
       "      <td>(Ozark)</td>\n",
       "      <td>0.024561</td>\n",
       "      <td>0.193705</td>\n",
       "      <td>0.012384</td>\n",
       "      <td>0.504202</td>\n",
       "      <td>2.602938</td>\n",
       "      <td>0.007626</td>\n",
       "      <td>1.626256</td>\n",
       "      <td>2</td>\n",
       "      <td>1</td>\n",
       "    </tr>\n",
       "    <tr>\n",
       "      <th>527</th>\n",
       "      <td>(Mr. Robot, Atypical)</td>\n",
       "      <td>(Ozark)</td>\n",
       "      <td>0.025903</td>\n",
       "      <td>0.193705</td>\n",
       "      <td>0.013003</td>\n",
       "      <td>0.501992</td>\n",
       "      <td>2.591531</td>\n",
       "      <td>0.007986</td>\n",
       "      <td>1.619041</td>\n",
       "      <td>2</td>\n",
       "      <td>1</td>\n",
       "    </tr>\n",
       "    <tr>\n",
       "      <th>539</th>\n",
       "      <td>(Family Guy, Atypical)</td>\n",
       "      <td>(Ozark)</td>\n",
       "      <td>0.020743</td>\n",
       "      <td>0.193705</td>\n",
       "      <td>0.010217</td>\n",
       "      <td>0.492537</td>\n",
       "      <td>2.542721</td>\n",
       "      <td>0.006199</td>\n",
       "      <td>1.588876</td>\n",
       "      <td>2</td>\n",
       "      <td>1</td>\n",
       "    </tr>\n",
       "    <tr>\n",
       "      <th>142</th>\n",
       "      <td>(Succession)</td>\n",
       "      <td>(Ozark)</td>\n",
       "      <td>0.031373</td>\n",
       "      <td>0.193705</td>\n",
       "      <td>0.014345</td>\n",
       "      <td>0.457237</td>\n",
       "      <td>2.360482</td>\n",
       "      <td>0.008268</td>\n",
       "      <td>1.485538</td>\n",
       "      <td>1</td>\n",
       "      <td>1</td>\n",
       "    </tr>\n",
       "    <tr>\n",
       "      <th>80</th>\n",
       "      <td>(Mr. Robot)</td>\n",
       "      <td>(Ozark)</td>\n",
       "      <td>0.109391</td>\n",
       "      <td>0.193705</td>\n",
       "      <td>0.047575</td>\n",
       "      <td>0.434906</td>\n",
       "      <td>2.245198</td>\n",
       "      <td>0.026385</td>\n",
       "      <td>1.426833</td>\n",
       "      <td>1</td>\n",
       "      <td>1</td>\n",
       "    </tr>\n",
       "    <tr>\n",
       "      <th>534</th>\n",
       "      <td>(The Blacklist, Atypical)</td>\n",
       "      <td>(Ozark)</td>\n",
       "      <td>0.029618</td>\n",
       "      <td>0.193705</td>\n",
       "      <td>0.012487</td>\n",
       "      <td>0.421603</td>\n",
       "      <td>2.176522</td>\n",
       "      <td>0.006750</td>\n",
       "      <td>1.394016</td>\n",
       "      <td>2</td>\n",
       "      <td>1</td>\n",
       "    </tr>\n",
       "    <tr>\n",
       "      <th>138</th>\n",
       "      <td>(Lost)</td>\n",
       "      <td>(Ozark)</td>\n",
       "      <td>0.033333</td>\n",
       "      <td>0.193705</td>\n",
       "      <td>0.014035</td>\n",
       "      <td>0.421053</td>\n",
       "      <td>2.173681</td>\n",
       "      <td>0.007578</td>\n",
       "      <td>1.392692</td>\n",
       "      <td>1</td>\n",
       "      <td>1</td>\n",
       "    </tr>\n",
       "    <tr>\n",
       "      <th>124</th>\n",
       "      <td>(The Stranger)</td>\n",
       "      <td>(Ozark)</td>\n",
       "      <td>0.043034</td>\n",
       "      <td>0.193705</td>\n",
       "      <td>0.018060</td>\n",
       "      <td>0.419664</td>\n",
       "      <td>2.166514</td>\n",
       "      <td>0.009724</td>\n",
       "      <td>1.389360</td>\n",
       "      <td>1</td>\n",
       "      <td>1</td>\n",
       "    </tr>\n",
       "  </tbody>\n",
       "</table>\n",
       "</div>"
      ],
      "text/plain": [
       "                         antecedents consequents  antecedent support  \\\n",
       "545       (Mr. Robot, The Blacklist)     (Ozark)            0.021053   \n",
       "550           (Cobra Kai, Mr. Robot)     (Ozark)            0.017750   \n",
       "521  (Mr. Robot, Two and a half men)     (Ozark)            0.024561   \n",
       "527            (Mr. Robot, Atypical)     (Ozark)            0.025903   \n",
       "539           (Family Guy, Atypical)     (Ozark)            0.020743   \n",
       "142                     (Succession)     (Ozark)            0.031373   \n",
       "80                       (Mr. Robot)     (Ozark)            0.109391   \n",
       "534        (The Blacklist, Atypical)     (Ozark)            0.029618   \n",
       "138                           (Lost)     (Ozark)            0.033333   \n",
       "124                   (The Stranger)     (Ozark)            0.043034   \n",
       "\n",
       "     consequent support   support  confidence      lift  leverage  conviction  \\\n",
       "545            0.193705  0.012487    0.593137  3.062067  0.008409    1.981737   \n",
       "550            0.193705  0.010423    0.587209  3.031464  0.006985    1.953278   \n",
       "521            0.193705  0.012384    0.504202  2.602938  0.007626    1.626256   \n",
       "527            0.193705  0.013003    0.501992  2.591531  0.007986    1.619041   \n",
       "539            0.193705  0.010217    0.492537  2.542721  0.006199    1.588876   \n",
       "142            0.193705  0.014345    0.457237  2.360482  0.008268    1.485538   \n",
       "80             0.193705  0.047575    0.434906  2.245198  0.026385    1.426833   \n",
       "534            0.193705  0.012487    0.421603  2.176522  0.006750    1.394016   \n",
       "138            0.193705  0.014035    0.421053  2.173681  0.007578    1.392692   \n",
       "124            0.193705  0.018060    0.419664  2.166514  0.009724    1.389360   \n",
       "\n",
       "     antecedents_length  consequents_length  \n",
       "545                   2                   1  \n",
       "550                   2                   1  \n",
       "521                   2                   1  \n",
       "527                   2                   1  \n",
       "539                   2                   1  \n",
       "142                   1                   1  \n",
       "80                    1                   1  \n",
       "534                   2                   1  \n",
       "138                   1                   1  \n",
       "124                   1                   1  "
      ]
     },
     "execution_count": 84,
     "metadata": {},
     "output_type": "execute_result"
    }
   ],
   "source": [
    "rules[~rules[\"consequents\"].str.contains(\"Sex Education\", regex=False) & \n",
    "      ~rules[\"antecedents\"].str.contains(\"Sex Education\", regex=False)].sort_values(\"confidence\", ascending=False).head(10)"
   ]
  },
  {
   "cell_type": "code",
   "execution_count": 85,
   "id": "e097d587",
   "metadata": {},
   "outputs": [
    {
     "data": {
      "text/html": [
       "<div>\n",
       "<style scoped>\n",
       "    .dataframe tbody tr th:only-of-type {\n",
       "        vertical-align: middle;\n",
       "    }\n",
       "\n",
       "    .dataframe tbody tr th {\n",
       "        vertical-align: top;\n",
       "    }\n",
       "\n",
       "    .dataframe thead th {\n",
       "        text-align: right;\n",
       "    }\n",
       "</style>\n",
       "<table border=\"1\" class=\"dataframe\">\n",
       "  <thead>\n",
       "    <tr style=\"text-align: right;\">\n",
       "      <th></th>\n",
       "      <th>antecedents</th>\n",
       "      <th>consequents</th>\n",
       "      <th>antecedent support</th>\n",
       "      <th>consequent support</th>\n",
       "      <th>support</th>\n",
       "      <th>confidence</th>\n",
       "      <th>lift</th>\n",
       "      <th>leverage</th>\n",
       "      <th>conviction</th>\n",
       "      <th>antecedents_length</th>\n",
       "      <th>consequents_length</th>\n",
       "    </tr>\n",
       "  </thead>\n",
       "  <tbody>\n",
       "    <tr>\n",
       "      <th>9</th>\n",
       "      <td>(Mr. Robot)</td>\n",
       "      <td>(Sex Education)</td>\n",
       "      <td>0.109391</td>\n",
       "      <td>0.255624</td>\n",
       "      <td>0.048916</td>\n",
       "      <td>0.447170</td>\n",
       "      <td>1.749324</td>\n",
       "      <td>0.020953</td>\n",
       "      <td>1.346482</td>\n",
       "      <td>1</td>\n",
       "      <td>1</td>\n",
       "    </tr>\n",
       "    <tr>\n",
       "      <th>80</th>\n",
       "      <td>(Mr. Robot)</td>\n",
       "      <td>(Ozark)</td>\n",
       "      <td>0.109391</td>\n",
       "      <td>0.193705</td>\n",
       "      <td>0.047575</td>\n",
       "      <td>0.434906</td>\n",
       "      <td>2.245198</td>\n",
       "      <td>0.026385</td>\n",
       "      <td>1.426833</td>\n",
       "      <td>1</td>\n",
       "      <td>1</td>\n",
       "    </tr>\n",
       "    <tr>\n",
       "      <th>192</th>\n",
       "      <td>(Mr. Robot)</td>\n",
       "      <td>(Atypical)</td>\n",
       "      <td>0.109391</td>\n",
       "      <td>0.139938</td>\n",
       "      <td>0.025903</td>\n",
       "      <td>0.236792</td>\n",
       "      <td>1.692123</td>\n",
       "      <td>0.010595</td>\n",
       "      <td>1.126904</td>\n",
       "      <td>1</td>\n",
       "      <td>1</td>\n",
       "    </tr>\n",
       "    <tr>\n",
       "      <th>150</th>\n",
       "      <td>(Mr. Robot)</td>\n",
       "      <td>(Two and a half men)</td>\n",
       "      <td>0.109391</td>\n",
       "      <td>0.183591</td>\n",
       "      <td>0.024561</td>\n",
       "      <td>0.224528</td>\n",
       "      <td>1.222979</td>\n",
       "      <td>0.004478</td>\n",
       "      <td>1.052790</td>\n",
       "      <td>1</td>\n",
       "      <td>1</td>\n",
       "    </tr>\n",
       "    <tr>\n",
       "      <th>382</th>\n",
       "      <td>(Mr. Robot)</td>\n",
       "      <td>(Sex Education, Ozark)</td>\n",
       "      <td>0.109391</td>\n",
       "      <td>0.075129</td>\n",
       "      <td>0.023117</td>\n",
       "      <td>0.211321</td>\n",
       "      <td>2.812772</td>\n",
       "      <td>0.014898</td>\n",
       "      <td>1.172683</td>\n",
       "      <td>1</td>\n",
       "      <td>2</td>\n",
       "    </tr>\n",
       "    <tr>\n",
       "      <th>250</th>\n",
       "      <td>(Mr. Robot)</td>\n",
       "      <td>(The Blacklist)</td>\n",
       "      <td>0.109391</td>\n",
       "      <td>0.104850</td>\n",
       "      <td>0.021053</td>\n",
       "      <td>0.192453</td>\n",
       "      <td>1.835500</td>\n",
       "      <td>0.009583</td>\n",
       "      <td>1.108480</td>\n",
       "      <td>1</td>\n",
       "      <td>1</td>\n",
       "    </tr>\n",
       "    <tr>\n",
       "      <th>255</th>\n",
       "      <td>(Mr. Robot)</td>\n",
       "      <td>(Cobra Kai)</td>\n",
       "      <td>0.109391</td>\n",
       "      <td>0.083075</td>\n",
       "      <td>0.017750</td>\n",
       "      <td>0.162264</td>\n",
       "      <td>1.953217</td>\n",
       "      <td>0.008663</td>\n",
       "      <td>1.094527</td>\n",
       "      <td>1</td>\n",
       "      <td>1</td>\n",
       "    </tr>\n",
       "    <tr>\n",
       "      <th>280</th>\n",
       "      <td>(Mr. Robot)</td>\n",
       "      <td>(Queen of the South)</td>\n",
       "      <td>0.109391</td>\n",
       "      <td>0.052632</td>\n",
       "      <td>0.017337</td>\n",
       "      <td>0.158491</td>\n",
       "      <td>3.011321</td>\n",
       "      <td>0.011580</td>\n",
       "      <td>1.125797</td>\n",
       "      <td>1</td>\n",
       "      <td>1</td>\n",
       "    </tr>\n",
       "    <tr>\n",
       "      <th>262</th>\n",
       "      <td>(Mr. Robot)</td>\n",
       "      <td>(Family Guy)</td>\n",
       "      <td>0.109391</td>\n",
       "      <td>0.071517</td>\n",
       "      <td>0.016925</td>\n",
       "      <td>0.154717</td>\n",
       "      <td>2.163359</td>\n",
       "      <td>0.009101</td>\n",
       "      <td>1.098429</td>\n",
       "      <td>1</td>\n",
       "      <td>1</td>\n",
       "    </tr>\n",
       "    <tr>\n",
       "      <th>259</th>\n",
       "      <td>(Mr. Robot)</td>\n",
       "      <td>(Demon Slayer)</td>\n",
       "      <td>0.109391</td>\n",
       "      <td>0.075439</td>\n",
       "      <td>0.015583</td>\n",
       "      <td>0.142453</td>\n",
       "      <td>1.888328</td>\n",
       "      <td>0.007331</td>\n",
       "      <td>1.078146</td>\n",
       "      <td>1</td>\n",
       "      <td>1</td>\n",
       "    </tr>\n",
       "  </tbody>\n",
       "</table>\n",
       "</div>"
      ],
      "text/plain": [
       "     antecedents             consequents  antecedent support  \\\n",
       "9    (Mr. Robot)         (Sex Education)            0.109391   \n",
       "80   (Mr. Robot)                 (Ozark)            0.109391   \n",
       "192  (Mr. Robot)              (Atypical)            0.109391   \n",
       "150  (Mr. Robot)    (Two and a half men)            0.109391   \n",
       "382  (Mr. Robot)  (Sex Education, Ozark)            0.109391   \n",
       "250  (Mr. Robot)         (The Blacklist)            0.109391   \n",
       "255  (Mr. Robot)             (Cobra Kai)            0.109391   \n",
       "280  (Mr. Robot)    (Queen of the South)            0.109391   \n",
       "262  (Mr. Robot)            (Family Guy)            0.109391   \n",
       "259  (Mr. Robot)          (Demon Slayer)            0.109391   \n",
       "\n",
       "     consequent support   support  confidence      lift  leverage  conviction  \\\n",
       "9              0.255624  0.048916    0.447170  1.749324  0.020953    1.346482   \n",
       "80             0.193705  0.047575    0.434906  2.245198  0.026385    1.426833   \n",
       "192            0.139938  0.025903    0.236792  1.692123  0.010595    1.126904   \n",
       "150            0.183591  0.024561    0.224528  1.222979  0.004478    1.052790   \n",
       "382            0.075129  0.023117    0.211321  2.812772  0.014898    1.172683   \n",
       "250            0.104850  0.021053    0.192453  1.835500  0.009583    1.108480   \n",
       "255            0.083075  0.017750    0.162264  1.953217  0.008663    1.094527   \n",
       "280            0.052632  0.017337    0.158491  3.011321  0.011580    1.125797   \n",
       "262            0.071517  0.016925    0.154717  2.163359  0.009101    1.098429   \n",
       "259            0.075439  0.015583    0.142453  1.888328  0.007331    1.078146   \n",
       "\n",
       "     antecedents_length  consequents_length  \n",
       "9                     1                   1  \n",
       "80                    1                   1  \n",
       "192                   1                   1  \n",
       "150                   1                   1  \n",
       "382                   1                   2  \n",
       "250                   1                   1  \n",
       "255                   1                   1  \n",
       "280                   1                   1  \n",
       "262                   1                   1  \n",
       "259                   1                   1  "
      ]
     },
     "execution_count": 85,
     "metadata": {},
     "output_type": "execute_result"
    }
   ],
   "source": [
    "rules[rules[\"antecedents\"].str.contains(\"Mr. Robot\", regex=False) & rules[\"antecedents_length\"] == 1].sort_values(\"confidence\", ascending=False).head(10)"
   ]
  },
  {
   "cell_type": "code",
   "execution_count": null,
   "id": "4dec1876",
   "metadata": {},
   "outputs": [],
   "source": []
  }
 ],
 "metadata": {
  "kernelspec": {
   "display_name": "Python 3 (ipykernel)",
   "language": "python",
   "name": "python3"
  },
  "language_info": {
   "codemirror_mode": {
    "name": "ipython",
    "version": 3
   },
   "file_extension": ".py",
   "mimetype": "text/x-python",
   "name": "python",
   "nbconvert_exporter": "python",
   "pygments_lexer": "ipython3",
   "version": "3.9.7"
  }
 },
 "nbformat": 4,
 "nbformat_minor": 5
}
